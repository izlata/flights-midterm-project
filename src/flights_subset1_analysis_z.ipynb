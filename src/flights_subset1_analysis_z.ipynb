{
 "cells": [
  {
   "cell_type": "markdown",
   "metadata": {},
   "source": [
    "# Table `flights` - Explore the data"
   ]
  },
  {
   "cell_type": "code",
   "execution_count": 1,
   "metadata": {},
   "outputs": [],
   "source": [
    "import numpy as np\n",
    "import pandas as pd\n",
    "\n",
    "\n",
    "from sklearn.preprocessing import StandardScaler, MinMaxScaler\n",
    "from sklearn.cluster import KMeans\n",
    "from sklearn.decomposition import PCA\n",
    "\n",
    "import matplotlib.pyplot as plt\n",
    "import seaborn as sns\n",
    "#import plotly.express as px"
   ]
  },
  {
   "cell_type": "code",
   "execution_count": 11,
   "metadata": {},
   "outputs": [],
   "source": [
    "sns.set_theme()"
   ]
  },
  {
   "cell_type": "markdown",
   "metadata": {},
   "source": [
    "## Subset 1 from the `flights` table (0.3% of all data, selected randomly)"
   ]
  },
  {
   "cell_type": "code",
   "execution_count": 2,
   "metadata": {},
   "outputs": [
    {
     "data": {
      "text/html": [
       "<div>\n",
       "<style scoped>\n",
       "    .dataframe tbody tr th:only-of-type {\n",
       "        vertical-align: middle;\n",
       "    }\n",
       "\n",
       "    .dataframe tbody tr th {\n",
       "        vertical-align: top;\n",
       "    }\n",
       "\n",
       "    .dataframe thead th {\n",
       "        text-align: right;\n",
       "    }\n",
       "</style>\n",
       "<table border=\"1\" class=\"dataframe\">\n",
       "  <thead>\n",
       "    <tr style=\"text-align: right;\">\n",
       "      <th></th>\n",
       "      <th>fl_date</th>\n",
       "      <th>mkt_unique_carrier</th>\n",
       "      <th>branded_code_share</th>\n",
       "      <th>mkt_carrier</th>\n",
       "      <th>mkt_carrier_fl_num</th>\n",
       "      <th>op_unique_carrier</th>\n",
       "      <th>tail_num</th>\n",
       "      <th>op_carrier_fl_num</th>\n",
       "      <th>origin_airport_id</th>\n",
       "      <th>origin</th>\n",
       "      <th>...</th>\n",
       "      <th>distance</th>\n",
       "      <th>carrier_delay</th>\n",
       "      <th>weather_delay</th>\n",
       "      <th>nas_delay</th>\n",
       "      <th>security_delay</th>\n",
       "      <th>late_aircraft_delay</th>\n",
       "      <th>first_dep_time</th>\n",
       "      <th>total_add_gtime</th>\n",
       "      <th>longest_add_gtime</th>\n",
       "      <th>no_name</th>\n",
       "    </tr>\n",
       "  </thead>\n",
       "  <tbody>\n",
       "    <tr>\n",
       "      <th>0</th>\n",
       "      <td>2018-09-03</td>\n",
       "      <td>WN</td>\n",
       "      <td>WN</td>\n",
       "      <td>WN</td>\n",
       "      <td>2570</td>\n",
       "      <td>WN</td>\n",
       "      <td>N248WN</td>\n",
       "      <td>2570</td>\n",
       "      <td>13232</td>\n",
       "      <td>MDW</td>\n",
       "      <td>...</td>\n",
       "      <td>691.0</td>\n",
       "      <td>NaN</td>\n",
       "      <td>NaN</td>\n",
       "      <td>NaN</td>\n",
       "      <td>NaN</td>\n",
       "      <td>NaN</td>\n",
       "      <td>NaN</td>\n",
       "      <td>NaN</td>\n",
       "      <td>NaN</td>\n",
       "      <td>NaN</td>\n",
       "    </tr>\n",
       "    <tr>\n",
       "      <th>1</th>\n",
       "      <td>2018-09-03</td>\n",
       "      <td>WN</td>\n",
       "      <td>WN</td>\n",
       "      <td>WN</td>\n",
       "      <td>450</td>\n",
       "      <td>WN</td>\n",
       "      <td>N411WN</td>\n",
       "      <td>450</td>\n",
       "      <td>14524</td>\n",
       "      <td>RIC</td>\n",
       "      <td>...</td>\n",
       "      <td>481.0</td>\n",
       "      <td>NaN</td>\n",
       "      <td>NaN</td>\n",
       "      <td>NaN</td>\n",
       "      <td>NaN</td>\n",
       "      <td>NaN</td>\n",
       "      <td>NaN</td>\n",
       "      <td>NaN</td>\n",
       "      <td>NaN</td>\n",
       "      <td>NaN</td>\n",
       "    </tr>\n",
       "    <tr>\n",
       "      <th>2</th>\n",
       "      <td>2018-09-03</td>\n",
       "      <td>WN</td>\n",
       "      <td>WN</td>\n",
       "      <td>WN</td>\n",
       "      <td>1972</td>\n",
       "      <td>WN</td>\n",
       "      <td>N7888A</td>\n",
       "      <td>1972</td>\n",
       "      <td>14679</td>\n",
       "      <td>SAN</td>\n",
       "      <td>...</td>\n",
       "      <td>1313.0</td>\n",
       "      <td>0.0</td>\n",
       "      <td>0.0</td>\n",
       "      <td>7.0</td>\n",
       "      <td>0.0</td>\n",
       "      <td>28.0</td>\n",
       "      <td>NaN</td>\n",
       "      <td>NaN</td>\n",
       "      <td>NaN</td>\n",
       "      <td>NaN</td>\n",
       "    </tr>\n",
       "    <tr>\n",
       "      <th>3</th>\n",
       "      <td>2018-09-03</td>\n",
       "      <td>WN</td>\n",
       "      <td>WN</td>\n",
       "      <td>WN</td>\n",
       "      <td>1368</td>\n",
       "      <td>WN</td>\n",
       "      <td>N8612K</td>\n",
       "      <td>1368</td>\n",
       "      <td>14831</td>\n",
       "      <td>SJC</td>\n",
       "      <td>...</td>\n",
       "      <td>2421.0</td>\n",
       "      <td>0.0</td>\n",
       "      <td>0.0</td>\n",
       "      <td>19.0</td>\n",
       "      <td>0.0</td>\n",
       "      <td>0.0</td>\n",
       "      <td>NaN</td>\n",
       "      <td>NaN</td>\n",
       "      <td>NaN</td>\n",
       "      <td>NaN</td>\n",
       "    </tr>\n",
       "    <tr>\n",
       "      <th>4</th>\n",
       "      <td>2018-09-03</td>\n",
       "      <td>WN</td>\n",
       "      <td>WN</td>\n",
       "      <td>WN</td>\n",
       "      <td>872</td>\n",
       "      <td>WN</td>\n",
       "      <td>N7887A</td>\n",
       "      <td>872</td>\n",
       "      <td>14831</td>\n",
       "      <td>SJC</td>\n",
       "      <td>...</td>\n",
       "      <td>342.0</td>\n",
       "      <td>NaN</td>\n",
       "      <td>NaN</td>\n",
       "      <td>NaN</td>\n",
       "      <td>NaN</td>\n",
       "      <td>NaN</td>\n",
       "      <td>NaN</td>\n",
       "      <td>NaN</td>\n",
       "      <td>NaN</td>\n",
       "      <td>NaN</td>\n",
       "    </tr>\n",
       "  </tbody>\n",
       "</table>\n",
       "<p>5 rows × 42 columns</p>\n",
       "</div>"
      ],
      "text/plain": [
       "      fl_date mkt_unique_carrier branded_code_share mkt_carrier  \\\n",
       "0  2018-09-03                 WN                 WN          WN   \n",
       "1  2018-09-03                 WN                 WN          WN   \n",
       "2  2018-09-03                 WN                 WN          WN   \n",
       "3  2018-09-03                 WN                 WN          WN   \n",
       "4  2018-09-03                 WN                 WN          WN   \n",
       "\n",
       "   mkt_carrier_fl_num op_unique_carrier tail_num  op_carrier_fl_num  \\\n",
       "0                2570                WN   N248WN               2570   \n",
       "1                 450                WN   N411WN                450   \n",
       "2                1972                WN   N7888A               1972   \n",
       "3                1368                WN   N8612K               1368   \n",
       "4                 872                WN   N7887A                872   \n",
       "\n",
       "   origin_airport_id origin  ... distance  carrier_delay weather_delay  \\\n",
       "0              13232    MDW  ...    691.0            NaN           NaN   \n",
       "1              14524    RIC  ...    481.0            NaN           NaN   \n",
       "2              14679    SAN  ...   1313.0            0.0           0.0   \n",
       "3              14831    SJC  ...   2421.0            0.0           0.0   \n",
       "4              14831    SJC  ...    342.0            NaN           NaN   \n",
       "\n",
       "  nas_delay  security_delay  late_aircraft_delay  first_dep_time  \\\n",
       "0       NaN             NaN                  NaN             NaN   \n",
       "1       NaN             NaN                  NaN             NaN   \n",
       "2       7.0             0.0                 28.0             NaN   \n",
       "3      19.0             0.0                  0.0             NaN   \n",
       "4       NaN             NaN                  NaN             NaN   \n",
       "\n",
       "   total_add_gtime  longest_add_gtime  no_name  \n",
       "0              NaN                NaN      NaN  \n",
       "1              NaN                NaN      NaN  \n",
       "2              NaN                NaN      NaN  \n",
       "3              NaN                NaN      NaN  \n",
       "4              NaN                NaN      NaN  \n",
       "\n",
       "[5 rows x 42 columns]"
      ]
     },
     "execution_count": 2,
     "metadata": {},
     "output_type": "execute_result"
    }
   ],
   "source": [
    "flights_sample = pd.read_csv('flights_ran_subset.csv', index_col=0)\n",
    "flights_sample.head()"
   ]
  },
  {
   "cell_type": "markdown",
   "metadata": {},
   "source": [
    "## DataFrame info"
   ]
  },
  {
   "cell_type": "code",
   "execution_count": 3,
   "metadata": {},
   "outputs": [
    {
     "name": "stdout",
     "output_type": "stream",
     "text": [
      "<class 'pandas.core.frame.DataFrame'>\n",
      "Int64Index: 47506 entries, 0 to 47505\n",
      "Data columns (total 42 columns):\n",
      " #   Column               Non-Null Count  Dtype  \n",
      "---  ------               --------------  -----  \n",
      " 0   fl_date              47506 non-null  object \n",
      " 1   mkt_unique_carrier   47506 non-null  object \n",
      " 2   branded_code_share   47506 non-null  object \n",
      " 3   mkt_carrier          47506 non-null  object \n",
      " 4   mkt_carrier_fl_num   47506 non-null  int64  \n",
      " 5   op_unique_carrier    47506 non-null  object \n",
      " 6   tail_num             47360 non-null  object \n",
      " 7   op_carrier_fl_num    47506 non-null  int64  \n",
      " 8   origin_airport_id    47506 non-null  int64  \n",
      " 9   origin               47506 non-null  object \n",
      " 10  origin_city_name     47506 non-null  object \n",
      " 11  dest_airport_id      47506 non-null  int64  \n",
      " 12  dest                 47506 non-null  object \n",
      " 13  dest_city_name       47506 non-null  object \n",
      " 14  crs_dep_time         47506 non-null  int64  \n",
      " 15  dep_time             46742 non-null  float64\n",
      " 16  dep_delay            46727 non-null  float64\n",
      " 17  taxi_out             46686 non-null  float64\n",
      " 18  wheels_off           46686 non-null  float64\n",
      " 19  wheels_on            46665 non-null  float64\n",
      " 20  taxi_in              46665 non-null  float64\n",
      " 21  crs_arr_time         47506 non-null  int64  \n",
      " 22  arr_time             46695 non-null  float64\n",
      " 23  arr_delay            46576 non-null  float64\n",
      " 24  cancelled            47506 non-null  float64\n",
      " 25  cancellation_code    795 non-null    object \n",
      " 26  diverted             47506 non-null  float64\n",
      " 27  dup                  47506 non-null  object \n",
      " 28  crs_elapsed_time     47506 non-null  float64\n",
      " 29  actual_elapsed_time  46582 non-null  float64\n",
      " 30  air_time             46552 non-null  float64\n",
      " 31  flights              47506 non-null  float64\n",
      " 32  distance             47506 non-null  float64\n",
      " 33  carrier_delay        9079 non-null   float64\n",
      " 34  weather_delay        9079 non-null   float64\n",
      " 35  nas_delay            9079 non-null   float64\n",
      " 36  security_delay       9079 non-null   float64\n",
      " 37  late_aircraft_delay  9079 non-null   float64\n",
      " 38  first_dep_time       333 non-null    float64\n",
      " 39  total_add_gtime      333 non-null    float64\n",
      " 40  longest_add_gtime    333 non-null    float64\n",
      " 41  no_name              0 non-null      float64\n",
      "dtypes: float64(24), int64(6), object(12)\n",
      "memory usage: 15.6+ MB\n"
     ]
    }
   ],
   "source": [
    "flights_sample.info()"
   ]
  },
  {
   "cell_type": "markdown",
   "metadata": {},
   "source": [
    "### Percentage of missing values in each column"
   ]
  },
  {
   "cell_type": "code",
   "execution_count": 5,
   "metadata": {},
   "outputs": [
    {
     "data": {
      "text/plain": [
       "fl_date                  0.00\n",
       "mkt_unique_carrier       0.00\n",
       "branded_code_share       0.00\n",
       "mkt_carrier              0.00\n",
       "mkt_carrier_fl_num       0.00\n",
       "op_unique_carrier        0.00\n",
       "tail_num                 0.31\n",
       "op_carrier_fl_num        0.00\n",
       "origin_airport_id        0.00\n",
       "origin                   0.00\n",
       "origin_city_name         0.00\n",
       "dest_airport_id          0.00\n",
       "dest                     0.00\n",
       "dest_city_name           0.00\n",
       "crs_dep_time             0.00\n",
       "dep_time                 1.61\n",
       "dep_delay                1.64\n",
       "taxi_out                 1.73\n",
       "wheels_off               1.73\n",
       "wheels_on                1.77\n",
       "taxi_in                  1.77\n",
       "crs_arr_time             0.00\n",
       "arr_time                 1.71\n",
       "arr_delay                1.96\n",
       "cancelled                0.00\n",
       "cancellation_code       98.33\n",
       "diverted                 0.00\n",
       "dup                      0.00\n",
       "crs_elapsed_time         0.00\n",
       "actual_elapsed_time      1.95\n",
       "air_time                 2.01\n",
       "flights                  0.00\n",
       "distance                 0.00\n",
       "carrier_delay           80.89\n",
       "weather_delay           80.89\n",
       "nas_delay               80.89\n",
       "security_delay          80.89\n",
       "late_aircraft_delay     80.89\n",
       "first_dep_time          99.30\n",
       "total_add_gtime         99.30\n",
       "longest_add_gtime       99.30\n",
       "no_name                100.00\n",
       "dtype: float64"
      ]
     },
     "execution_count": 5,
     "metadata": {},
     "output_type": "execute_result"
    }
   ],
   "source": [
    "round(flights_sample.isnull().sum() / len(flights_sample) * 100, 2)\n",
    "\n",
    "# 1.96% of arr_delay - missing values"
   ]
  },
  {
   "cell_type": "markdown",
   "metadata": {},
   "source": [
    "## Summary statistics"
   ]
  },
  {
   "cell_type": "markdown",
   "metadata": {},
   "source": [
    "### Numeric columns:"
   ]
  },
  {
   "cell_type": "code",
   "execution_count": 9,
   "metadata": {},
   "outputs": [
    {
     "data": {
      "text/html": [
       "<div>\n",
       "<style scoped>\n",
       "    .dataframe tbody tr th:only-of-type {\n",
       "        vertical-align: middle;\n",
       "    }\n",
       "\n",
       "    .dataframe tbody tr th {\n",
       "        vertical-align: top;\n",
       "    }\n",
       "\n",
       "    .dataframe thead th {\n",
       "        text-align: right;\n",
       "    }\n",
       "</style>\n",
       "<table border=\"1\" class=\"dataframe\">\n",
       "  <thead>\n",
       "    <tr style=\"text-align: right;\">\n",
       "      <th></th>\n",
       "      <th>mkt_carrier_fl_num</th>\n",
       "      <th>op_carrier_fl_num</th>\n",
       "      <th>origin_airport_id</th>\n",
       "      <th>dest_airport_id</th>\n",
       "      <th>crs_dep_time</th>\n",
       "      <th>dep_time</th>\n",
       "      <th>dep_delay</th>\n",
       "      <th>taxi_out</th>\n",
       "      <th>wheels_off</th>\n",
       "      <th>wheels_on</th>\n",
       "      <th>...</th>\n",
       "      <th>distance</th>\n",
       "      <th>carrier_delay</th>\n",
       "      <th>weather_delay</th>\n",
       "      <th>nas_delay</th>\n",
       "      <th>security_delay</th>\n",
       "      <th>late_aircraft_delay</th>\n",
       "      <th>first_dep_time</th>\n",
       "      <th>total_add_gtime</th>\n",
       "      <th>longest_add_gtime</th>\n",
       "      <th>no_name</th>\n",
       "    </tr>\n",
       "  </thead>\n",
       "  <tbody>\n",
       "    <tr>\n",
       "      <th>count</th>\n",
       "      <td>47506.000000</td>\n",
       "      <td>47506.000000</td>\n",
       "      <td>47506.000000</td>\n",
       "      <td>47506.000000</td>\n",
       "      <td>47506.000000</td>\n",
       "      <td>46742.000000</td>\n",
       "      <td>46727.000000</td>\n",
       "      <td>46686.00000</td>\n",
       "      <td>46686.000000</td>\n",
       "      <td>46665.000000</td>\n",
       "      <td>...</td>\n",
       "      <td>47506.000000</td>\n",
       "      <td>9079.000000</td>\n",
       "      <td>9079.000000</td>\n",
       "      <td>9079.000000</td>\n",
       "      <td>9079.000000</td>\n",
       "      <td>9079.000000</td>\n",
       "      <td>333.000000</td>\n",
       "      <td>333.000000</td>\n",
       "      <td>333.000000</td>\n",
       "      <td>0.0</td>\n",
       "    </tr>\n",
       "    <tr>\n",
       "      <th>mean</th>\n",
       "      <td>2742.310824</td>\n",
       "      <td>2742.119311</td>\n",
       "      <td>12680.708563</td>\n",
       "      <td>12689.472382</td>\n",
       "      <td>1331.582600</td>\n",
       "      <td>1336.553613</td>\n",
       "      <td>10.579429</td>\n",
       "      <td>17.56126</td>\n",
       "      <td>1361.885319</td>\n",
       "      <td>1461.735412</td>\n",
       "      <td>...</td>\n",
       "      <td>767.277270</td>\n",
       "      <td>21.438705</td>\n",
       "      <td>3.208613</td>\n",
       "      <td>16.195506</td>\n",
       "      <td>0.088005</td>\n",
       "      <td>26.108602</td>\n",
       "      <td>1263.072072</td>\n",
       "      <td>35.552553</td>\n",
       "      <td>34.732733</td>\n",
       "      <td>NaN</td>\n",
       "    </tr>\n",
       "    <tr>\n",
       "      <th>std</th>\n",
       "      <td>1860.962163</td>\n",
       "      <td>1860.877707</td>\n",
       "      <td>1522.347632</td>\n",
       "      <td>1525.752891</td>\n",
       "      <td>488.587162</td>\n",
       "      <td>502.075882</td>\n",
       "      <td>48.613377</td>\n",
       "      <td>10.17658</td>\n",
       "      <td>503.355848</td>\n",
       "      <td>533.270454</td>\n",
       "      <td>...</td>\n",
       "      <td>587.592714</td>\n",
       "      <td>69.990375</td>\n",
       "      <td>25.931759</td>\n",
       "      <td>37.433310</td>\n",
       "      <td>2.429229</td>\n",
       "      <td>51.637575</td>\n",
       "      <td>509.175876</td>\n",
       "      <td>31.381846</td>\n",
       "      <td>30.212860</td>\n",
       "      <td>NaN</td>\n",
       "    </tr>\n",
       "    <tr>\n",
       "      <th>min</th>\n",
       "      <td>1.000000</td>\n",
       "      <td>1.000000</td>\n",
       "      <td>10135.000000</td>\n",
       "      <td>10135.000000</td>\n",
       "      <td>1.000000</td>\n",
       "      <td>1.000000</td>\n",
       "      <td>-40.000000</td>\n",
       "      <td>1.00000</td>\n",
       "      <td>1.000000</td>\n",
       "      <td>1.000000</td>\n",
       "      <td>...</td>\n",
       "      <td>31.000000</td>\n",
       "      <td>0.000000</td>\n",
       "      <td>0.000000</td>\n",
       "      <td>0.000000</td>\n",
       "      <td>0.000000</td>\n",
       "      <td>0.000000</td>\n",
       "      <td>15.000000</td>\n",
       "      <td>1.000000</td>\n",
       "      <td>1.000000</td>\n",
       "      <td>NaN</td>\n",
       "    </tr>\n",
       "    <tr>\n",
       "      <th>25%</th>\n",
       "      <td>1128.000000</td>\n",
       "      <td>1128.000000</td>\n",
       "      <td>11292.000000</td>\n",
       "      <td>11292.000000</td>\n",
       "      <td>918.000000</td>\n",
       "      <td>920.000000</td>\n",
       "      <td>-6.000000</td>\n",
       "      <td>11.00000</td>\n",
       "      <td>936.000000</td>\n",
       "      <td>1046.000000</td>\n",
       "      <td>...</td>\n",
       "      <td>342.000000</td>\n",
       "      <td>0.000000</td>\n",
       "      <td>0.000000</td>\n",
       "      <td>0.000000</td>\n",
       "      <td>0.000000</td>\n",
       "      <td>0.000000</td>\n",
       "      <td>822.000000</td>\n",
       "      <td>16.000000</td>\n",
       "      <td>15.000000</td>\n",
       "      <td>NaN</td>\n",
       "    </tr>\n",
       "    <tr>\n",
       "      <th>50%</th>\n",
       "      <td>2336.000000</td>\n",
       "      <td>2336.000000</td>\n",
       "      <td>12889.000000</td>\n",
       "      <td>12889.000000</td>\n",
       "      <td>1325.000000</td>\n",
       "      <td>1329.000000</td>\n",
       "      <td>-2.000000</td>\n",
       "      <td>15.00000</td>\n",
       "      <td>1343.000000</td>\n",
       "      <td>1502.000000</td>\n",
       "      <td>...</td>\n",
       "      <td>602.000000</td>\n",
       "      <td>0.000000</td>\n",
       "      <td>0.000000</td>\n",
       "      <td>3.000000</td>\n",
       "      <td>0.000000</td>\n",
       "      <td>3.000000</td>\n",
       "      <td>1230.000000</td>\n",
       "      <td>26.000000</td>\n",
       "      <td>26.000000</td>\n",
       "      <td>NaN</td>\n",
       "    </tr>\n",
       "    <tr>\n",
       "      <th>75%</th>\n",
       "      <td>4335.000000</td>\n",
       "      <td>4333.750000</td>\n",
       "      <td>14057.000000</td>\n",
       "      <td>14057.000000</td>\n",
       "      <td>1736.000000</td>\n",
       "      <td>1746.000000</td>\n",
       "      <td>7.000000</td>\n",
       "      <td>20.00000</td>\n",
       "      <td>1802.000000</td>\n",
       "      <td>1910.000000</td>\n",
       "      <td>...</td>\n",
       "      <td>997.000000</td>\n",
       "      <td>17.000000</td>\n",
       "      <td>0.000000</td>\n",
       "      <td>20.000000</td>\n",
       "      <td>0.000000</td>\n",
       "      <td>32.000000</td>\n",
       "      <td>1657.000000</td>\n",
       "      <td>42.000000</td>\n",
       "      <td>42.000000</td>\n",
       "      <td>NaN</td>\n",
       "    </tr>\n",
       "    <tr>\n",
       "      <th>max</th>\n",
       "      <td>9370.000000</td>\n",
       "      <td>9370.000000</td>\n",
       "      <td>16218.000000</td>\n",
       "      <td>16218.000000</td>\n",
       "      <td>2359.000000</td>\n",
       "      <td>2400.000000</td>\n",
       "      <td>1486.000000</td>\n",
       "      <td>169.00000</td>\n",
       "      <td>2400.000000</td>\n",
       "      <td>2400.000000</td>\n",
       "      <td>...</td>\n",
       "      <td>5095.000000</td>\n",
       "      <td>1486.000000</td>\n",
       "      <td>1010.000000</td>\n",
       "      <td>1183.000000</td>\n",
       "      <td>167.000000</td>\n",
       "      <td>997.000000</td>\n",
       "      <td>2347.000000</td>\n",
       "      <td>170.000000</td>\n",
       "      <td>170.000000</td>\n",
       "      <td>NaN</td>\n",
       "    </tr>\n",
       "  </tbody>\n",
       "</table>\n",
       "<p>8 rows × 30 columns</p>\n",
       "</div>"
      ],
      "text/plain": [
       "       mkt_carrier_fl_num  op_carrier_fl_num  origin_airport_id  \\\n",
       "count        47506.000000       47506.000000       47506.000000   \n",
       "mean          2742.310824        2742.119311       12680.708563   \n",
       "std           1860.962163        1860.877707        1522.347632   \n",
       "min              1.000000           1.000000       10135.000000   \n",
       "25%           1128.000000        1128.000000       11292.000000   \n",
       "50%           2336.000000        2336.000000       12889.000000   \n",
       "75%           4335.000000        4333.750000       14057.000000   \n",
       "max           9370.000000        9370.000000       16218.000000   \n",
       "\n",
       "       dest_airport_id  crs_dep_time      dep_time     dep_delay     taxi_out  \\\n",
       "count     47506.000000  47506.000000  46742.000000  46727.000000  46686.00000   \n",
       "mean      12689.472382   1331.582600   1336.553613     10.579429     17.56126   \n",
       "std        1525.752891    488.587162    502.075882     48.613377     10.17658   \n",
       "min       10135.000000      1.000000      1.000000    -40.000000      1.00000   \n",
       "25%       11292.000000    918.000000    920.000000     -6.000000     11.00000   \n",
       "50%       12889.000000   1325.000000   1329.000000     -2.000000     15.00000   \n",
       "75%       14057.000000   1736.000000   1746.000000      7.000000     20.00000   \n",
       "max       16218.000000   2359.000000   2400.000000   1486.000000    169.00000   \n",
       "\n",
       "         wheels_off     wheels_on  ...      distance  carrier_delay  \\\n",
       "count  46686.000000  46665.000000  ...  47506.000000    9079.000000   \n",
       "mean    1361.885319   1461.735412  ...    767.277270      21.438705   \n",
       "std      503.355848    533.270454  ...    587.592714      69.990375   \n",
       "min        1.000000      1.000000  ...     31.000000       0.000000   \n",
       "25%      936.000000   1046.000000  ...    342.000000       0.000000   \n",
       "50%     1343.000000   1502.000000  ...    602.000000       0.000000   \n",
       "75%     1802.000000   1910.000000  ...    997.000000      17.000000   \n",
       "max     2400.000000   2400.000000  ...   5095.000000    1486.000000   \n",
       "\n",
       "       weather_delay    nas_delay  security_delay  late_aircraft_delay  \\\n",
       "count    9079.000000  9079.000000     9079.000000          9079.000000   \n",
       "mean        3.208613    16.195506        0.088005            26.108602   \n",
       "std        25.931759    37.433310        2.429229            51.637575   \n",
       "min         0.000000     0.000000        0.000000             0.000000   \n",
       "25%         0.000000     0.000000        0.000000             0.000000   \n",
       "50%         0.000000     3.000000        0.000000             3.000000   \n",
       "75%         0.000000    20.000000        0.000000            32.000000   \n",
       "max      1010.000000  1183.000000      167.000000           997.000000   \n",
       "\n",
       "       first_dep_time  total_add_gtime  longest_add_gtime  no_name  \n",
       "count      333.000000       333.000000         333.000000      0.0  \n",
       "mean      1263.072072        35.552553          34.732733      NaN  \n",
       "std        509.175876        31.381846          30.212860      NaN  \n",
       "min         15.000000         1.000000           1.000000      NaN  \n",
       "25%        822.000000        16.000000          15.000000      NaN  \n",
       "50%       1230.000000        26.000000          26.000000      NaN  \n",
       "75%       1657.000000        42.000000          42.000000      NaN  \n",
       "max       2347.000000       170.000000         170.000000      NaN  \n",
       "\n",
       "[8 rows x 30 columns]"
      ]
     },
     "execution_count": 9,
     "metadata": {},
     "output_type": "execute_result"
    }
   ],
   "source": [
    "flights_sample.describe()"
   ]
  },
  {
   "cell_type": "code",
   "execution_count": 14,
   "metadata": {},
   "outputs": [
    {
     "data": {
      "text/html": [
       "<div>\n",
       "<style scoped>\n",
       "    .dataframe tbody tr th:only-of-type {\n",
       "        vertical-align: middle;\n",
       "    }\n",
       "\n",
       "    .dataframe tbody tr th {\n",
       "        vertical-align: top;\n",
       "    }\n",
       "\n",
       "    .dataframe thead th {\n",
       "        text-align: right;\n",
       "    }\n",
       "</style>\n",
       "<table border=\"1\" class=\"dataframe\">\n",
       "  <thead>\n",
       "    <tr style=\"text-align: right;\">\n",
       "      <th></th>\n",
       "      <th>dep_delay</th>\n",
       "      <th>arr_delay</th>\n",
       "      <th>cancelled</th>\n",
       "      <th>diverted</th>\n",
       "    </tr>\n",
       "  </thead>\n",
       "  <tbody>\n",
       "    <tr>\n",
       "      <th>count</th>\n",
       "      <td>46727.000000</td>\n",
       "      <td>46576.000000</td>\n",
       "      <td>47506.000000</td>\n",
       "      <td>47506.000000</td>\n",
       "    </tr>\n",
       "    <tr>\n",
       "      <th>mean</th>\n",
       "      <td>10.579429</td>\n",
       "      <td>5.602327</td>\n",
       "      <td>0.016735</td>\n",
       "      <td>0.002715</td>\n",
       "    </tr>\n",
       "    <tr>\n",
       "      <th>std</th>\n",
       "      <td>48.613377</td>\n",
       "      <td>50.677941</td>\n",
       "      <td>0.128277</td>\n",
       "      <td>0.052040</td>\n",
       "    </tr>\n",
       "    <tr>\n",
       "      <th>min</th>\n",
       "      <td>-40.000000</td>\n",
       "      <td>-85.000000</td>\n",
       "      <td>0.000000</td>\n",
       "      <td>0.000000</td>\n",
       "    </tr>\n",
       "    <tr>\n",
       "      <th>25%</th>\n",
       "      <td>-6.000000</td>\n",
       "      <td>-15.000000</td>\n",
       "      <td>0.000000</td>\n",
       "      <td>0.000000</td>\n",
       "    </tr>\n",
       "    <tr>\n",
       "      <th>50%</th>\n",
       "      <td>-2.000000</td>\n",
       "      <td>-6.000000</td>\n",
       "      <td>0.000000</td>\n",
       "      <td>0.000000</td>\n",
       "    </tr>\n",
       "    <tr>\n",
       "      <th>75%</th>\n",
       "      <td>7.000000</td>\n",
       "      <td>8.000000</td>\n",
       "      <td>0.000000</td>\n",
       "      <td>0.000000</td>\n",
       "    </tr>\n",
       "    <tr>\n",
       "      <th>max</th>\n",
       "      <td>1486.000000</td>\n",
       "      <td>1493.000000</td>\n",
       "      <td>1.000000</td>\n",
       "      <td>1.000000</td>\n",
       "    </tr>\n",
       "  </tbody>\n",
       "</table>\n",
       "</div>"
      ],
      "text/plain": [
       "          dep_delay     arr_delay     cancelled      diverted\n",
       "count  46727.000000  46576.000000  47506.000000  47506.000000\n",
       "mean      10.579429      5.602327      0.016735      0.002715\n",
       "std       48.613377     50.677941      0.128277      0.052040\n",
       "min      -40.000000    -85.000000      0.000000      0.000000\n",
       "25%       -6.000000    -15.000000      0.000000      0.000000\n",
       "50%       -2.000000     -6.000000      0.000000      0.000000\n",
       "75%        7.000000      8.000000      0.000000      0.000000\n",
       "max     1486.000000   1493.000000      1.000000      1.000000"
      ]
     },
     "execution_count": 14,
     "metadata": {},
     "output_type": "execute_result"
    }
   ],
   "source": [
    "flights_sample[['dep_delay', 'arr_delay', 'cancelled', 'diverted']].describe()"
   ]
  },
  {
   "cell_type": "code",
   "execution_count": 3,
   "metadata": {},
   "outputs": [
    {
     "data": {
      "text/html": [
       "<div>\n",
       "<style scoped>\n",
       "    .dataframe tbody tr th:only-of-type {\n",
       "        vertical-align: middle;\n",
       "    }\n",
       "\n",
       "    .dataframe tbody tr th {\n",
       "        vertical-align: top;\n",
       "    }\n",
       "\n",
       "    .dataframe thead th {\n",
       "        text-align: right;\n",
       "    }\n",
       "</style>\n",
       "<table border=\"1\" class=\"dataframe\">\n",
       "  <thead>\n",
       "    <tr style=\"text-align: right;\">\n",
       "      <th></th>\n",
       "      <th>crs_dep_time</th>\n",
       "      <th>dep_time</th>\n",
       "      <th>crs_arr_time</th>\n",
       "      <th>arr_time</th>\n",
       "    </tr>\n",
       "  </thead>\n",
       "  <tbody>\n",
       "    <tr>\n",
       "      <th>count</th>\n",
       "      <td>47506.000000</td>\n",
       "      <td>46742.000000</td>\n",
       "      <td>47506.000000</td>\n",
       "      <td>46695.000000</td>\n",
       "    </tr>\n",
       "    <tr>\n",
       "      <th>mean</th>\n",
       "      <td>1331.582600</td>\n",
       "      <td>1336.553613</td>\n",
       "      <td>1486.097903</td>\n",
       "      <td>1466.279088</td>\n",
       "    </tr>\n",
       "    <tr>\n",
       "      <th>std</th>\n",
       "      <td>488.587162</td>\n",
       "      <td>502.075882</td>\n",
       "      <td>517.509013</td>\n",
       "      <td>537.416116</td>\n",
       "    </tr>\n",
       "    <tr>\n",
       "      <th>min</th>\n",
       "      <td>1.000000</td>\n",
       "      <td>1.000000</td>\n",
       "      <td>1.000000</td>\n",
       "      <td>1.000000</td>\n",
       "    </tr>\n",
       "    <tr>\n",
       "      <th>25%</th>\n",
       "      <td>918.000000</td>\n",
       "      <td>920.000000</td>\n",
       "      <td>1100.000000</td>\n",
       "      <td>1050.000000</td>\n",
       "    </tr>\n",
       "    <tr>\n",
       "      <th>50%</th>\n",
       "      <td>1325.000000</td>\n",
       "      <td>1329.000000</td>\n",
       "      <td>1515.000000</td>\n",
       "      <td>1506.000000</td>\n",
       "    </tr>\n",
       "    <tr>\n",
       "      <th>75%</th>\n",
       "      <td>1736.000000</td>\n",
       "      <td>1746.000000</td>\n",
       "      <td>1919.000000</td>\n",
       "      <td>1915.000000</td>\n",
       "    </tr>\n",
       "    <tr>\n",
       "      <th>max</th>\n",
       "      <td>2359.000000</td>\n",
       "      <td>2400.000000</td>\n",
       "      <td>2359.000000</td>\n",
       "      <td>2400.000000</td>\n",
       "    </tr>\n",
       "  </tbody>\n",
       "</table>\n",
       "</div>"
      ],
      "text/plain": [
       "       crs_dep_time      dep_time  crs_arr_time      arr_time\n",
       "count  47506.000000  46742.000000  47506.000000  46695.000000\n",
       "mean    1331.582600   1336.553613   1486.097903   1466.279088\n",
       "std      488.587162    502.075882    517.509013    537.416116\n",
       "min        1.000000      1.000000      1.000000      1.000000\n",
       "25%      918.000000    920.000000   1100.000000   1050.000000\n",
       "50%     1325.000000   1329.000000   1515.000000   1506.000000\n",
       "75%     1736.000000   1746.000000   1919.000000   1915.000000\n",
       "max     2359.000000   2400.000000   2359.000000   2400.000000"
      ]
     },
     "execution_count": 3,
     "metadata": {},
     "output_type": "execute_result"
    }
   ],
   "source": [
    "flights_sample[['crs_dep_time', 'dep_time', 'crs_arr_time', 'arr_time']].describe()\n",
    "\n",
    "# Ranges for time (local time in hhmm):\n",
    "# scheduled time (crs_dep_time, crs_arr_time) - int values from 1 to 2359\n",
    "# actual time (dep_time, arr_time) - float values from 1.0 to 2400.0"
   ]
  },
  {
   "cell_type": "code",
   "execution_count": 4,
   "metadata": {},
   "outputs": [
    {
     "data": {
      "text/html": [
       "<div>\n",
       "<style scoped>\n",
       "    .dataframe tbody tr th:only-of-type {\n",
       "        vertical-align: middle;\n",
       "    }\n",
       "\n",
       "    .dataframe tbody tr th {\n",
       "        vertical-align: top;\n",
       "    }\n",
       "\n",
       "    .dataframe thead th {\n",
       "        text-align: right;\n",
       "    }\n",
       "</style>\n",
       "<table border=\"1\" class=\"dataframe\">\n",
       "  <thead>\n",
       "    <tr style=\"text-align: right;\">\n",
       "      <th></th>\n",
       "      <th>distance</th>\n",
       "      <th>crs_elapsed_time</th>\n",
       "      <th>actual_elapsed_time</th>\n",
       "      <th>air_time</th>\n",
       "    </tr>\n",
       "  </thead>\n",
       "  <tbody>\n",
       "    <tr>\n",
       "      <th>count</th>\n",
       "      <td>47506.000000</td>\n",
       "      <td>47506.000000</td>\n",
       "      <td>46582.000000</td>\n",
       "      <td>46552.000000</td>\n",
       "    </tr>\n",
       "    <tr>\n",
       "      <th>mean</th>\n",
       "      <td>767.277270</td>\n",
       "      <td>137.725087</td>\n",
       "      <td>133.071637</td>\n",
       "      <td>107.899381</td>\n",
       "    </tr>\n",
       "    <tr>\n",
       "      <th>std</th>\n",
       "      <td>587.592714</td>\n",
       "      <td>71.687360</td>\n",
       "      <td>71.836299</td>\n",
       "      <td>69.857965</td>\n",
       "    </tr>\n",
       "    <tr>\n",
       "      <th>min</th>\n",
       "      <td>31.000000</td>\n",
       "      <td>20.000000</td>\n",
       "      <td>19.000000</td>\n",
       "      <td>8.000000</td>\n",
       "    </tr>\n",
       "    <tr>\n",
       "      <th>25%</th>\n",
       "      <td>342.000000</td>\n",
       "      <td>87.000000</td>\n",
       "      <td>82.000000</td>\n",
       "      <td>58.000000</td>\n",
       "    </tr>\n",
       "    <tr>\n",
       "      <th>50%</th>\n",
       "      <td>602.000000</td>\n",
       "      <td>119.000000</td>\n",
       "      <td>114.000000</td>\n",
       "      <td>89.000000</td>\n",
       "    </tr>\n",
       "    <tr>\n",
       "      <th>75%</th>\n",
       "      <td>997.000000</td>\n",
       "      <td>167.000000</td>\n",
       "      <td>163.000000</td>\n",
       "      <td>136.000000</td>\n",
       "    </tr>\n",
       "    <tr>\n",
       "      <th>max</th>\n",
       "      <td>5095.000000</td>\n",
       "      <td>690.000000</td>\n",
       "      <td>714.000000</td>\n",
       "      <td>678.000000</td>\n",
       "    </tr>\n",
       "  </tbody>\n",
       "</table>\n",
       "</div>"
      ],
      "text/plain": [
       "           distance  crs_elapsed_time  actual_elapsed_time      air_time\n",
       "count  47506.000000      47506.000000         46582.000000  46552.000000\n",
       "mean     767.277270        137.725087           133.071637    107.899381\n",
       "std      587.592714         71.687360            71.836299     69.857965\n",
       "min       31.000000         20.000000            19.000000      8.000000\n",
       "25%      342.000000         87.000000            82.000000     58.000000\n",
       "50%      602.000000        119.000000           114.000000     89.000000\n",
       "75%      997.000000        167.000000           163.000000    136.000000\n",
       "max     5095.000000        690.000000           714.000000    678.000000"
      ]
     },
     "execution_count": 4,
     "metadata": {},
     "output_type": "execute_result"
    }
   ],
   "source": [
    "flights_sample[['distance', 'crs_elapsed_time', 'actual_elapsed_time', 'air_time']].describe()\n",
    "\n",
    "# distances: from 31 to 5095 miles"
   ]
  },
  {
   "cell_type": "code",
   "execution_count": 13,
   "metadata": {},
   "outputs": [
    {
     "data": {
      "text/html": [
       "<div>\n",
       "<style scoped>\n",
       "    .dataframe tbody tr th:only-of-type {\n",
       "        vertical-align: middle;\n",
       "    }\n",
       "\n",
       "    .dataframe tbody tr th {\n",
       "        vertical-align: top;\n",
       "    }\n",
       "\n",
       "    .dataframe thead th {\n",
       "        text-align: right;\n",
       "    }\n",
       "</style>\n",
       "<table border=\"1\" class=\"dataframe\">\n",
       "  <thead>\n",
       "    <tr style=\"text-align: right;\">\n",
       "      <th></th>\n",
       "      <th>flights</th>\n",
       "    </tr>\n",
       "  </thead>\n",
       "  <tbody>\n",
       "    <tr>\n",
       "      <th>count</th>\n",
       "      <td>47506.0</td>\n",
       "    </tr>\n",
       "    <tr>\n",
       "      <th>mean</th>\n",
       "      <td>1.0</td>\n",
       "    </tr>\n",
       "    <tr>\n",
       "      <th>std</th>\n",
       "      <td>0.0</td>\n",
       "    </tr>\n",
       "    <tr>\n",
       "      <th>min</th>\n",
       "      <td>1.0</td>\n",
       "    </tr>\n",
       "    <tr>\n",
       "      <th>25%</th>\n",
       "      <td>1.0</td>\n",
       "    </tr>\n",
       "    <tr>\n",
       "      <th>50%</th>\n",
       "      <td>1.0</td>\n",
       "    </tr>\n",
       "    <tr>\n",
       "      <th>75%</th>\n",
       "      <td>1.0</td>\n",
       "    </tr>\n",
       "    <tr>\n",
       "      <th>max</th>\n",
       "      <td>1.0</td>\n",
       "    </tr>\n",
       "  </tbody>\n",
       "</table>\n",
       "</div>"
      ],
      "text/plain": [
       "       flights\n",
       "count  47506.0\n",
       "mean       1.0\n",
       "std        0.0\n",
       "min        1.0\n",
       "25%        1.0\n",
       "50%        1.0\n",
       "75%        1.0\n",
       "max        1.0"
      ]
     },
     "execution_count": 13,
     "metadata": {},
     "output_type": "execute_result"
    }
   ],
   "source": [
    "flights_sample[['flights']].describe()\n",
    "\n",
    "# all values are 1.0"
   ]
  },
  {
   "cell_type": "markdown",
   "metadata": {},
   "source": [
    "### Non-numeric columns:"
   ]
  },
  {
   "cell_type": "code",
   "execution_count": 16,
   "metadata": {},
   "outputs": [
    {
     "data": {
      "text/plain": [
       "Index(['fl_date', 'mkt_unique_carrier', 'branded_code_share', 'mkt_carrier',\n",
       "       'op_unique_carrier', 'tail_num', 'origin', 'origin_city_name', 'dest',\n",
       "       'dest_city_name', 'cancellation_code', 'dup'],\n",
       "      dtype='object')"
      ]
     },
     "execution_count": 16,
     "metadata": {},
     "output_type": "execute_result"
    }
   ],
   "source": [
    "str_cols = flights_sample.dtypes.index[flights_sample.dtypes == 'object']\n",
    "str_cols"
   ]
  },
  {
   "cell_type": "code",
   "execution_count": 17,
   "metadata": {},
   "outputs": [
    {
     "data": {
      "text/html": [
       "<div>\n",
       "<style scoped>\n",
       "    .dataframe tbody tr th:only-of-type {\n",
       "        vertical-align: middle;\n",
       "    }\n",
       "\n",
       "    .dataframe tbody tr th {\n",
       "        vertical-align: top;\n",
       "    }\n",
       "\n",
       "    .dataframe thead th {\n",
       "        text-align: right;\n",
       "    }\n",
       "</style>\n",
       "<table border=\"1\" class=\"dataframe\">\n",
       "  <thead>\n",
       "    <tr style=\"text-align: right;\">\n",
       "      <th></th>\n",
       "      <th>fl_date</th>\n",
       "      <th>mkt_unique_carrier</th>\n",
       "      <th>branded_code_share</th>\n",
       "      <th>mkt_carrier</th>\n",
       "      <th>op_unique_carrier</th>\n",
       "      <th>tail_num</th>\n",
       "      <th>origin</th>\n",
       "      <th>origin_city_name</th>\n",
       "      <th>dest</th>\n",
       "      <th>dest_city_name</th>\n",
       "      <th>cancellation_code</th>\n",
       "      <th>dup</th>\n",
       "    </tr>\n",
       "  </thead>\n",
       "  <tbody>\n",
       "    <tr>\n",
       "      <th>count</th>\n",
       "      <td>47506</td>\n",
       "      <td>47506</td>\n",
       "      <td>47506</td>\n",
       "      <td>47506</td>\n",
       "      <td>47506</td>\n",
       "      <td>47360</td>\n",
       "      <td>47506</td>\n",
       "      <td>47506</td>\n",
       "      <td>47506</td>\n",
       "      <td>47506</td>\n",
       "      <td>795</td>\n",
       "      <td>47506</td>\n",
       "    </tr>\n",
       "    <tr>\n",
       "      <th>unique</th>\n",
       "      <td>730</td>\n",
       "      <td>11</td>\n",
       "      <td>16</td>\n",
       "      <td>11</td>\n",
       "      <td>28</td>\n",
       "      <td>6017</td>\n",
       "      <td>367</td>\n",
       "      <td>361</td>\n",
       "      <td>364</td>\n",
       "      <td>358</td>\n",
       "      <td>3</td>\n",
       "      <td>1</td>\n",
       "    </tr>\n",
       "    <tr>\n",
       "      <th>top</th>\n",
       "      <td>2018-07-23</td>\n",
       "      <td>AA</td>\n",
       "      <td>WN</td>\n",
       "      <td>AA</td>\n",
       "      <td>WN</td>\n",
       "      <td>N495HA</td>\n",
       "      <td>ATL</td>\n",
       "      <td>Chicago, IL</td>\n",
       "      <td>ORD</td>\n",
       "      <td>Chicago, IL</td>\n",
       "      <td>B</td>\n",
       "      <td>N</td>\n",
       "    </tr>\n",
       "    <tr>\n",
       "      <th>freq</th>\n",
       "      <td>93</td>\n",
       "      <td>12268</td>\n",
       "      <td>8117</td>\n",
       "      <td>12268</td>\n",
       "      <td>8117</td>\n",
       "      <td>27</td>\n",
       "      <td>2372</td>\n",
       "      <td>2844</td>\n",
       "      <td>2451</td>\n",
       "      <td>2965</td>\n",
       "      <td>409</td>\n",
       "      <td>47506</td>\n",
       "    </tr>\n",
       "  </tbody>\n",
       "</table>\n",
       "</div>"
      ],
      "text/plain": [
       "           fl_date mkt_unique_carrier branded_code_share mkt_carrier  \\\n",
       "count        47506              47506              47506       47506   \n",
       "unique         730                 11                 16          11   \n",
       "top     2018-07-23                 AA                 WN          AA   \n",
       "freq            93              12268               8117       12268   \n",
       "\n",
       "       op_unique_carrier tail_num origin origin_city_name   dest  \\\n",
       "count              47506    47360  47506            47506  47506   \n",
       "unique                28     6017    367              361    364   \n",
       "top                   WN   N495HA    ATL      Chicago, IL    ORD   \n",
       "freq                8117       27   2372             2844   2451   \n",
       "\n",
       "       dest_city_name cancellation_code    dup  \n",
       "count           47506               795  47506  \n",
       "unique            358                 3      1  \n",
       "top       Chicago, IL                 B      N  \n",
       "freq             2965               409  47506  "
      ]
     },
     "execution_count": 17,
     "metadata": {},
     "output_type": "execute_result"
    }
   ],
   "source": [
    "flights_sample[str_cols].describe()"
   ]
  },
  {
   "cell_type": "markdown",
   "metadata": {},
   "source": [
    "### Cancelled and diverted flights"
   ]
  },
  {
   "cell_type": "code",
   "execution_count": 11,
   "metadata": {},
   "outputs": [
    {
     "data": {
      "text/plain": [
       "0.0    46711\n",
       "1.0      795\n",
       "Name: cancelled, dtype: int64"
      ]
     },
     "execution_count": 11,
     "metadata": {},
     "output_type": "execute_result"
    }
   ],
   "source": [
    "flights_sample['cancelled'].value_counts()"
   ]
  },
  {
   "cell_type": "code",
   "execution_count": 11,
   "metadata": {},
   "outputs": [
    {
     "data": {
      "text/plain": [
       "795"
      ]
     },
     "execution_count": 11,
     "metadata": {},
     "output_type": "execute_result"
    }
   ],
   "source": [
    "flights_sample['arr_delay'][flights_sample['cancelled'] == 1].isnull().sum()\n",
    "\n",
    "# for cancelled flights arr_delay is null"
   ]
  },
  {
   "cell_type": "code",
   "execution_count": 8,
   "metadata": {},
   "outputs": [
    {
     "data": {
      "text/plain": [
       "0.0    47377\n",
       "1.0      129\n",
       "Name: diverted, dtype: int64"
      ]
     },
     "execution_count": 8,
     "metadata": {},
     "output_type": "execute_result"
    }
   ],
   "source": [
    "flights_sample['diverted'].value_counts()"
   ]
  },
  {
   "cell_type": "code",
   "execution_count": 12,
   "metadata": {},
   "outputs": [
    {
     "data": {
      "text/plain": [
       "129"
      ]
     },
     "execution_count": 12,
     "metadata": {},
     "output_type": "execute_result"
    }
   ],
   "source": [
    "flights_sample['arr_delay'][flights_sample['diverted'] == 1].isnull().sum()\n",
    "\n",
    "# for diverted flights arr_delay is null"
   ]
  },
  {
   "cell_type": "markdown",
   "metadata": {},
   "source": [
    "### Different types of delays, proportions in the subset"
   ]
  },
  {
   "cell_type": "code",
   "execution_count": 13,
   "metadata": {},
   "outputs": [
    {
     "data": {
      "text/plain": [
       "16552"
      ]
     },
     "execution_count": 13,
     "metadata": {},
     "output_type": "execute_result"
    }
   ],
   "source": [
    "num_arr_delays = len(flights_sample['arr_delay'][flights_sample['arr_delay'] > 0])\n",
    "num_arr_delays\n",
    "\n",
    "# delays - 34.8% of all flights in this subset"
   ]
  },
  {
   "cell_type": "code",
   "execution_count": 14,
   "metadata": {},
   "outputs": [
    {
     "data": {
      "text/plain": [
       "29128"
      ]
     },
     "execution_count": 14,
     "metadata": {},
     "output_type": "execute_result"
    }
   ],
   "source": [
    "num_arr_delays_neg = len(flights_sample['arr_delay'][flights_sample['arr_delay'] < 0])\n",
    "num_arr_delays_neg\n",
    "\n",
    "# early arrival - 61.3% of flights in the subset"
   ]
  },
  {
   "cell_type": "code",
   "execution_count": 15,
   "metadata": {},
   "outputs": [
    {
     "data": {
      "text/plain": [
       "896"
      ]
     },
     "execution_count": 15,
     "metadata": {},
     "output_type": "execute_result"
    }
   ],
   "source": [
    "num_arr_delays_on_time = len(flights_sample['arr_delay'][flights_sample['arr_delay'] == 0])\n",
    "num_arr_delays_on_time\n",
    "\n",
    "# on time - 1.9%"
   ]
  },
  {
   "cell_type": "code",
   "execution_count": 16,
   "metadata": {},
   "outputs": [
    {
     "data": {
      "text/plain": [
       "930"
      ]
     },
     "execution_count": 16,
     "metadata": {},
     "output_type": "execute_result"
    }
   ],
   "source": [
    "num_arr_delays_null = len(flights_sample['arr_delay'][flights_sample['arr_delay'].isnull()])\n",
    "num_arr_delays_null\n",
    "\n",
    "# missing values (795 cancelled flights + 129 diverted flights + 6 null values for some other reason) - about 2%"
   ]
  },
  {
   "cell_type": "markdown",
   "metadata": {},
   "source": [
    "### Arrival delays histogram"
   ]
  },
  {
   "cell_type": "code",
   "execution_count": 16,
   "metadata": {},
   "outputs": [
    {
     "data": {
      "text/plain": [
       "<seaborn.axisgrid.FacetGrid at 0xb43d9ddb80>"
      ]
     },
     "execution_count": 16,
     "metadata": {},
     "output_type": "execute_result"
    },
    {
     "data": {
      "image/png": "[encoded data removed]",
      "text/plain": [
       "<Figure size 360x360 with 1 Axes>"
      ]
     },
     "metadata": {},
     "output_type": "display_data"
    }
   ],
   "source": [
    "sns.set_theme()\n",
    "sns.displot(data=flights_sample, x='arr_delay', kde=True, bins=500)"
   ]
  },
  {
   "cell_type": "code",
   "execution_count": null,
   "metadata": {},
   "outputs": [],
   "source": [
    "# flights_sample['arr_delay'].plot.hist(bins=500)"
   ]
  },
  {
   "cell_type": "markdown",
   "metadata": {},
   "source": [
    "### dep_delay and arr_delay \n",
    "Strong linear correlation"
   ]
  },
  {
   "cell_type": "code",
   "execution_count": 44,
   "metadata": {},
   "outputs": [
    {
     "data": {
      "text/plain": [
       "<AxesSubplot:xlabel='dep_delay', ylabel='arr_delay'>"
      ]
     },
     "execution_count": 44,
     "metadata": {},
     "output_type": "execute_result"
    },
    {
     "data": {
      "image/png": "[encoded data removed]",
      "text/plain": [
       "<Figure size 432x288 with 1 Axes>"
      ]
     },
     "metadata": {},
     "output_type": "display_data"
    }
   ],
   "source": [
    "sns.regplot(data=flights_sample, x='dep_delay', y='arr_delay')"
   ]
  },
  {
   "cell_type": "markdown",
   "metadata": {},
   "source": [
    "## Airports (origin_airport_id, dest_airport_id)"
   ]
  },
  {
   "cell_type": "code",
   "execution_count": 18,
   "metadata": {},
   "outputs": [
    {
     "data": {
      "text/plain": [
       "367"
      ]
     },
     "execution_count": 18,
     "metadata": {},
     "output_type": "execute_result"
    }
   ],
   "source": [
    "len(flights_sample['origin_airport_id'].unique())"
   ]
  },
  {
   "cell_type": "code",
   "execution_count": 19,
   "metadata": {},
   "outputs": [
    {
     "data": {
      "text/plain": [
       "367"
      ]
     },
     "execution_count": 19,
     "metadata": {},
     "output_type": "execute_result"
    }
   ],
   "source": [
    "len(flights_sample['origin'].unique())"
   ]
  },
  {
   "cell_type": "code",
   "execution_count": 20,
   "metadata": {},
   "outputs": [
    {
     "data": {
      "text/plain": [
       "364"
      ]
     },
     "execution_count": 20,
     "metadata": {},
     "output_type": "execute_result"
    }
   ],
   "source": [
    "len(flights_sample['dest_airport_id'].unique())"
   ]
  },
  {
   "cell_type": "code",
   "execution_count": 21,
   "metadata": {},
   "outputs": [
    {
     "data": {
      "text/plain": [
       "364"
      ]
     },
     "execution_count": 21,
     "metadata": {},
     "output_type": "execute_result"
    }
   ],
   "source": [
    "len(flights_sample['dest'].unique())"
   ]
  },
  {
   "cell_type": "markdown",
   "metadata": {},
   "source": [
    "### Unique airports in the subset"
   ]
  },
  {
   "cell_type": "code",
   "execution_count": 46,
   "metadata": {},
   "outputs": [
    {
     "data": {
      "text/plain": [
       "369"
      ]
     },
     "execution_count": 46,
     "metadata": {},
     "output_type": "execute_result"
    }
   ],
   "source": [
    "origin_set = set(flights_sample['origin_airport_id'].unique())\n",
    "dest_set = set(flights_sample['dest_airport_id'].unique())\n",
    "airports_set = origin_set | dest_set\n",
    "len(airports_set)\n",
    "\n",
    "# at least 369 airports\n",
    "# ! need to check their number in the original dataset"
   ]
  },
  {
   "cell_type": "markdown",
   "metadata": {},
   "source": [
    "### Delays by origin"
   ]
  },
  {
   "cell_type": "code",
   "execution_count": 6,
   "metadata": {},
   "outputs": [
    {
     "data": {
      "text/html": [
       "<div>\n",
       "<style scoped>\n",
       "    .dataframe tbody tr th:only-of-type {\n",
       "        vertical-align: middle;\n",
       "    }\n",
       "\n",
       "    .dataframe tbody tr th {\n",
       "        vertical-align: top;\n",
       "    }\n",
       "\n",
       "    .dataframe thead th {\n",
       "        text-align: right;\n",
       "    }\n",
       "</style>\n",
       "<table border=\"1\" class=\"dataframe\">\n",
       "  <thead>\n",
       "    <tr style=\"text-align: right;\">\n",
       "      <th></th>\n",
       "      <th>dep_delay</th>\n",
       "      <th>arr_delay</th>\n",
       "    </tr>\n",
       "    <tr>\n",
       "      <th>origin</th>\n",
       "      <th></th>\n",
       "      <th></th>\n",
       "    </tr>\n",
       "  </thead>\n",
       "  <tbody>\n",
       "    <tr>\n",
       "      <th>ABE</th>\n",
       "      <td>-0.500000</td>\n",
       "      <td>-3.638889</td>\n",
       "    </tr>\n",
       "    <tr>\n",
       "      <th>ABI</th>\n",
       "      <td>16.555556</td>\n",
       "      <td>15.666667</td>\n",
       "    </tr>\n",
       "    <tr>\n",
       "      <th>ABQ</th>\n",
       "      <td>7.143750</td>\n",
       "      <td>2.712500</td>\n",
       "    </tr>\n",
       "    <tr>\n",
       "      <th>ABR</th>\n",
       "      <td>0.000000</td>\n",
       "      <td>-6.000000</td>\n",
       "    </tr>\n",
       "    <tr>\n",
       "      <th>ABY</th>\n",
       "      <td>-3.363636</td>\n",
       "      <td>-7.272727</td>\n",
       "    </tr>\n",
       "    <tr>\n",
       "      <th>...</th>\n",
       "      <td>...</td>\n",
       "      <td>...</td>\n",
       "    </tr>\n",
       "    <tr>\n",
       "      <th>WYS</th>\n",
       "      <td>5.500000</td>\n",
       "      <td>11.500000</td>\n",
       "    </tr>\n",
       "    <tr>\n",
       "      <th>XNA</th>\n",
       "      <td>17.101010</td>\n",
       "      <td>14.948980</td>\n",
       "    </tr>\n",
       "    <tr>\n",
       "      <th>YAK</th>\n",
       "      <td>-13.333333</td>\n",
       "      <td>-17.166667</td>\n",
       "    </tr>\n",
       "    <tr>\n",
       "      <th>YKM</th>\n",
       "      <td>0.200000</td>\n",
       "      <td>-3.100000</td>\n",
       "    </tr>\n",
       "    <tr>\n",
       "      <th>YUM</th>\n",
       "      <td>-6.500000</td>\n",
       "      <td>-8.166667</td>\n",
       "    </tr>\n",
       "  </tbody>\n",
       "</table>\n",
       "<p>367 rows × 2 columns</p>\n",
       "</div>"
      ],
      "text/plain": [
       "        dep_delay  arr_delay\n",
       "origin                      \n",
       "ABE     -0.500000  -3.638889\n",
       "ABI     16.555556  15.666667\n",
       "ABQ      7.143750   2.712500\n",
       "ABR      0.000000  -6.000000\n",
       "ABY     -3.363636  -7.272727\n",
       "...           ...        ...\n",
       "WYS      5.500000  11.500000\n",
       "XNA     17.101010  14.948980\n",
       "YAK    -13.333333 -17.166667\n",
       "YKM      0.200000  -3.100000\n",
       "YUM     -6.500000  -8.166667\n",
       "\n",
       "[367 rows x 2 columns]"
      ]
     },
     "execution_count": 6,
     "metadata": {},
     "output_type": "execute_result"
    }
   ],
   "source": [
    "delays_by_origin = flights_sample[['origin', 'dep_delay','arr_delay']].groupby('origin').mean()\n",
    "delays_by_origin"
   ]
  },
  {
   "cell_type": "markdown",
   "metadata": {},
   "source": [
    "Sort by arr_delay, descending order:"
   ]
  },
  {
   "cell_type": "code",
   "execution_count": 8,
   "metadata": {},
   "outputs": [
    {
     "data": {
      "text/html": [
       "<div>\n",
       "<style scoped>\n",
       "    .dataframe tbody tr th:only-of-type {\n",
       "        vertical-align: middle;\n",
       "    }\n",
       "\n",
       "    .dataframe tbody tr th {\n",
       "        vertical-align: top;\n",
       "    }\n",
       "\n",
       "    .dataframe thead th {\n",
       "        text-align: right;\n",
       "    }\n",
       "</style>\n",
       "<table border=\"1\" class=\"dataframe\">\n",
       "  <thead>\n",
       "    <tr style=\"text-align: right;\">\n",
       "      <th></th>\n",
       "      <th>dep_delay</th>\n",
       "      <th>arr_delay</th>\n",
       "    </tr>\n",
       "    <tr>\n",
       "      <th>origin</th>\n",
       "      <th></th>\n",
       "      <th></th>\n",
       "    </tr>\n",
       "  </thead>\n",
       "  <tbody>\n",
       "    <tr>\n",
       "      <th>SLN</th>\n",
       "      <td>166.333333</td>\n",
       "      <td>161.222222</td>\n",
       "    </tr>\n",
       "    <tr>\n",
       "      <th>IPT</th>\n",
       "      <td>129.666667</td>\n",
       "      <td>135.000000</td>\n",
       "    </tr>\n",
       "    <tr>\n",
       "      <th>BKG</th>\n",
       "      <td>123.000000</td>\n",
       "      <td>121.000000</td>\n",
       "    </tr>\n",
       "    <tr>\n",
       "      <th>OWB</th>\n",
       "      <td>104.000000</td>\n",
       "      <td>99.000000</td>\n",
       "    </tr>\n",
       "    <tr>\n",
       "      <th>SCK</th>\n",
       "      <td>91.166667</td>\n",
       "      <td>89.333333</td>\n",
       "    </tr>\n",
       "    <tr>\n",
       "      <th>MKK</th>\n",
       "      <td>79.571429</td>\n",
       "      <td>83.714286</td>\n",
       "    </tr>\n",
       "    <tr>\n",
       "      <th>JMS</th>\n",
       "      <td>79.444444</td>\n",
       "      <td>82.888889</td>\n",
       "    </tr>\n",
       "    <tr>\n",
       "      <th>DVL</th>\n",
       "      <td>80.166667</td>\n",
       "      <td>76.000000</td>\n",
       "    </tr>\n",
       "    <tr>\n",
       "      <th>CDC</th>\n",
       "      <td>64.750000</td>\n",
       "      <td>66.500000</td>\n",
       "    </tr>\n",
       "    <tr>\n",
       "      <th>TOL</th>\n",
       "      <td>67.454545</td>\n",
       "      <td>64.090909</td>\n",
       "    </tr>\n",
       "    <tr>\n",
       "      <th>ACK</th>\n",
       "      <td>49.000000</td>\n",
       "      <td>51.555556</td>\n",
       "    </tr>\n",
       "    <tr>\n",
       "      <th>ACV</th>\n",
       "      <td>50.900000</td>\n",
       "      <td>47.400000</td>\n",
       "    </tr>\n",
       "    <tr>\n",
       "      <th>LWB</th>\n",
       "      <td>42.200000</td>\n",
       "      <td>46.000000</td>\n",
       "    </tr>\n",
       "    <tr>\n",
       "      <th>MEI</th>\n",
       "      <td>47.800000</td>\n",
       "      <td>45.800000</td>\n",
       "    </tr>\n",
       "    <tr>\n",
       "      <th>RFD</th>\n",
       "      <td>55.500000</td>\n",
       "      <td>45.500000</td>\n",
       "    </tr>\n",
       "    <tr>\n",
       "      <th>MVY</th>\n",
       "      <td>47.142857</td>\n",
       "      <td>44.285714</td>\n",
       "    </tr>\n",
       "    <tr>\n",
       "      <th>SBY</th>\n",
       "      <td>41.500000</td>\n",
       "      <td>40.500000</td>\n",
       "    </tr>\n",
       "    <tr>\n",
       "      <th>SAF</th>\n",
       "      <td>41.750000</td>\n",
       "      <td>38.687500</td>\n",
       "    </tr>\n",
       "    <tr>\n",
       "      <th>PIB</th>\n",
       "      <td>37.400000</td>\n",
       "      <td>38.400000</td>\n",
       "    </tr>\n",
       "    <tr>\n",
       "      <th>ITH</th>\n",
       "      <td>36.384615</td>\n",
       "      <td>34.307692</td>\n",
       "    </tr>\n",
       "  </tbody>\n",
       "</table>\n",
       "</div>"
      ],
      "text/plain": [
       "         dep_delay   arr_delay\n",
       "origin                        \n",
       "SLN     166.333333  161.222222\n",
       "IPT     129.666667  135.000000\n",
       "BKG     123.000000  121.000000\n",
       "OWB     104.000000   99.000000\n",
       "SCK      91.166667   89.333333\n",
       "MKK      79.571429   83.714286\n",
       "JMS      79.444444   82.888889\n",
       "DVL      80.166667   76.000000\n",
       "CDC      64.750000   66.500000\n",
       "TOL      67.454545   64.090909\n",
       "ACK      49.000000   51.555556\n",
       "ACV      50.900000   47.400000\n",
       "LWB      42.200000   46.000000\n",
       "MEI      47.800000   45.800000\n",
       "RFD      55.500000   45.500000\n",
       "MVY      47.142857   44.285714\n",
       "SBY      41.500000   40.500000\n",
       "SAF      41.750000   38.687500\n",
       "PIB      37.400000   38.400000\n",
       "ITH      36.384615   34.307692"
      ]
     },
     "execution_count": 8,
     "metadata": {},
     "output_type": "execute_result"
    }
   ],
   "source": [
    "delays_by_origin.sort_values('arr_delay', ascending=False).head(20)\n",
    "\n",
    "# high average arr delays were at the airports with high average dep delays"
   ]
  },
  {
   "cell_type": "code",
   "execution_count": 9,
   "metadata": {},
   "outputs": [
    {
     "data": {
      "text/html": [
       "<div>\n",
       "<style scoped>\n",
       "    .dataframe tbody tr th:only-of-type {\n",
       "        vertical-align: middle;\n",
       "    }\n",
       "\n",
       "    .dataframe tbody tr th {\n",
       "        vertical-align: top;\n",
       "    }\n",
       "\n",
       "    .dataframe thead th {\n",
       "        text-align: right;\n",
       "    }\n",
       "</style>\n",
       "<table border=\"1\" class=\"dataframe\">\n",
       "  <thead>\n",
       "    <tr style=\"text-align: right;\">\n",
       "      <th></th>\n",
       "      <th>dep_delay</th>\n",
       "      <th>arr_delay</th>\n",
       "    </tr>\n",
       "    <tr>\n",
       "      <th>origin</th>\n",
       "      <th></th>\n",
       "      <th></th>\n",
       "    </tr>\n",
       "  </thead>\n",
       "  <tbody>\n",
       "    <tr>\n",
       "      <th>LBF</th>\n",
       "      <td>-15.000000</td>\n",
       "      <td>-15.750000</td>\n",
       "    </tr>\n",
       "    <tr>\n",
       "      <th>GTR</th>\n",
       "      <td>-5.000000</td>\n",
       "      <td>-15.750000</td>\n",
       "    </tr>\n",
       "    <tr>\n",
       "      <th>ART</th>\n",
       "      <td>-5.000000</td>\n",
       "      <td>-16.000000</td>\n",
       "    </tr>\n",
       "    <tr>\n",
       "      <th>BGM</th>\n",
       "      <td>-6.250000</td>\n",
       "      <td>-16.750000</td>\n",
       "    </tr>\n",
       "    <tr>\n",
       "      <th>ESC</th>\n",
       "      <td>-8.500000</td>\n",
       "      <td>-17.000000</td>\n",
       "    </tr>\n",
       "    <tr>\n",
       "      <th>RKS</th>\n",
       "      <td>-2.000000</td>\n",
       "      <td>-17.000000</td>\n",
       "    </tr>\n",
       "    <tr>\n",
       "      <th>MHK</th>\n",
       "      <td>-3.818182</td>\n",
       "      <td>-17.090909</td>\n",
       "    </tr>\n",
       "    <tr>\n",
       "      <th>YAK</th>\n",
       "      <td>-13.333333</td>\n",
       "      <td>-17.166667</td>\n",
       "    </tr>\n",
       "    <tr>\n",
       "      <th>HDN</th>\n",
       "      <td>-7.800000</td>\n",
       "      <td>-17.800000</td>\n",
       "    </tr>\n",
       "    <tr>\n",
       "      <th>HVN</th>\n",
       "      <td>-10.250000</td>\n",
       "      <td>-18.000000</td>\n",
       "    </tr>\n",
       "    <tr>\n",
       "      <th>GGG</th>\n",
       "      <td>-9.000000</td>\n",
       "      <td>-20.500000</td>\n",
       "    </tr>\n",
       "    <tr>\n",
       "      <th>ADQ</th>\n",
       "      <td>-20.333333</td>\n",
       "      <td>-20.666667</td>\n",
       "    </tr>\n",
       "    <tr>\n",
       "      <th>EAU</th>\n",
       "      <td>-14.000000</td>\n",
       "      <td>-21.000000</td>\n",
       "    </tr>\n",
       "    <tr>\n",
       "      <th>CYS</th>\n",
       "      <td>-5.000000</td>\n",
       "      <td>-21.000000</td>\n",
       "    </tr>\n",
       "    <tr>\n",
       "      <th>SCC</th>\n",
       "      <td>-13.000000</td>\n",
       "      <td>-21.833333</td>\n",
       "    </tr>\n",
       "    <tr>\n",
       "      <th>UIN</th>\n",
       "      <td>-14.000000</td>\n",
       "      <td>-22.000000</td>\n",
       "    </tr>\n",
       "    <tr>\n",
       "      <th>APN</th>\n",
       "      <td>-11.400000</td>\n",
       "      <td>-23.400000</td>\n",
       "    </tr>\n",
       "    <tr>\n",
       "      <th>LBE</th>\n",
       "      <td>-10.800000</td>\n",
       "      <td>-24.400000</td>\n",
       "    </tr>\n",
       "    <tr>\n",
       "      <th>PIR</th>\n",
       "      <td>-20.500000</td>\n",
       "      <td>-32.000000</td>\n",
       "    </tr>\n",
       "    <tr>\n",
       "      <th>OGS</th>\n",
       "      <td>-18.000000</td>\n",
       "      <td>-38.000000</td>\n",
       "    </tr>\n",
       "  </tbody>\n",
       "</table>\n",
       "</div>"
      ],
      "text/plain": [
       "        dep_delay  arr_delay\n",
       "origin                      \n",
       "LBF    -15.000000 -15.750000\n",
       "GTR     -5.000000 -15.750000\n",
       "ART     -5.000000 -16.000000\n",
       "BGM     -6.250000 -16.750000\n",
       "ESC     -8.500000 -17.000000\n",
       "RKS     -2.000000 -17.000000\n",
       "MHK     -3.818182 -17.090909\n",
       "YAK    -13.333333 -17.166667\n",
       "HDN     -7.800000 -17.800000\n",
       "HVN    -10.250000 -18.000000\n",
       "GGG     -9.000000 -20.500000\n",
       "ADQ    -20.333333 -20.666667\n",
       "EAU    -14.000000 -21.000000\n",
       "CYS     -5.000000 -21.000000\n",
       "SCC    -13.000000 -21.833333\n",
       "UIN    -14.000000 -22.000000\n",
       "APN    -11.400000 -23.400000\n",
       "LBE    -10.800000 -24.400000\n",
       "PIR    -20.500000 -32.000000\n",
       "OGS    -18.000000 -38.000000"
      ]
     },
     "execution_count": 9,
     "metadata": {},
     "output_type": "execute_result"
    }
   ],
   "source": [
    "delays_by_origin.sort_values('arr_delay', ascending=False).tail(20)"
   ]
  },
  {
   "cell_type": "markdown",
   "metadata": {},
   "source": [
    "### Delays by origin and dest"
   ]
  },
  {
   "cell_type": "code",
   "execution_count": 12,
   "metadata": {},
   "outputs": [
    {
     "data": {
      "text/html": [
       "<div>\n",
       "<style scoped>\n",
       "    .dataframe tbody tr th:only-of-type {\n",
       "        vertical-align: middle;\n",
       "    }\n",
       "\n",
       "    .dataframe tbody tr th {\n",
       "        vertical-align: top;\n",
       "    }\n",
       "\n",
       "    .dataframe thead th {\n",
       "        text-align: right;\n",
       "    }\n",
       "</style>\n",
       "<table border=\"1\" class=\"dataframe\">\n",
       "  <thead>\n",
       "    <tr style=\"text-align: right;\">\n",
       "      <th></th>\n",
       "      <th></th>\n",
       "      <th>dep_delay</th>\n",
       "      <th>arr_delay</th>\n",
       "      <th>crs_elapsed_time</th>\n",
       "      <th>air_time</th>\n",
       "      <th>distance</th>\n",
       "    </tr>\n",
       "    <tr>\n",
       "      <th>origin</th>\n",
       "      <th>dest</th>\n",
       "      <th></th>\n",
       "      <th></th>\n",
       "      <th></th>\n",
       "      <th></th>\n",
       "      <th></th>\n",
       "    </tr>\n",
       "  </thead>\n",
       "  <tbody>\n",
       "    <tr>\n",
       "      <th rowspan=\"5\" valign=\"top\">ABE</th>\n",
       "      <th>ATL</th>\n",
       "      <td>1.555556</td>\n",
       "      <td>2.333333</td>\n",
       "      <td>131.222222</td>\n",
       "      <td>101.888889</td>\n",
       "      <td>692.000</td>\n",
       "    </tr>\n",
       "    <tr>\n",
       "      <th>CLT</th>\n",
       "      <td>-3.000000</td>\n",
       "      <td>-10.600000</td>\n",
       "      <td>128.800000</td>\n",
       "      <td>93.600000</td>\n",
       "      <td>481.000</td>\n",
       "    </tr>\n",
       "    <tr>\n",
       "      <th>DTW</th>\n",
       "      <td>4.000000</td>\n",
       "      <td>-2.200000</td>\n",
       "      <td>107.833333</td>\n",
       "      <td>80.200000</td>\n",
       "      <td>425.000</td>\n",
       "    </tr>\n",
       "    <tr>\n",
       "      <th>FLL</th>\n",
       "      <td>-3.000000</td>\n",
       "      <td>-11.000000</td>\n",
       "      <td>170.000000</td>\n",
       "      <td>148.000000</td>\n",
       "      <td>1041.000</td>\n",
       "    </tr>\n",
       "    <tr>\n",
       "      <th>ORD</th>\n",
       "      <td>4.500000</td>\n",
       "      <td>0.375000</td>\n",
       "      <td>143.250000</td>\n",
       "      <td>112.375000</td>\n",
       "      <td>654.125</td>\n",
       "    </tr>\n",
       "    <tr>\n",
       "      <th>...</th>\n",
       "      <th>...</th>\n",
       "      <td>...</td>\n",
       "      <td>...</td>\n",
       "      <td>...</td>\n",
       "      <td>...</td>\n",
       "      <td>...</td>\n",
       "    </tr>\n",
       "    <tr>\n",
       "      <th rowspan=\"2\" valign=\"top\">YAK</th>\n",
       "      <th>CDV</th>\n",
       "      <td>-20.000000</td>\n",
       "      <td>-27.500000</td>\n",
       "      <td>51.000000</td>\n",
       "      <td>36.000000</td>\n",
       "      <td>213.000</td>\n",
       "    </tr>\n",
       "    <tr>\n",
       "      <th>JNU</th>\n",
       "      <td>-10.000000</td>\n",
       "      <td>-12.000000</td>\n",
       "      <td>48.750000</td>\n",
       "      <td>33.500000</td>\n",
       "      <td>198.000</td>\n",
       "    </tr>\n",
       "    <tr>\n",
       "      <th>YKM</th>\n",
       "      <th>SEA</th>\n",
       "      <td>0.200000</td>\n",
       "      <td>-3.100000</td>\n",
       "      <td>46.100000</td>\n",
       "      <td>28.600000</td>\n",
       "      <td>103.000</td>\n",
       "    </tr>\n",
       "    <tr>\n",
       "      <th rowspan=\"2\" valign=\"top\">YUM</th>\n",
       "      <th>DFW</th>\n",
       "      <td>-8.500000</td>\n",
       "      <td>-8.000000</td>\n",
       "      <td>161.000000</td>\n",
       "      <td>135.000000</td>\n",
       "      <td>1022.000</td>\n",
       "    </tr>\n",
       "    <tr>\n",
       "      <th>PHX</th>\n",
       "      <td>-5.500000</td>\n",
       "      <td>-8.250000</td>\n",
       "      <td>55.750000</td>\n",
       "      <td>32.000000</td>\n",
       "      <td>160.000</td>\n",
       "    </tr>\n",
       "  </tbody>\n",
       "</table>\n",
       "<p>5349 rows × 5 columns</p>\n",
       "</div>"
      ],
      "text/plain": [
       "             dep_delay  arr_delay  crs_elapsed_time    air_time  distance\n",
       "origin dest                                                              \n",
       "ABE    ATL    1.555556   2.333333        131.222222  101.888889   692.000\n",
       "       CLT   -3.000000 -10.600000        128.800000   93.600000   481.000\n",
       "       DTW    4.000000  -2.200000        107.833333   80.200000   425.000\n",
       "       FLL   -3.000000 -11.000000        170.000000  148.000000  1041.000\n",
       "       ORD    4.500000   0.375000        143.250000  112.375000   654.125\n",
       "...                ...        ...               ...         ...       ...\n",
       "YAK    CDV  -20.000000 -27.500000         51.000000   36.000000   213.000\n",
       "       JNU  -10.000000 -12.000000         48.750000   33.500000   198.000\n",
       "YKM    SEA    0.200000  -3.100000         46.100000   28.600000   103.000\n",
       "YUM    DFW   -8.500000  -8.000000        161.000000  135.000000  1022.000\n",
       "       PHX   -5.500000  -8.250000         55.750000   32.000000   160.000\n",
       "\n",
       "[5349 rows x 5 columns]"
      ]
     },
     "execution_count": 12,
     "metadata": {},
     "output_type": "execute_result"
    }
   ],
   "source": [
    "delays_by_origin_dest = flights_sample[['origin', 'dest', 'dep_delay', 'arr_delay', \n",
    "                                        'crs_elapsed_time', 'air_time', 'distance']].groupby(['origin', 'dest']).mean()\n",
    "delays_by_origin_dest"
   ]
  },
  {
   "cell_type": "code",
   "execution_count": 13,
   "metadata": {},
   "outputs": [
    {
     "data": {
      "text/html": [
       "<div>\n",
       "<style scoped>\n",
       "    .dataframe tbody tr th:only-of-type {\n",
       "        vertical-align: middle;\n",
       "    }\n",
       "\n",
       "    .dataframe tbody tr th {\n",
       "        vertical-align: top;\n",
       "    }\n",
       "\n",
       "    .dataframe thead th {\n",
       "        text-align: right;\n",
       "    }\n",
       "</style>\n",
       "<table border=\"1\" class=\"dataframe\">\n",
       "  <thead>\n",
       "    <tr style=\"text-align: right;\">\n",
       "      <th></th>\n",
       "      <th></th>\n",
       "      <th>dep_delay</th>\n",
       "      <th>arr_delay</th>\n",
       "      <th>crs_elapsed_time</th>\n",
       "      <th>air_time</th>\n",
       "      <th>distance</th>\n",
       "    </tr>\n",
       "    <tr>\n",
       "      <th>origin</th>\n",
       "      <th>dest</th>\n",
       "      <th></th>\n",
       "      <th></th>\n",
       "      <th></th>\n",
       "      <th></th>\n",
       "      <th></th>\n",
       "    </tr>\n",
       "  </thead>\n",
       "  <tbody>\n",
       "    <tr>\n",
       "      <th>ACV</th>\n",
       "      <th>DEN</th>\n",
       "      <td>447.000000</td>\n",
       "      <td>444.000000</td>\n",
       "      <td>163.000000</td>\n",
       "      <td>138.000000</td>\n",
       "      <td>1026.0</td>\n",
       "    </tr>\n",
       "    <tr>\n",
       "      <th>EWR</th>\n",
       "      <th>AVP</th>\n",
       "      <td>375.500000</td>\n",
       "      <td>368.500000</td>\n",
       "      <td>75.000000</td>\n",
       "      <td>27.000000</td>\n",
       "      <td>93.0</td>\n",
       "    </tr>\n",
       "    <tr>\n",
       "      <th>JAX</th>\n",
       "      <th>EWR</th>\n",
       "      <td>316.000000</td>\n",
       "      <td>309.750000</td>\n",
       "      <td>147.000000</td>\n",
       "      <td>109.750000</td>\n",
       "      <td>820.0</td>\n",
       "    </tr>\n",
       "    <tr>\n",
       "      <th>ORD</th>\n",
       "      <th>EGE</th>\n",
       "      <td>310.333333</td>\n",
       "      <td>309.000000</td>\n",
       "      <td>174.000000</td>\n",
       "      <td>155.333333</td>\n",
       "      <td>1007.0</td>\n",
       "    </tr>\n",
       "    <tr>\n",
       "      <th>SJC</th>\n",
       "      <th>ORD</th>\n",
       "      <td>308.600000</td>\n",
       "      <td>306.000000</td>\n",
       "      <td>253.200000</td>\n",
       "      <td>222.000000</td>\n",
       "      <td>1829.0</td>\n",
       "    </tr>\n",
       "    <tr>\n",
       "      <th rowspan=\"2\" valign=\"top\">PHX</th>\n",
       "      <th>HNL</th>\n",
       "      <td>309.250000</td>\n",
       "      <td>298.750000</td>\n",
       "      <td>412.250000</td>\n",
       "      <td>386.750000</td>\n",
       "      <td>2917.0</td>\n",
       "    </tr>\n",
       "    <tr>\n",
       "      <th>LGB</th>\n",
       "      <td>250.666667</td>\n",
       "      <td>253.000000</td>\n",
       "      <td>76.666667</td>\n",
       "      <td>57.333333</td>\n",
       "      <td>355.0</td>\n",
       "    </tr>\n",
       "    <tr>\n",
       "      <th>EWR</th>\n",
       "      <th>TVC</th>\n",
       "      <td>217.000000</td>\n",
       "      <td>218.000000</td>\n",
       "      <td>145.000000</td>\n",
       "      <td>121.000000</td>\n",
       "      <td>644.0</td>\n",
       "    </tr>\n",
       "    <tr>\n",
       "      <th>BFL</th>\n",
       "      <th>SFO</th>\n",
       "      <td>224.500000</td>\n",
       "      <td>214.500000</td>\n",
       "      <td>77.000000</td>\n",
       "      <td>43.500000</td>\n",
       "      <td>238.0</td>\n",
       "    </tr>\n",
       "    <tr>\n",
       "      <th>SLN</th>\n",
       "      <th>HYS</th>\n",
       "      <td>219.142857</td>\n",
       "      <td>211.428571</td>\n",
       "      <td>62.000000</td>\n",
       "      <td>25.000000</td>\n",
       "      <td>88.0</td>\n",
       "    </tr>\n",
       "    <tr>\n",
       "      <th>ATL</th>\n",
       "      <th>BUR</th>\n",
       "      <td>205.000000</td>\n",
       "      <td>201.000000</td>\n",
       "      <td>274.000000</td>\n",
       "      <td>247.000000</td>\n",
       "      <td>1941.0</td>\n",
       "    </tr>\n",
       "    <tr>\n",
       "      <th>PNS</th>\n",
       "      <th>MCI</th>\n",
       "      <td>207.000000</td>\n",
       "      <td>200.000000</td>\n",
       "      <td>120.000000</td>\n",
       "      <td>99.000000</td>\n",
       "      <td>743.0</td>\n",
       "    </tr>\n",
       "    <tr>\n",
       "      <th>BOS</th>\n",
       "      <th>STT</th>\n",
       "      <td>158.000000</td>\n",
       "      <td>199.000000</td>\n",
       "      <td>235.000000</td>\n",
       "      <td>252.000000</td>\n",
       "      <td>1693.0</td>\n",
       "    </tr>\n",
       "    <tr>\n",
       "      <th>PIA</th>\n",
       "      <th>DFW</th>\n",
       "      <td>205.000000</td>\n",
       "      <td>197.666667</td>\n",
       "      <td>140.000000</td>\n",
       "      <td>109.666667</td>\n",
       "      <td>672.0</td>\n",
       "    </tr>\n",
       "    <tr>\n",
       "      <th>DSM</th>\n",
       "      <th>MCO</th>\n",
       "      <td>204.000000</td>\n",
       "      <td>196.000000</td>\n",
       "      <td>166.000000</td>\n",
       "      <td>130.000000</td>\n",
       "      <td>1141.0</td>\n",
       "    </tr>\n",
       "    <tr>\n",
       "      <th>DTW</th>\n",
       "      <th>SNA</th>\n",
       "      <td>205.000000</td>\n",
       "      <td>195.000000</td>\n",
       "      <td>307.000000</td>\n",
       "      <td>266.000000</td>\n",
       "      <td>1960.0</td>\n",
       "    </tr>\n",
       "    <tr>\n",
       "      <th>LWB</th>\n",
       "      <th>IAD</th>\n",
       "      <td>190.000000</td>\n",
       "      <td>191.000000</td>\n",
       "      <td>57.000000</td>\n",
       "      <td>33.000000</td>\n",
       "      <td>176.0</td>\n",
       "    </tr>\n",
       "    <tr>\n",
       "      <th>LEX</th>\n",
       "      <th>PGD</th>\n",
       "      <td>194.500000</td>\n",
       "      <td>185.500000</td>\n",
       "      <td>123.500000</td>\n",
       "      <td>100.000000</td>\n",
       "      <td>781.0</td>\n",
       "    </tr>\n",
       "    <tr>\n",
       "      <th rowspan=\"2\" valign=\"top\">AUS</th>\n",
       "      <th>SLC</th>\n",
       "      <td>188.400000</td>\n",
       "      <td>184.200000</td>\n",
       "      <td>183.800000</td>\n",
       "      <td>156.200000</td>\n",
       "      <td>1086.0</td>\n",
       "    </tr>\n",
       "    <tr>\n",
       "      <th>RNO</th>\n",
       "      <td>196.000000</td>\n",
       "      <td>182.000000</td>\n",
       "      <td>212.000000</td>\n",
       "      <td>179.000000</td>\n",
       "      <td>1405.0</td>\n",
       "    </tr>\n",
       "  </tbody>\n",
       "</table>\n",
       "</div>"
      ],
      "text/plain": [
       "              dep_delay   arr_delay  crs_elapsed_time    air_time  distance\n",
       "origin dest                                                                \n",
       "ACV    DEN   447.000000  444.000000        163.000000  138.000000    1026.0\n",
       "EWR    AVP   375.500000  368.500000         75.000000   27.000000      93.0\n",
       "JAX    EWR   316.000000  309.750000        147.000000  109.750000     820.0\n",
       "ORD    EGE   310.333333  309.000000        174.000000  155.333333    1007.0\n",
       "SJC    ORD   308.600000  306.000000        253.200000  222.000000    1829.0\n",
       "PHX    HNL   309.250000  298.750000        412.250000  386.750000    2917.0\n",
       "       LGB   250.666667  253.000000         76.666667   57.333333     355.0\n",
       "EWR    TVC   217.000000  218.000000        145.000000  121.000000     644.0\n",
       "BFL    SFO   224.500000  214.500000         77.000000   43.500000     238.0\n",
       "SLN    HYS   219.142857  211.428571         62.000000   25.000000      88.0\n",
       "ATL    BUR   205.000000  201.000000        274.000000  247.000000    1941.0\n",
       "PNS    MCI   207.000000  200.000000        120.000000   99.000000     743.0\n",
       "BOS    STT   158.000000  199.000000        235.000000  252.000000    1693.0\n",
       "PIA    DFW   205.000000  197.666667        140.000000  109.666667     672.0\n",
       "DSM    MCO   204.000000  196.000000        166.000000  130.000000    1141.0\n",
       "DTW    SNA   205.000000  195.000000        307.000000  266.000000    1960.0\n",
       "LWB    IAD   190.000000  191.000000         57.000000   33.000000     176.0\n",
       "LEX    PGD   194.500000  185.500000        123.500000  100.000000     781.0\n",
       "AUS    SLC   188.400000  184.200000        183.800000  156.200000    1086.0\n",
       "       RNO   196.000000  182.000000        212.000000  179.000000    1405.0"
      ]
     },
     "execution_count": 13,
     "metadata": {},
     "output_type": "execute_result"
    }
   ],
   "source": [
    "delays_by_origin_dest.sort_values('arr_delay', ascending=False).head(20)\n"
   ]
  },
  {
   "cell_type": "code",
   "execution_count": 9,
   "metadata": {},
   "outputs": [
    {
     "data": {
      "text/plain": [
       "<AxesSubplot:xlabel='distance', ylabel='arr_delay'>"
      ]
     },
     "execution_count": 9,
     "metadata": {},
     "output_type": "execute_result"
    },
    {
     "data": {
      "image/png": "[encoded data removed]",
      "text/plain": [
       "<Figure size 432x288 with 1 Axes>"
      ]
     },
     "metadata": {
      "needs_background": "light"
     },
     "output_type": "display_data"
    }
   ],
   "source": [
    "sns.regplot(data=delays_by_origin_dest, x='distance', y='arr_delay')"
   ]
  },
  {
   "cell_type": "code",
   "execution_count": 6,
   "metadata": {},
   "outputs": [
    {
     "data": {
      "text/plain": [
       "<AxesSubplot:xlabel='air_time', ylabel='arr_delay'>"
      ]
     },
     "execution_count": 6,
     "metadata": {},
     "output_type": "execute_result"
    },
    {
     "data": {
      "image/png": "[encoded data removed]",
      "text/plain": [
       "<Figure size 432x288 with 1 Axes>"
      ]
     },
     "metadata": {
      "needs_background": "light"
     },
     "output_type": "display_data"
    }
   ],
   "source": [
    "sns.regplot(data=delays_by_origin_dest, x='air_time', y='arr_delay')"
   ]
  },
  {
   "cell_type": "code",
   "execution_count": 10,
   "metadata": {},
   "outputs": [
    {
     "data": {
      "text/plain": [
       "<AxesSubplot:xlabel='air_time', ylabel='distance'>"
      ]
     },
     "execution_count": 10,
     "metadata": {},
     "output_type": "execute_result"
    },
    {
     "data": {
      "image/png": "[encoded data removed]",
      "text/plain": [
       "<Figure size 432x288 with 1 Axes>"
      ]
     },
     "metadata": {
      "needs_background": "light"
     },
     "output_type": "display_data"
    }
   ],
   "source": [
    "sns.regplot(data=delays_by_origin_dest, x='air_time', y='distance')\n",
    "\n",
    "# actual air time vs. distance for origin - dest pairs"
   ]
  },
  {
   "cell_type": "code",
   "execution_count": 14,
   "metadata": {},
   "outputs": [
    {
     "data": {
      "text/plain": [
       "<AxesSubplot:xlabel='air_time', ylabel='crs_elapsed_time'>"
      ]
     },
     "execution_count": 14,
     "metadata": {},
     "output_type": "execute_result"
    },
    {
     "data": {
      "image/png": "[encoded data removed]",
      "text/plain": [
       "<Figure size 432x288 with 1 Axes>"
      ]
     },
     "metadata": {
      "needs_background": "light"
     },
     "output_type": "display_data"
    }
   ],
   "source": [
    "sns.regplot(data=delays_by_origin_dest, x='air_time', y='crs_elapsed_time')\n",
    "\n",
    "# we have crs_elapsed_time (total time incl. air time) in test set, can use it without adding air_time\n",
    "# or we can use distance"
   ]
  },
  {
   "cell_type": "markdown",
   "metadata": {},
   "source": [
    "## Carriers (mkt_unique_carrier, op_unique_carrier)"
   ]
  },
  {
   "cell_type": "code",
   "execution_count": 22,
   "metadata": {},
   "outputs": [
    {
     "data": {
      "text/plain": [
       "18135"
      ]
     },
     "execution_count": 22,
     "metadata": {},
     "output_type": "execute_result"
    }
   ],
   "source": [
    "len(flights_sample[flights_sample['mkt_unique_carrier'] != flights_sample['op_unique_carrier']])\n",
    "\n",
    "# very often marketing carrier and operating carrier are different\n",
    "# maybe better to use op_unique_carrier"
   ]
  },
  {
   "cell_type": "code",
   "execution_count": 23,
   "metadata": {},
   "outputs": [
    {
     "data": {
      "text/html": [
       "<div>\n",
       "<style scoped>\n",
       "    .dataframe tbody tr th:only-of-type {\n",
       "        vertical-align: middle;\n",
       "    }\n",
       "\n",
       "    .dataframe tbody tr th {\n",
       "        vertical-align: top;\n",
       "    }\n",
       "\n",
       "    .dataframe thead th {\n",
       "        text-align: right;\n",
       "    }\n",
       "</style>\n",
       "<table border=\"1\" class=\"dataframe\">\n",
       "  <thead>\n",
       "    <tr style=\"text-align: right;\">\n",
       "      <th></th>\n",
       "      <th>fl_date</th>\n",
       "      <th>mkt_unique_carrier</th>\n",
       "      <th>branded_code_share</th>\n",
       "      <th>mkt_carrier</th>\n",
       "      <th>mkt_carrier_fl_num</th>\n",
       "      <th>op_unique_carrier</th>\n",
       "      <th>tail_num</th>\n",
       "      <th>op_carrier_fl_num</th>\n",
       "      <th>origin_airport_id</th>\n",
       "      <th>origin</th>\n",
       "      <th>...</th>\n",
       "      <th>distance</th>\n",
       "      <th>carrier_delay</th>\n",
       "      <th>weather_delay</th>\n",
       "      <th>nas_delay</th>\n",
       "      <th>security_delay</th>\n",
       "      <th>late_aircraft_delay</th>\n",
       "      <th>first_dep_time</th>\n",
       "      <th>total_add_gtime</th>\n",
       "      <th>longest_add_gtime</th>\n",
       "      <th>no_name</th>\n",
       "    </tr>\n",
       "  </thead>\n",
       "  <tbody>\n",
       "    <tr>\n",
       "      <th>7</th>\n",
       "      <td>2018-09-03</td>\n",
       "      <td>UA</td>\n",
       "      <td>UA_CODESHARE</td>\n",
       "      <td>UA</td>\n",
       "      <td>4446</td>\n",
       "      <td>EV</td>\n",
       "      <td>N16559</td>\n",
       "      <td>4446</td>\n",
       "      <td>12266</td>\n",
       "      <td>IAH</td>\n",
       "      <td>...</td>\n",
       "      <td>262.0</td>\n",
       "      <td>NaN</td>\n",
       "      <td>NaN</td>\n",
       "      <td>NaN</td>\n",
       "      <td>NaN</td>\n",
       "      <td>NaN</td>\n",
       "      <td>NaN</td>\n",
       "      <td>NaN</td>\n",
       "      <td>NaN</td>\n",
       "      <td>NaN</td>\n",
       "    </tr>\n",
       "    <tr>\n",
       "      <th>10</th>\n",
       "      <td>2018-09-03</td>\n",
       "      <td>AA</td>\n",
       "      <td>AA_CODESHARE</td>\n",
       "      <td>AA</td>\n",
       "      <td>3798</td>\n",
       "      <td>MQ</td>\n",
       "      <td>N658AE</td>\n",
       "      <td>3798</td>\n",
       "      <td>13303</td>\n",
       "      <td>MIA</td>\n",
       "      <td>...</td>\n",
       "      <td>990.0</td>\n",
       "      <td>NaN</td>\n",
       "      <td>NaN</td>\n",
       "      <td>NaN</td>\n",
       "      <td>NaN</td>\n",
       "      <td>NaN</td>\n",
       "      <td>NaN</td>\n",
       "      <td>NaN</td>\n",
       "      <td>NaN</td>\n",
       "      <td>NaN</td>\n",
       "    </tr>\n",
       "    <tr>\n",
       "      <th>12</th>\n",
       "      <td>2018-09-03</td>\n",
       "      <td>DL</td>\n",
       "      <td>DL_CODESHARE</td>\n",
       "      <td>DL</td>\n",
       "      <td>3393</td>\n",
       "      <td>9E</td>\n",
       "      <td>N980EV</td>\n",
       "      <td>3393</td>\n",
       "      <td>11433</td>\n",
       "      <td>DTW</td>\n",
       "      <td>...</td>\n",
       "      <td>460.0</td>\n",
       "      <td>3.0</td>\n",
       "      <td>0.0</td>\n",
       "      <td>0.0</td>\n",
       "      <td>0.0</td>\n",
       "      <td>67.0</td>\n",
       "      <td>NaN</td>\n",
       "      <td>NaN</td>\n",
       "      <td>NaN</td>\n",
       "      <td>NaN</td>\n",
       "    </tr>\n",
       "    <tr>\n",
       "      <th>15</th>\n",
       "      <td>2018-09-03</td>\n",
       "      <td>AA</td>\n",
       "      <td>AA_CODESHARE</td>\n",
       "      <td>AA</td>\n",
       "      <td>4036</td>\n",
       "      <td>MQ</td>\n",
       "      <td>N833AE</td>\n",
       "      <td>4036</td>\n",
       "      <td>11298</td>\n",
       "      <td>DFW</td>\n",
       "      <td>...</td>\n",
       "      <td>431.0</td>\n",
       "      <td>NaN</td>\n",
       "      <td>NaN</td>\n",
       "      <td>NaN</td>\n",
       "      <td>NaN</td>\n",
       "      <td>NaN</td>\n",
       "      <td>NaN</td>\n",
       "      <td>NaN</td>\n",
       "      <td>NaN</td>\n",
       "      <td>NaN</td>\n",
       "    </tr>\n",
       "    <tr>\n",
       "      <th>16</th>\n",
       "      <td>2018-09-03</td>\n",
       "      <td>AA</td>\n",
       "      <td>AA_CODESHARE</td>\n",
       "      <td>AA</td>\n",
       "      <td>5454</td>\n",
       "      <td>OH</td>\n",
       "      <td>N534EA</td>\n",
       "      <td>5454</td>\n",
       "      <td>10599</td>\n",
       "      <td>BHM</td>\n",
       "      <td>...</td>\n",
       "      <td>772.0</td>\n",
       "      <td>NaN</td>\n",
       "      <td>NaN</td>\n",
       "      <td>NaN</td>\n",
       "      <td>NaN</td>\n",
       "      <td>NaN</td>\n",
       "      <td>NaN</td>\n",
       "      <td>NaN</td>\n",
       "      <td>NaN</td>\n",
       "      <td>NaN</td>\n",
       "    </tr>\n",
       "    <tr>\n",
       "      <th>29</th>\n",
       "      <td>2018-09-03</td>\n",
       "      <td>AA</td>\n",
       "      <td>AA_CODESHARE</td>\n",
       "      <td>AA</td>\n",
       "      <td>3374</td>\n",
       "      <td>MQ</td>\n",
       "      <td>N817AE</td>\n",
       "      <td>3374</td>\n",
       "      <td>11433</td>\n",
       "      <td>DTW</td>\n",
       "      <td>...</td>\n",
       "      <td>502.0</td>\n",
       "      <td>NaN</td>\n",
       "      <td>NaN</td>\n",
       "      <td>NaN</td>\n",
       "      <td>NaN</td>\n",
       "      <td>NaN</td>\n",
       "      <td>NaN</td>\n",
       "      <td>NaN</td>\n",
       "      <td>NaN</td>\n",
       "      <td>NaN</td>\n",
       "    </tr>\n",
       "    <tr>\n",
       "      <th>30</th>\n",
       "      <td>2018-09-04</td>\n",
       "      <td>AS</td>\n",
       "      <td>AS_CODESHARE</td>\n",
       "      <td>AS</td>\n",
       "      <td>2282</td>\n",
       "      <td>QX</td>\n",
       "      <td>N624QX</td>\n",
       "      <td>2282</td>\n",
       "      <td>14747</td>\n",
       "      <td>SEA</td>\n",
       "      <td>...</td>\n",
       "      <td>379.0</td>\n",
       "      <td>NaN</td>\n",
       "      <td>NaN</td>\n",
       "      <td>NaN</td>\n",
       "      <td>NaN</td>\n",
       "      <td>NaN</td>\n",
       "      <td>NaN</td>\n",
       "      <td>NaN</td>\n",
       "      <td>NaN</td>\n",
       "      <td>NaN</td>\n",
       "    </tr>\n",
       "    <tr>\n",
       "      <th>31</th>\n",
       "      <td>2018-09-04</td>\n",
       "      <td>AS</td>\n",
       "      <td>AS_CODESHARE</td>\n",
       "      <td>AS</td>\n",
       "      <td>2329</td>\n",
       "      <td>QX</td>\n",
       "      <td>N452QX</td>\n",
       "      <td>2329</td>\n",
       "      <td>10666</td>\n",
       "      <td>BLI</td>\n",
       "      <td>...</td>\n",
       "      <td>93.0</td>\n",
       "      <td>NaN</td>\n",
       "      <td>NaN</td>\n",
       "      <td>NaN</td>\n",
       "      <td>NaN</td>\n",
       "      <td>NaN</td>\n",
       "      <td>NaN</td>\n",
       "      <td>NaN</td>\n",
       "      <td>NaN</td>\n",
       "      <td>NaN</td>\n",
       "    </tr>\n",
       "    <tr>\n",
       "      <th>32</th>\n",
       "      <td>2018-09-04</td>\n",
       "      <td>AS</td>\n",
       "      <td>AS_CODESHARE</td>\n",
       "      <td>AS</td>\n",
       "      <td>2554</td>\n",
       "      <td>QX</td>\n",
       "      <td>N624QX</td>\n",
       "      <td>2554</td>\n",
       "      <td>14831</td>\n",
       "      <td>SJC</td>\n",
       "      <td>...</td>\n",
       "      <td>569.0</td>\n",
       "      <td>22.0</td>\n",
       "      <td>0.0</td>\n",
       "      <td>0.0</td>\n",
       "      <td>0.0</td>\n",
       "      <td>0.0</td>\n",
       "      <td>NaN</td>\n",
       "      <td>NaN</td>\n",
       "      <td>NaN</td>\n",
       "      <td>NaN</td>\n",
       "    </tr>\n",
       "    <tr>\n",
       "      <th>33</th>\n",
       "      <td>2018-09-04</td>\n",
       "      <td>UA</td>\n",
       "      <td>UA_CODESHARE</td>\n",
       "      <td>UA</td>\n",
       "      <td>3417</td>\n",
       "      <td>YX</td>\n",
       "      <td>N750YX</td>\n",
       "      <td>3417</td>\n",
       "      <td>11618</td>\n",
       "      <td>EWR</td>\n",
       "      <td>...</td>\n",
       "      <td>1372.0</td>\n",
       "      <td>NaN</td>\n",
       "      <td>NaN</td>\n",
       "      <td>NaN</td>\n",
       "      <td>NaN</td>\n",
       "      <td>NaN</td>\n",
       "      <td>NaN</td>\n",
       "      <td>NaN</td>\n",
       "      <td>NaN</td>\n",
       "      <td>NaN</td>\n",
       "    </tr>\n",
       "  </tbody>\n",
       "</table>\n",
       "<p>10 rows × 42 columns</p>\n",
       "</div>"
      ],
      "text/plain": [
       "       fl_date mkt_unique_carrier branded_code_share mkt_carrier  \\\n",
       "7   2018-09-03                 UA       UA_CODESHARE          UA   \n",
       "10  2018-09-03                 AA       AA_CODESHARE          AA   \n",
       "12  2018-09-03                 DL       DL_CODESHARE          DL   \n",
       "15  2018-09-03                 AA       AA_CODESHARE          AA   \n",
       "16  2018-09-03                 AA       AA_CODESHARE          AA   \n",
       "29  2018-09-03                 AA       AA_CODESHARE          AA   \n",
       "30  2018-09-04                 AS       AS_CODESHARE          AS   \n",
       "31  2018-09-04                 AS       AS_CODESHARE          AS   \n",
       "32  2018-09-04                 AS       AS_CODESHARE          AS   \n",
       "33  2018-09-04                 UA       UA_CODESHARE          UA   \n",
       "\n",
       "    mkt_carrier_fl_num op_unique_carrier tail_num  op_carrier_fl_num  \\\n",
       "7                 4446                EV   N16559               4446   \n",
       "10                3798                MQ   N658AE               3798   \n",
       "12                3393                9E   N980EV               3393   \n",
       "15                4036                MQ   N833AE               4036   \n",
       "16                5454                OH   N534EA               5454   \n",
       "29                3374                MQ   N817AE               3374   \n",
       "30                2282                QX   N624QX               2282   \n",
       "31                2329                QX   N452QX               2329   \n",
       "32                2554                QX   N624QX               2554   \n",
       "33                3417                YX   N750YX               3417   \n",
       "\n",
       "    origin_airport_id origin  ... distance  carrier_delay weather_delay  \\\n",
       "7               12266    IAH  ...    262.0            NaN           NaN   \n",
       "10              13303    MIA  ...    990.0            NaN           NaN   \n",
       "12              11433    DTW  ...    460.0            3.0           0.0   \n",
       "15              11298    DFW  ...    431.0            NaN           NaN   \n",
       "16              10599    BHM  ...    772.0            NaN           NaN   \n",
       "29              11433    DTW  ...    502.0            NaN           NaN   \n",
       "30              14747    SEA  ...    379.0            NaN           NaN   \n",
       "31              10666    BLI  ...     93.0            NaN           NaN   \n",
       "32              14831    SJC  ...    569.0           22.0           0.0   \n",
       "33              11618    EWR  ...   1372.0            NaN           NaN   \n",
       "\n",
       "   nas_delay  security_delay  late_aircraft_delay  first_dep_time  \\\n",
       "7        NaN             NaN                  NaN             NaN   \n",
       "10       NaN             NaN                  NaN             NaN   \n",
       "12       0.0             0.0                 67.0             NaN   \n",
       "15       NaN             NaN                  NaN             NaN   \n",
       "16       NaN             NaN                  NaN             NaN   \n",
       "29       NaN             NaN                  NaN             NaN   \n",
       "30       NaN             NaN                  NaN             NaN   \n",
       "31       NaN             NaN                  NaN             NaN   \n",
       "32       0.0             0.0                  0.0             NaN   \n",
       "33       NaN             NaN                  NaN             NaN   \n",
       "\n",
       "    total_add_gtime  longest_add_gtime  no_name  \n",
       "7               NaN                NaN      NaN  \n",
       "10              NaN                NaN      NaN  \n",
       "12              NaN                NaN      NaN  \n",
       "15              NaN                NaN      NaN  \n",
       "16              NaN                NaN      NaN  \n",
       "29              NaN                NaN      NaN  \n",
       "30              NaN                NaN      NaN  \n",
       "31              NaN                NaN      NaN  \n",
       "32              NaN                NaN      NaN  \n",
       "33              NaN                NaN      NaN  \n",
       "\n",
       "[10 rows x 42 columns]"
      ]
     },
     "execution_count": 23,
     "metadata": {},
     "output_type": "execute_result"
    }
   ],
   "source": [
    "flights_sample[flights_sample['mkt_unique_carrier'] != flights_sample['op_unique_carrier']].head(10)"
   ]
  },
  {
   "cell_type": "markdown",
   "metadata": {},
   "source": [
    "### Number of unique carriers in the subset"
   ]
  },
  {
   "cell_type": "code",
   "execution_count": 24,
   "metadata": {},
   "outputs": [
    {
     "data": {
      "text/plain": [
       "28"
      ]
     },
     "execution_count": 24,
     "metadata": {},
     "output_type": "execute_result"
    }
   ],
   "source": [
    "len(flights_sample['op_unique_carrier'].unique())\n",
    "\n",
    "# 28 unique operating carriers in this subset. \n",
    "# Need to check the number of unique operating carriers in original dataset"
   ]
  },
  {
   "cell_type": "code",
   "execution_count": 25,
   "metadata": {},
   "outputs": [
    {
     "data": {
      "text/plain": [
       "11"
      ]
     },
     "execution_count": 25,
     "metadata": {},
     "output_type": "execute_result"
    }
   ],
   "source": [
    "len(flights_sample['mkt_unique_carrier'].unique())"
   ]
  },
  {
   "cell_type": "markdown",
   "metadata": {},
   "source": [
    "### Average arr_delay and dep_delay by operating carrier"
   ]
  },
  {
   "cell_type": "code",
   "execution_count": 34,
   "metadata": {},
   "outputs": [
    {
     "data": {
      "text/plain": [
       "<AxesSubplot:xlabel='arr_delay', ylabel='op_unique_carrier'>"
      ]
     },
     "execution_count": 34,
     "metadata": {},
     "output_type": "execute_result"
    },
    {
     "data": {
      "image/png": "[encoded data removed]",
      "text/plain": [
       "<Figure size 720x720 with 1 Axes>"
      ]
     },
     "metadata": {},
     "output_type": "display_data"
    }
   ],
   "source": [
    "plt.figure(figsize=(10, 10))\n",
    "sns.barplot(data=flights_sample, x='arr_delay', y='op_unique_carrier', orient='h')\n",
    "\n",
    "# the bars are the average values of arr_delay\n",
    "# black lines represent the 95% confidence interval"
   ]
  },
  {
   "cell_type": "code",
   "execution_count": 3,
   "metadata": {},
   "outputs": [
    {
     "data": {
      "text/plain": [
       "<AxesSubplot:xlabel='dep_delay', ylabel='op_unique_carrier'>"
      ]
     },
     "execution_count": 3,
     "metadata": {},
     "output_type": "execute_result"
    },
    {
     "data": {
      "image/png": "[encoded data removed]",
      "text/plain": [
       "<Figure size 720x720 with 1 Axes>"
      ]
     },
     "metadata": {
      "needs_background": "light"
     },
     "output_type": "display_data"
    }
   ],
   "source": [
    "plt.figure(figsize=(10, 10))\n",
    "sns.barplot(data=flights_sample, x='dep_delay', y='op_unique_carrier', orient='h')"
   ]
  },
  {
   "cell_type": "markdown",
   "metadata": {},
   "source": [
    "## Flight numbers"
   ]
  },
  {
   "cell_type": "code",
   "execution_count": 26,
   "metadata": {},
   "outputs": [
    {
     "data": {
      "text/plain": [
       "6"
      ]
     },
     "execution_count": 26,
     "metadata": {},
     "output_type": "execute_result"
    }
   ],
   "source": [
    "# flight number is different for mkt_carrier and op_carrier\n",
    "\n",
    "len(flights_sample[flights_sample['mkt_carrier_fl_num'] != flights_sample['op_carrier_fl_num']])"
   ]
  },
  {
   "cell_type": "code",
   "execution_count": 27,
   "metadata": {},
   "outputs": [
    {
     "data": {
      "text/html": [
       "<div>\n",
       "<style scoped>\n",
       "    .dataframe tbody tr th:only-of-type {\n",
       "        vertical-align: middle;\n",
       "    }\n",
       "\n",
       "    .dataframe tbody tr th {\n",
       "        vertical-align: top;\n",
       "    }\n",
       "\n",
       "    .dataframe thead th {\n",
       "        text-align: right;\n",
       "    }\n",
       "</style>\n",
       "<table border=\"1\" class=\"dataframe\">\n",
       "  <thead>\n",
       "    <tr style=\"text-align: right;\">\n",
       "      <th></th>\n",
       "      <th>fl_date</th>\n",
       "      <th>mkt_unique_carrier</th>\n",
       "      <th>branded_code_share</th>\n",
       "      <th>mkt_carrier</th>\n",
       "      <th>mkt_carrier_fl_num</th>\n",
       "      <th>op_unique_carrier</th>\n",
       "      <th>tail_num</th>\n",
       "      <th>op_carrier_fl_num</th>\n",
       "      <th>origin_airport_id</th>\n",
       "      <th>origin</th>\n",
       "      <th>...</th>\n",
       "      <th>distance</th>\n",
       "      <th>carrier_delay</th>\n",
       "      <th>weather_delay</th>\n",
       "      <th>nas_delay</th>\n",
       "      <th>security_delay</th>\n",
       "      <th>late_aircraft_delay</th>\n",
       "      <th>first_dep_time</th>\n",
       "      <th>total_add_gtime</th>\n",
       "      <th>longest_add_gtime</th>\n",
       "      <th>no_name</th>\n",
       "    </tr>\n",
       "  </thead>\n",
       "  <tbody>\n",
       "    <tr>\n",
       "      <th>13155</th>\n",
       "      <td>2019-07-17</td>\n",
       "      <td>UA</td>\n",
       "      <td>UA_CODESHARE</td>\n",
       "      <td>UA</td>\n",
       "      <td>6095</td>\n",
       "      <td>YX</td>\n",
       "      <td>N731YX</td>\n",
       "      <td>3287</td>\n",
       "      <td>11298</td>\n",
       "      <td>DFW</td>\n",
       "      <td>...</td>\n",
       "      <td>224.0</td>\n",
       "      <td>0.0</td>\n",
       "      <td>0.0</td>\n",
       "      <td>25.0</td>\n",
       "      <td>0.0</td>\n",
       "      <td>0.0</td>\n",
       "      <td>NaN</td>\n",
       "      <td>NaN</td>\n",
       "      <td>NaN</td>\n",
       "      <td>NaN</td>\n",
       "    </tr>\n",
       "    <tr>\n",
       "      <th>28961</th>\n",
       "      <td>2019-02-14</td>\n",
       "      <td>DL</td>\n",
       "      <td>DL_CODESHARE</td>\n",
       "      <td>DL</td>\n",
       "      <td>5750</td>\n",
       "      <td>OO</td>\n",
       "      <td>N268SY</td>\n",
       "      <td>7337</td>\n",
       "      <td>14831</td>\n",
       "      <td>SJC</td>\n",
       "      <td>...</td>\n",
       "      <td>584.0</td>\n",
       "      <td>0.0</td>\n",
       "      <td>0.0</td>\n",
       "      <td>6.0</td>\n",
       "      <td>0.0</td>\n",
       "      <td>153.0</td>\n",
       "      <td>NaN</td>\n",
       "      <td>NaN</td>\n",
       "      <td>NaN</td>\n",
       "      <td>NaN</td>\n",
       "    </tr>\n",
       "    <tr>\n",
       "      <th>29697</th>\n",
       "      <td>2019-02-25</td>\n",
       "      <td>UA</td>\n",
       "      <td>UA_CODESHARE</td>\n",
       "      <td>UA</td>\n",
       "      <td>3988</td>\n",
       "      <td>YX</td>\n",
       "      <td>N639RW</td>\n",
       "      <td>3286</td>\n",
       "      <td>12266</td>\n",
       "      <td>IAH</td>\n",
       "      <td>...</td>\n",
       "      <td>308.0</td>\n",
       "      <td>NaN</td>\n",
       "      <td>NaN</td>\n",
       "      <td>NaN</td>\n",
       "      <td>NaN</td>\n",
       "      <td>NaN</td>\n",
       "      <td>NaN</td>\n",
       "      <td>NaN</td>\n",
       "      <td>NaN</td>\n",
       "      <td>NaN</td>\n",
       "    </tr>\n",
       "    <tr>\n",
       "      <th>33282</th>\n",
       "      <td>2019-11-21</td>\n",
       "      <td>UA</td>\n",
       "      <td>UA_CODESHARE</td>\n",
       "      <td>UA</td>\n",
       "      <td>4809</td>\n",
       "      <td>YV</td>\n",
       "      <td>N86334</td>\n",
       "      <td>3225</td>\n",
       "      <td>12264</td>\n",
       "      <td>IAD</td>\n",
       "      <td>...</td>\n",
       "      <td>288.0</td>\n",
       "      <td>42.0</td>\n",
       "      <td>0.0</td>\n",
       "      <td>0.0</td>\n",
       "      <td>0.0</td>\n",
       "      <td>0.0</td>\n",
       "      <td>NaN</td>\n",
       "      <td>NaN</td>\n",
       "      <td>NaN</td>\n",
       "      <td>NaN</td>\n",
       "    </tr>\n",
       "    <tr>\n",
       "      <th>34615</th>\n",
       "      <td>2018-12-13</td>\n",
       "      <td>UA</td>\n",
       "      <td>UA_CODESHARE</td>\n",
       "      <td>UA</td>\n",
       "      <td>3978</td>\n",
       "      <td>ZW</td>\n",
       "      <td>N462AW</td>\n",
       "      <td>3152</td>\n",
       "      <td>12884</td>\n",
       "      <td>LAN</td>\n",
       "      <td>...</td>\n",
       "      <td>179.0</td>\n",
       "      <td>NaN</td>\n",
       "      <td>NaN</td>\n",
       "      <td>NaN</td>\n",
       "      <td>NaN</td>\n",
       "      <td>NaN</td>\n",
       "      <td>NaN</td>\n",
       "      <td>NaN</td>\n",
       "      <td>NaN</td>\n",
       "      <td>NaN</td>\n",
       "    </tr>\n",
       "    <tr>\n",
       "      <th>46007</th>\n",
       "      <td>2018-02-06</td>\n",
       "      <td>UA</td>\n",
       "      <td>UA_CODESHARE</td>\n",
       "      <td>UA</td>\n",
       "      <td>6111</td>\n",
       "      <td>OO</td>\n",
       "      <td>N797SK</td>\n",
       "      <td>1346</td>\n",
       "      <td>13851</td>\n",
       "      <td>OKC</td>\n",
       "      <td>...</td>\n",
       "      <td>395.0</td>\n",
       "      <td>0.0</td>\n",
       "      <td>101.0</td>\n",
       "      <td>1.0</td>\n",
       "      <td>0.0</td>\n",
       "      <td>0.0</td>\n",
       "      <td>NaN</td>\n",
       "      <td>NaN</td>\n",
       "      <td>NaN</td>\n",
       "      <td>NaN</td>\n",
       "    </tr>\n",
       "  </tbody>\n",
       "</table>\n",
       "<p>6 rows × 42 columns</p>\n",
       "</div>"
      ],
      "text/plain": [
       "          fl_date mkt_unique_carrier branded_code_share mkt_carrier  \\\n",
       "13155  2019-07-17                 UA       UA_CODESHARE          UA   \n",
       "28961  2019-02-14                 DL       DL_CODESHARE          DL   \n",
       "29697  2019-02-25                 UA       UA_CODESHARE          UA   \n",
       "33282  2019-11-21                 UA       UA_CODESHARE          UA   \n",
       "34615  2018-12-13                 UA       UA_CODESHARE          UA   \n",
       "46007  2018-02-06                 UA       UA_CODESHARE          UA   \n",
       "\n",
       "       mkt_carrier_fl_num op_unique_carrier tail_num  op_carrier_fl_num  \\\n",
       "13155                6095                YX   N731YX               3287   \n",
       "28961                5750                OO   N268SY               7337   \n",
       "29697                3988                YX   N639RW               3286   \n",
       "33282                4809                YV   N86334               3225   \n",
       "34615                3978                ZW   N462AW               3152   \n",
       "46007                6111                OO   N797SK               1346   \n",
       "\n",
       "       origin_airport_id origin  ... distance  carrier_delay weather_delay  \\\n",
       "13155              11298    DFW  ...    224.0            0.0           0.0   \n",
       "28961              14831    SJC  ...    584.0            0.0           0.0   \n",
       "29697              12266    IAH  ...    308.0            NaN           NaN   \n",
       "33282              12264    IAD  ...    288.0           42.0           0.0   \n",
       "34615              12884    LAN  ...    179.0            NaN           NaN   \n",
       "46007              13851    OKC  ...    395.0            0.0         101.0   \n",
       "\n",
       "      nas_delay  security_delay  late_aircraft_delay  first_dep_time  \\\n",
       "13155      25.0             0.0                  0.0             NaN   \n",
       "28961       6.0             0.0                153.0             NaN   \n",
       "29697       NaN             NaN                  NaN             NaN   \n",
       "33282       0.0             0.0                  0.0             NaN   \n",
       "34615       NaN             NaN                  NaN             NaN   \n",
       "46007       1.0             0.0                  0.0             NaN   \n",
       "\n",
       "       total_add_gtime  longest_add_gtime  no_name  \n",
       "13155              NaN                NaN      NaN  \n",
       "28961              NaN                NaN      NaN  \n",
       "29697              NaN                NaN      NaN  \n",
       "33282              NaN                NaN      NaN  \n",
       "34615              NaN                NaN      NaN  \n",
       "46007              NaN                NaN      NaN  \n",
       "\n",
       "[6 rows x 42 columns]"
      ]
     },
     "execution_count": 27,
     "metadata": {},
     "output_type": "execute_result"
    }
   ],
   "source": [
    "flights_sample[flights_sample['mkt_carrier_fl_num'] != flights_sample['op_carrier_fl_num']]"
   ]
  },
  {
   "cell_type": "code",
   "execution_count": 28,
   "metadata": {},
   "outputs": [
    {
     "data": {
      "text/plain": [
       "6530"
      ]
     },
     "execution_count": 28,
     "metadata": {},
     "output_type": "execute_result"
    }
   ],
   "source": [
    "len(flights_sample['op_carrier_fl_num'].unique())\n",
    "\n",
    "# too many unique flight number values"
   ]
  },
  {
   "cell_type": "code",
   "execution_count": 29,
   "metadata": {},
   "outputs": [
    {
     "data": {
      "text/plain": [
       "6530"
      ]
     },
     "execution_count": 29,
     "metadata": {},
     "output_type": "execute_result"
    }
   ],
   "source": [
    "len(flights_sample['mkt_carrier_fl_num'].unique())"
   ]
  },
  {
   "cell_type": "markdown",
   "metadata": {},
   "source": [
    "## Distance, elapsed time"
   ]
  },
  {
   "cell_type": "code",
   "execution_count": 40,
   "metadata": {},
   "outputs": [
    {
     "data": {
      "text/plain": [
       "<AxesSubplot:>"
      ]
     },
     "execution_count": 40,
     "metadata": {},
     "output_type": "execute_result"
    },
    {
     "data": {
      "image/png": "[encoded data removed]",
      "text/plain": [
       "<Figure size 432x288 with 1 Axes>"
      ]
     },
     "metadata": {},
     "output_type": "display_data"
    }
   ],
   "source": [
    "sns.boxplot(data=flights_sample['distance'])"
   ]
  },
  {
   "cell_type": "code",
   "execution_count": 39,
   "metadata": {},
   "outputs": [
    {
     "data": {
      "text/plain": [
       "<AxesSubplot:>"
      ]
     },
     "execution_count": 39,
     "metadata": {},
     "output_type": "execute_result"
    },
    {
     "data": {
      "image/png": "[encoded data removed]",
      "text/plain": [
       "<Figure size 432x288 with 1 Axes>"
      ]
     },
     "metadata": {},
     "output_type": "display_data"
    }
   ],
   "source": [
    "sns.boxplot(data=flights_sample['crs_elapsed_time'])"
   ]
  },
  {
   "cell_type": "code",
   "execution_count": 51,
   "metadata": {},
   "outputs": [
    {
     "data": {
      "text/plain": [
       "<AxesSubplot:xlabel='crs_elapsed_time', ylabel='distance'>"
      ]
     },
     "execution_count": 51,
     "metadata": {},
     "output_type": "execute_result"
    },
    {
     "data": {
      "image/png": "[encoded data removed]",
      "text/plain": [
       "<Figure size 432x288 with 1 Axes>"
      ]
     },
     "metadata": {},
     "output_type": "display_data"
    }
   ],
   "source": [
    "sns.regplot(data=flights_sample, x='crs_elapsed_time', y='distance')\n",
    "\n",
    "# linear correlation\n",
    "# choose one of them?"
   ]
  },
  {
   "cell_type": "code",
   "execution_count": 12,
   "metadata": {},
   "outputs": [
    {
     "data": {
      "text/plain": [
       "<AxesSubplot:xlabel='crs_elapsed_time', ylabel='actual_elapsed_time'>"
      ]
     },
     "execution_count": 12,
     "metadata": {},
     "output_type": "execute_result"
    },
    {
     "data": {
      "image/png": "[encoded data removed]",
      "text/plain": [
       "<Figure size 432x288 with 1 Axes>"
      ]
     },
     "metadata": {},
     "output_type": "display_data"
    }
   ],
   "source": [
    "sns.regplot(data=flights_sample, x='crs_elapsed_time', y='actual_elapsed_time')"
   ]
  },
  {
   "cell_type": "code",
   "execution_count": 42,
   "metadata": {},
   "outputs": [
    {
     "data": {
      "text/plain": [
       "<AxesSubplot:xlabel='distance', ylabel='arr_delay'>"
      ]
     },
     "execution_count": 42,
     "metadata": {},
     "output_type": "execute_result"
    },
    {
     "data": {
      "image/png": "[encoded data removed]",
      "text/plain": [
       "<Figure size 432x288 with 1 Axes>"
      ]
     },
     "metadata": {},
     "output_type": "display_data"
    }
   ],
   "source": [
    "sns.regplot(data=flights_sample, x='distance', y='arr_delay')\n",
    "\n",
    "# for distances longer than 3000 miles the arr_delay values are smaller, \n",
    "# but there are few flights with such distances in the subset.\n",
    "# 75% of all flights had distances <= 997 miles"
   ]
  },
  {
   "cell_type": "code",
   "execution_count": 13,
   "metadata": {},
   "outputs": [
    {
     "data": {
      "text/plain": [
       "95"
      ]
     },
     "execution_count": 13,
     "metadata": {},
     "output_type": "execute_result"
    }
   ],
   "source": [
    "len(flights_sample[flights_sample['distance'] > 3000])"
   ]
  },
  {
   "cell_type": "code",
   "execution_count": 30,
   "metadata": {},
   "outputs": [
    {
     "data": {
      "text/plain": [
       "<AxesSubplot:xlabel='crs_elapsed_time', ylabel='arr_delay'>"
      ]
     },
     "execution_count": 30,
     "metadata": {},
     "output_type": "execute_result"
    },
    {
     "data": {
      "image/png": "[encoded data removed]",
      "text/plain": [
       "<Figure size 432x288 with 1 Axes>"
      ]
     },
     "metadata": {},
     "output_type": "display_data"
    }
   ],
   "source": [
    "sns.regplot(data=flights_sample, x='crs_elapsed_time', y='arr_delay')"
   ]
  },
  {
   "cell_type": "code",
   "execution_count": null,
   "metadata": {},
   "outputs": [],
   "source": []
  }
 ],
 "metadata": {
  "interpreter": {
   "hash": "a698be0b48003a334c31a3f8e5600c0b8c4ac4b13c41f594d6ef3259800b67f3"
  },
  "kernelspec": {
   "display_name": "Python 3.8.12 64-bit ('bootcamp_env': conda)",
   "language": "python",
   "name": "python3"
  },
  "language_info": {
   "codemirror_mode": {
    "name": "ipython",
    "version": 3
   },
   "file_extension": ".py",
   "mimetype": "text/x-python",
   "name": "python",
   "nbconvert_exporter": "python",
   "pygments_lexer": "ipython3",
   "version": "3.8.11"
  },
  "orig_nbformat": 4
 },
 "nbformat": 4,
 "nbformat_minor": 2
}
