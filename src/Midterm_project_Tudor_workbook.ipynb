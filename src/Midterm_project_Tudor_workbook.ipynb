{
 "cells": [
  {
   "cell_type": "markdown",
   "metadata": {},
   "source": [
    "# Notebook for midterm project - Tudor"
   ]
  },
  {
   "cell_type": "markdown",
   "metadata": {},
   "source": [
    "### Importing the libraries and connection to database"
   ]
  },
  {
   "cell_type": "code",
   "execution_count": 24,
   "metadata": {},
   "outputs": [],
   "source": [
    "#import libraries\n",
    "import requests\n",
    "import json\n",
    "import pandas as pd\n",
    "import matplotlib.pyplot as plt\n",
    "import numpy as np\n",
    "import seaborn as sns\n",
    "\n",
    "pd.set_option('display.max_columns', None)\n"
   ]
  },
  {
   "cell_type": "code",
   "execution_count": 25,
   "metadata": {},
   "outputs": [],
   "source": [
    "#connect to database and get data\n",
    "#host\n",
    "host = 'mid-term-project.ca2jkepgjpne.us-east-2.rds.amazonaws.com'\n",
    "#port\n",
    "port = '5432'\n",
    "#user\n",
    "user = 'lhl_student'\n",
    "#password\n",
    "password = 'lhl_student'\n",
    "#database\n",
    "database = 'mid_term_project'\n",
    "#connect to database\n",
    "conn = 'postgresql://{}:{}@{}:{}/{}'.format(user, password, host, port, database)"
   ]
  },
  {
   "cell_type": "markdown",
   "metadata": {},
   "source": [
    "## Data Exploration"
   ]
  },
  {
   "cell_type": "markdown",
   "metadata": {},
   "source": [
    "### Table information"
   ]
  },
  {
   "cell_type": "code",
   "execution_count": 3,
   "metadata": {},
   "outputs": [],
   "source": [
    "#pull the list of tables from the database\n",
    "tables = pd.read_sql_query('SELECT * FROM information_schema.tables WHERE table_schema = \\'public\\'', conn)"
   ]
  },
  {
   "cell_type": "code",
   "execution_count": 4,
   "metadata": {},
   "outputs": [
    {
     "data": {
      "text/html": [
       "<div>\n",
       "<style scoped>\n",
       "    .dataframe tbody tr th:only-of-type {\n",
       "        vertical-align: middle;\n",
       "    }\n",
       "\n",
       "    .dataframe tbody tr th {\n",
       "        vertical-align: top;\n",
       "    }\n",
       "\n",
       "    .dataframe thead th {\n",
       "        text-align: right;\n",
       "    }\n",
       "</style>\n",
       "<table border=\"1\" class=\"dataframe\">\n",
       "  <thead>\n",
       "    <tr style=\"text-align: right;\">\n",
       "      <th></th>\n",
       "      <th>table_catalog</th>\n",
       "      <th>table_schema</th>\n",
       "      <th>table_name</th>\n",
       "      <th>table_type</th>\n",
       "      <th>self_referencing_column_name</th>\n",
       "      <th>reference_generation</th>\n",
       "      <th>user_defined_type_catalog</th>\n",
       "      <th>user_defined_type_schema</th>\n",
       "      <th>user_defined_type_name</th>\n",
       "      <th>is_insertable_into</th>\n",
       "      <th>is_typed</th>\n",
       "      <th>commit_action</th>\n",
       "    </tr>\n",
       "  </thead>\n",
       "  <tbody>\n",
       "    <tr>\n",
       "      <th>0</th>\n",
       "      <td>mid_term_project</td>\n",
       "      <td>public</td>\n",
       "      <td>flights_test</td>\n",
       "      <td>BASE TABLE</td>\n",
       "      <td>None</td>\n",
       "      <td>None</td>\n",
       "      <td>None</td>\n",
       "      <td>None</td>\n",
       "      <td>None</td>\n",
       "      <td>YES</td>\n",
       "      <td>NO</td>\n",
       "      <td>None</td>\n",
       "    </tr>\n",
       "    <tr>\n",
       "      <th>1</th>\n",
       "      <td>mid_term_project</td>\n",
       "      <td>public</td>\n",
       "      <td>flights</td>\n",
       "      <td>BASE TABLE</td>\n",
       "      <td>None</td>\n",
       "      <td>None</td>\n",
       "      <td>None</td>\n",
       "      <td>None</td>\n",
       "      <td>None</td>\n",
       "      <td>YES</td>\n",
       "      <td>NO</td>\n",
       "      <td>None</td>\n",
       "    </tr>\n",
       "    <tr>\n",
       "      <th>2</th>\n",
       "      <td>mid_term_project</td>\n",
       "      <td>public</td>\n",
       "      <td>passengers</td>\n",
       "      <td>BASE TABLE</td>\n",
       "      <td>None</td>\n",
       "      <td>None</td>\n",
       "      <td>None</td>\n",
       "      <td>None</td>\n",
       "      <td>None</td>\n",
       "      <td>YES</td>\n",
       "      <td>NO</td>\n",
       "      <td>None</td>\n",
       "    </tr>\n",
       "    <tr>\n",
       "      <th>3</th>\n",
       "      <td>mid_term_project</td>\n",
       "      <td>public</td>\n",
       "      <td>fuel_comsumption</td>\n",
       "      <td>BASE TABLE</td>\n",
       "      <td>None</td>\n",
       "      <td>None</td>\n",
       "      <td>None</td>\n",
       "      <td>None</td>\n",
       "      <td>None</td>\n",
       "      <td>YES</td>\n",
       "      <td>NO</td>\n",
       "      <td>None</td>\n",
       "    </tr>\n",
       "  </tbody>\n",
       "</table>\n",
       "</div>"
      ],
      "text/plain": [
       "      table_catalog table_schema        table_name  table_type  \\\n",
       "0  mid_term_project       public      flights_test  BASE TABLE   \n",
       "1  mid_term_project       public           flights  BASE TABLE   \n",
       "2  mid_term_project       public        passengers  BASE TABLE   \n",
       "3  mid_term_project       public  fuel_comsumption  BASE TABLE   \n",
       "\n",
       "  self_referencing_column_name reference_generation user_defined_type_catalog  \\\n",
       "0                         None                 None                      None   \n",
       "1                         None                 None                      None   \n",
       "2                         None                 None                      None   \n",
       "3                         None                 None                      None   \n",
       "\n",
       "  user_defined_type_schema user_defined_type_name is_insertable_into is_typed  \\\n",
       "0                     None                   None                YES       NO   \n",
       "1                     None                   None                YES       NO   \n",
       "2                     None                   None                YES       NO   \n",
       "3                     None                   None                YES       NO   \n",
       "\n",
       "  commit_action  \n",
       "0          None  \n",
       "1          None  \n",
       "2          None  \n",
       "3          None  "
      ]
     },
     "execution_count": 4,
     "metadata": {},
     "output_type": "execute_result"
    }
   ],
   "source": [
    "tables"
   ]
  },
  {
   "cell_type": "markdown",
   "metadata": {},
   "source": [
    "### Columns"
   ]
  },
  {
   "cell_type": "code",
   "execution_count": 5,
   "metadata": {},
   "outputs": [],
   "source": [
    "#get column names from the table\n",
    "columns = pd.read_sql_query('SELECT * FROM information_schema.columns WHERE table_schema = \\'public\\'', conn)"
   ]
  },
  {
   "cell_type": "code",
   "execution_count": 6,
   "metadata": {},
   "outputs": [],
   "source": [
    "#coloumns to csv\n",
    "columns.to_csv('columns.csv')"
   ]
  },
  {
   "cell_type": "markdown",
   "metadata": {},
   "source": [
    "### Data selection"
   ]
  },
  {
   "cell_type": "code",
   "execution_count": 7,
   "metadata": {},
   "outputs": [],
   "source": [
    "#select <0.3% random rows from the flights table\n",
    "flights_ran_subset = pd.read_sql_query('SELECT * FROM flights WHERE random() < 0.003', conn)\n",
    "flights_ran_subset.to_csv('flights_ran_subset.csv')"
   ]
  },
  {
   "cell_type": "markdown",
   "metadata": {},
   "source": [
    "### Some checks on the data"
   ]
  },
  {
   "cell_type": "code",
   "execution_count": 8,
   "metadata": {},
   "outputs": [],
   "source": [
    "#how many rows are we working with\n",
    "pd.read_sql_query('SELECT COUNT(*) FROM flights', conn)\n",
    "#15927485 rows\n",
    "\n",
    "#lets see how many rows we have in the flight_test table\n",
    "pd.read_sql_query('SELECT COUNT(*) FROM flights_test', conn)\n",
    "#660556 rows\n",
    "\n",
    "\n",
    "#count the number of rows by origin city\n",
    "pd.read_sql_query('SELECT origin_city_name, COUNT(*) FROM flights GROUP BY origin_city_name', conn).to_csv('origin_city_name.csv')\n",
    "#all flights leave USA, the Ontario,CA had be going for a sec there\n",
    "pd.read_sql_query('SELECT dest_city_name, COUNT(*) FROM flights GROUP BY dest_city_name', conn).to_csv('dest_city_name.csv')\n",
    "#and land in USA"
   ]
  },
  {
   "cell_type": "code",
   "execution_count": 9,
   "metadata": {},
   "outputs": [
    {
     "data": {
      "text/html": [
       "<div>\n",
       "<style scoped>\n",
       "    .dataframe tbody tr th:only-of-type {\n",
       "        vertical-align: middle;\n",
       "    }\n",
       "\n",
       "    .dataframe tbody tr th {\n",
       "        vertical-align: top;\n",
       "    }\n",
       "\n",
       "    .dataframe thead th {\n",
       "        text-align: right;\n",
       "    }\n",
       "</style>\n",
       "<table border=\"1\" class=\"dataframe\">\n",
       "  <thead>\n",
       "    <tr style=\"text-align: right;\">\n",
       "      <th></th>\n",
       "      <th>count</th>\n",
       "    </tr>\n",
       "  </thead>\n",
       "  <tbody>\n",
       "    <tr>\n",
       "      <th>0</th>\n",
       "      <td>669008</td>\n",
       "    </tr>\n",
       "  </tbody>\n",
       "</table>\n",
       "</div>"
      ],
      "text/plain": [
       "    count\n",
       "0  669008"
      ]
     },
     "execution_count": 9,
     "metadata": {},
     "output_type": "execute_result"
    }
   ],
   "source": [
    "#count the number of rows bewtween fl_date 2018-12-01 and 2019-01-01 (inclusive?, need to check)\n",
    "pd.read_sql_query(\"SELECT COUNT(*) FROM flights WHERE fl_date between '2018-12-01' and '2019-01-01'\", conn)"
   ]
  },
  {
   "cell_type": "code",
   "execution_count": 10,
   "metadata": {},
   "outputs": [
    {
     "data": {
      "text/html": [
       "<div>\n",
       "<style scoped>\n",
       "    .dataframe tbody tr th:only-of-type {\n",
       "        vertical-align: middle;\n",
       "    }\n",
       "\n",
       "    .dataframe tbody tr th {\n",
       "        vertical-align: top;\n",
       "    }\n",
       "\n",
       "    .dataframe thead th {\n",
       "        text-align: right;\n",
       "    }\n",
       "</style>\n",
       "<table border=\"1\" class=\"dataframe\">\n",
       "  <thead>\n",
       "    <tr style=\"text-align: right;\">\n",
       "      <th></th>\n",
       "      <th>count</th>\n",
       "    </tr>\n",
       "  </thead>\n",
       "  <tbody>\n",
       "    <tr>\n",
       "      <th>0</th>\n",
       "      <td>679941</td>\n",
       "    </tr>\n",
       "  </tbody>\n",
       "</table>\n",
       "</div>"
      ],
      "text/plain": [
       "    count\n",
       "0  679941"
      ]
     },
     "execution_count": 10,
     "metadata": {},
     "output_type": "execute_result"
    }
   ],
   "source": [
    "#count the number of rows bewtween fl_date 2019-12-01 and 2020-01-01 (inclusive?, need to check)\n",
    "pd.read_sql_query(\"SELECT COUNT(*) FROM flights WHERE fl_date between '2019-12-01' and '2020-01-01'\", conn)"
   ]
  },
  {
   "cell_type": "code",
   "execution_count": 11,
   "metadata": {},
   "outputs": [
    {
     "data": {
      "text/html": [
       "<div>\n",
       "<style scoped>\n",
       "    .dataframe tbody tr th:only-of-type {\n",
       "        vertical-align: middle;\n",
       "    }\n",
       "\n",
       "    .dataframe tbody tr th {\n",
       "        vertical-align: top;\n",
       "    }\n",
       "\n",
       "    .dataframe thead th {\n",
       "        text-align: right;\n",
       "    }\n",
       "</style>\n",
       "<table border=\"1\" class=\"dataframe\">\n",
       "  <thead>\n",
       "    <tr style=\"text-align: right;\">\n",
       "      <th></th>\n",
       "      <th>op_carrier_fl_num</th>\n",
       "    </tr>\n",
       "  </thead>\n",
       "  <tbody>\n",
       "    <tr>\n",
       "      <th>0</th>\n",
       "      <td>1</td>\n",
       "    </tr>\n",
       "    <tr>\n",
       "      <th>1</th>\n",
       "      <td>2</td>\n",
       "    </tr>\n",
       "    <tr>\n",
       "      <th>2</th>\n",
       "      <td>3</td>\n",
       "    </tr>\n",
       "    <tr>\n",
       "      <th>3</th>\n",
       "      <td>4</td>\n",
       "    </tr>\n",
       "    <tr>\n",
       "      <th>4</th>\n",
       "      <td>5</td>\n",
       "    </tr>\n",
       "    <tr>\n",
       "      <th>...</th>\n",
       "      <td>...</td>\n",
       "    </tr>\n",
       "    <tr>\n",
       "      <th>7012</th>\n",
       "      <td>9378</td>\n",
       "    </tr>\n",
       "    <tr>\n",
       "      <th>7013</th>\n",
       "      <td>9379</td>\n",
       "    </tr>\n",
       "    <tr>\n",
       "      <th>7014</th>\n",
       "      <td>9380</td>\n",
       "    </tr>\n",
       "    <tr>\n",
       "      <th>7015</th>\n",
       "      <td>9381</td>\n",
       "    </tr>\n",
       "    <tr>\n",
       "      <th>7016</th>\n",
       "      <td>9382</td>\n",
       "    </tr>\n",
       "  </tbody>\n",
       "</table>\n",
       "<p>7017 rows × 1 columns</p>\n",
       "</div>"
      ],
      "text/plain": [
       "      op_carrier_fl_num\n",
       "0                     1\n",
       "1                     2\n",
       "2                     3\n",
       "3                     4\n",
       "4                     5\n",
       "...                 ...\n",
       "7012               9378\n",
       "7013               9379\n",
       "7014               9380\n",
       "7015               9381\n",
       "7016               9382\n",
       "\n",
       "[7017 rows x 1 columns]"
      ]
     },
     "execution_count": 11,
     "metadata": {},
     "output_type": "execute_result"
    }
   ],
   "source": [
    "#lets see how many different flights are in the flight table\n",
    "pd.read_sql_query(\"SELECT op_carrier_fl_num FROM flights WHERE fl_date between '2018-12-01' and '2018-12-31' GROUP BY op_carrier_fl_num\", conn)"
   ]
  },
  {
   "cell_type": "code",
   "execution_count": 12,
   "metadata": {},
   "outputs": [
    {
     "data": {
      "text/html": [
       "<div>\n",
       "<style scoped>\n",
       "    .dataframe tbody tr th:only-of-type {\n",
       "        vertical-align: middle;\n",
       "    }\n",
       "\n",
       "    .dataframe tbody tr th {\n",
       "        vertical-align: top;\n",
       "    }\n",
       "\n",
       "    .dataframe thead th {\n",
       "        text-align: right;\n",
       "    }\n",
       "</style>\n",
       "<table border=\"1\" class=\"dataframe\">\n",
       "  <thead>\n",
       "    <tr style=\"text-align: right;\">\n",
       "      <th></th>\n",
       "      <th>op_carrier_fl_num</th>\n",
       "    </tr>\n",
       "  </thead>\n",
       "  <tbody>\n",
       "    <tr>\n",
       "      <th>0</th>\n",
       "      <td>1</td>\n",
       "    </tr>\n",
       "    <tr>\n",
       "      <th>1</th>\n",
       "      <td>2</td>\n",
       "    </tr>\n",
       "    <tr>\n",
       "      <th>2</th>\n",
       "      <td>3</td>\n",
       "    </tr>\n",
       "    <tr>\n",
       "      <th>3</th>\n",
       "      <td>4</td>\n",
       "    </tr>\n",
       "    <tr>\n",
       "      <th>4</th>\n",
       "      <td>5</td>\n",
       "    </tr>\n",
       "    <tr>\n",
       "      <th>...</th>\n",
       "      <td>...</td>\n",
       "    </tr>\n",
       "    <tr>\n",
       "      <th>7012</th>\n",
       "      <td>9378</td>\n",
       "    </tr>\n",
       "    <tr>\n",
       "      <th>7013</th>\n",
       "      <td>9379</td>\n",
       "    </tr>\n",
       "    <tr>\n",
       "      <th>7014</th>\n",
       "      <td>9380</td>\n",
       "    </tr>\n",
       "    <tr>\n",
       "      <th>7015</th>\n",
       "      <td>9381</td>\n",
       "    </tr>\n",
       "    <tr>\n",
       "      <th>7016</th>\n",
       "      <td>9382</td>\n",
       "    </tr>\n",
       "  </tbody>\n",
       "</table>\n",
       "<p>7017 rows × 1 columns</p>\n",
       "</div>"
      ],
      "text/plain": [
       "      op_carrier_fl_num\n",
       "0                     1\n",
       "1                     2\n",
       "2                     3\n",
       "3                     4\n",
       "4                     5\n",
       "...                 ...\n",
       "7012               9378\n",
       "7013               9379\n",
       "7014               9380\n",
       "7015               9381\n",
       "7016               9382\n",
       "\n",
       "[7017 rows x 1 columns]"
      ]
     },
     "execution_count": 12,
     "metadata": {},
     "output_type": "execute_result"
    }
   ],
   "source": [
    "#lets see how many different flights we are working with in december 2018\n",
    "pd.read_sql_query(\"SELECT op_carrier_fl_num FROM flights WHERE fl_date between '2018-12-01' and '2018-12-31' GROUP BY op_carrier_fl_num\", conn)"
   ]
  },
  {
   "cell_type": "code",
   "execution_count": 13,
   "metadata": {},
   "outputs": [
    {
     "data": {
      "text/html": [
       "<div>\n",
       "<style scoped>\n",
       "    .dataframe tbody tr th:only-of-type {\n",
       "        vertical-align: middle;\n",
       "    }\n",
       "\n",
       "    .dataframe tbody tr th {\n",
       "        vertical-align: top;\n",
       "    }\n",
       "\n",
       "    .dataframe thead th {\n",
       "        text-align: right;\n",
       "    }\n",
       "</style>\n",
       "<table border=\"1\" class=\"dataframe\">\n",
       "  <thead>\n",
       "    <tr style=\"text-align: right;\">\n",
       "      <th></th>\n",
       "      <th>count</th>\n",
       "    </tr>\n",
       "  </thead>\n",
       "  <tbody>\n",
       "    <tr>\n",
       "      <th>0</th>\n",
       "      <td>5475609</td>\n",
       "    </tr>\n",
       "  </tbody>\n",
       "</table>\n",
       "</div>"
      ],
      "text/plain": [
       "     count\n",
       "0  5475609"
      ]
     },
     "execution_count": 13,
     "metadata": {},
     "output_type": "execute_result"
    }
   ],
   "source": [
    "#check number of rows with arr_delay > 0\n",
    "pd.read_sql_query(\"SELECT COUNT(*) FROM flights WHERE arr_delay > 0\", conn)"
   ]
  },
  {
   "cell_type": "code",
   "execution_count": 14,
   "metadata": {},
   "outputs": [
    {
     "data": {
      "text/plain": [
       "34.378365448154554"
      ]
     },
     "execution_count": 14,
     "metadata": {},
     "output_type": "execute_result"
    }
   ],
   "source": [
    "#percent of rows with arr_delay > 0\n",
    "5475609 / 15927485 * 100"
   ]
  },
  {
   "cell_type": "markdown",
   "metadata": {},
   "source": [
    "## Feature Engineering"
   ]
  },
  {
   "cell_type": "markdown",
   "metadata": {},
   "source": [
    "### airport_id based features"
   ]
  },
  {
   "cell_type": "markdown",
   "metadata": {},
   "source": [
    "#### Rank of Percent of flights delayed"
   ]
  },
  {
   "cell_type": "code",
   "execution_count": 16,
   "metadata": {},
   "outputs": [],
   "source": [
    "#count of flights with arr_delay > 0\n",
    "delay = pd.read_sql_query(\"SELECT origin_airport_id, count(*) FROM flights WHERE dep_delay > 0 GROUP BY origin_airport_id\", conn)\n",
    "\n",
    "#total flights\n",
    "total = pd.read_sql_query(\"SELECT origin_airport_id, count(*) FROM flights GROUP BY origin_airport_id\", conn)\n",
    "\n",
    "#merge df into one, then add a column with the percentage of delay\n",
    "delay_percent = delay.merge(total, on='origin_airport_id')\n",
    "delay_percent['delay_percent'] = delay_percent['count_x'] / delay_percent['count_y'] * 100\n",
    "\n",
    "#create new feature table for origin with delay_percent number\n",
    "airport_features = delay_percent[['origin_airport_id', 'delay_percent']]\n",
    "\n",
    "#sort the table by delay_percent\n",
    "airport_features = airport_features.sort_values(by='delay_percent', ascending=True)\n",
    "\n",
    "#create a new column with the rank of the delay_percent\n",
    "airport_features['Ranking'] = range(1, len(airport_features) + 1)\n",
    "\n",
    "#create CSV file\n",
    "airport_features.to_csv('airport_features.csv')"
   ]
  },
  {
   "cell_type": "markdown",
   "metadata": {},
   "source": [
    "### Tail number features"
   ]
  },
  {
   "cell_type": "markdown",
   "metadata": {},
   "source": [
    "#### Age of aircraft"
   ]
  },
  {
   "cell_type": "code",
   "execution_count": 66,
   "metadata": {},
   "outputs": [],
   "source": [
    "#import csv with date built\n",
    "aircraft = pd.read_csv('aircraftDatabase.csv', low_memory=False)\n",
    "\n",
    "#leave only registration and built year\n",
    "aircraft = aircraft[['registration', 'built']]\n",
    "\n",
    "#rename registration to tail_num\n",
    "aircraft = aircraft.rename(columns={'registration': 'tail_num'})"
   ]
  },
  {
   "cell_type": "code",
   "execution_count": 67,
   "metadata": {},
   "outputs": [
    {
     "name": "stdout",
     "output_type": "stream",
     "text": [
      "(460000, 2)\n",
      "(244135, 2)\n",
      "(244127, 2)\n"
     ]
    }
   ],
   "source": [
    "#clean aircraft table\n",
    "print(aircraft.shape)\n",
    "aircraft = aircraft.dropna()\n",
    "print(aircraft.shape)\n",
    "aircraft = aircraft.drop_duplicates()\n",
    "print(aircraft.shape)"
   ]
  },
  {
   "cell_type": "code",
   "execution_count": 68,
   "metadata": {},
   "outputs": [],
   "source": [
    "#make table of aircraft from flights table\n",
    "tail_num_features = pd.read_sql_query(\"SELECT DISTINCT tail_num, op_unique_carrier FROM flights\", conn)\n",
    "\n",
    "#left join aircraft table to tail_num_features\n",
    "tail_num_features = pd.merge(tail_num_features, aircraft, how='left', on='tail_num')\n",
    "\n",
    "#drop na values based on tail_num_features.tail_num.isna() AKA no tail_num\n",
    "tail_num_features = tail_num_features[~tail_num_features.tail_num.isna()]\n",
    "\n",
    "#change built to first 4 digits to signify year\n",
    "tail_num_features['built'] = tail_num_features['built'].str[:4]"
   ]
  },
  {
   "cell_type": "code",
   "execution_count": 69,
   "metadata": {},
   "outputs": [],
   "source": [
    "#create new df with op_unique_carrier and built\n",
    "carrier_built_avg = tail_num_features[['op_unique_carrier', 'built']]\n",
    "\n",
    "#drop na's\n",
    "carrier_built_avg = carrier_built_avg.dropna()\n",
    "\n",
    "#change built to int\n",
    "carrier_built_avg['built'] = carrier_built_avg['built'].astype(int)\n",
    "\n",
    "#create new df with average built year for each op_unique_carrier\n",
    "carrier_built_avg = carrier_built_avg.groupby('op_unique_carrier').agg({'built': 'mean'})\n",
    "#round built to nearest year\n",
    "carrier_built_avg['built'] = carrier_built_avg['built'].round()\n",
    "\n",
    "#change back to str\n",
    "carrier_built_avg['built'] = carrier_built_avg['built'].astype(str)\n",
    "\n",
    "#take only first 4 digits\n",
    "carrier_built_avg['built'] = carrier_built_avg['built'].str[:4]"
   ]
  },
  {
   "cell_type": "code",
   "execution_count": 70,
   "metadata": {},
   "outputs": [],
   "source": [
    "#fill in na's from tail_num_features['built'] with carrier_built_avg['built']\n",
    "\n",
    "#merge tail_num_features and carrier_built_avg\n",
    "tail_num_features = tail_num_features.merge(carrier_built_avg, on='op_unique_carrier')\n",
    "\n",
    "#create new build column\n",
    "tail_num_features['build'] = tail_num_features['built_x'].where(tail_num_features['built_x'].notnull(), tail_num_features['built_y'])\n",
    "\n",
    "#drop op_unique_carrier, built_x and built_y\n",
    "tail_num_features = tail_num_features.drop(['op_unique_carrier', 'built_x', 'built_y'], axis=1)\n",
    "\n",
    "#drop duplicates\n",
    "tail_num_features = tail_num_features.drop_duplicates()\n",
    "\n",
    "#create new column with age of aircraft\n",
    "tail_num_features['age'] = 2020 - tail_num_features['build'].astype(int)\n",
    "\n",
    "#reindex the table based on tail_num\n",
    "tail_num_features = tail_num_features.set_index('tail_num')\n",
    "\n",
    "#export to csv\n",
    "tail_num_features.to_csv('tail_num_features.csv')"
   ]
  },
  {
   "cell_type": "markdown",
   "metadata": {},
   "source": [
    "### Flight Number features (grouped by op_carrier_fl_num AND rounded crs_dep_time)"
   ]
  },
  {
   "cell_type": "markdown",
   "metadata": {},
   "source": [
    "#### Create a table of unique op_carrier_fl_num and rounded crs_dep_time to serve as a feature table"
   ]
  },
  {
   "cell_type": "code",
   "execution_count": 27,
   "metadata": {},
   "outputs": [],
   "source": [
    "#make a function to clean up the rounded crs_dep_time\n",
    "def clean_round(df):\n",
    "    ### \n",
    "    # change the round column in a dataframe to the first 2 digits signifying the hour\n",
    "    ###\n",
    "    df['round'] = df['round'].astype(str)\n",
    "    df['round'] = df['round'].str.zfill(6)\n",
    "    df['round'] = df['round'].str[:2]\n",
    "    return df\n"
   ]
  },
  {
   "cell_type": "code",
   "execution_count": 28,
   "metadata": {},
   "outputs": [],
   "source": [
    "#create a table for all flights not just delayed\n",
    "flight_num_features = pd.read_sql_query(\"SELECT op_carrier_fl_num, round(crs_dep_time, -2) as round, AVG(carrier_delay + weather_delay + nas_delay + security_delay + late_aircraft_delay) as Avg_sum_of_delays, AVG(arr_delay) as avg_del_total, count(*) as total_flights FROM flights GROUP BY op_carrier_fl_num, round\", conn)\n",
    "\n",
    "#clean round\n",
    "clean_round(flight_num_features)\n",
    "\n",
    "#reindex the table based on op_carrier_fl_num AND round\n",
    "flight_num_features = flight_num_features.set_index(['op_carrier_fl_num', 'round'])"
   ]
  },
  {
   "cell_type": "markdown",
   "metadata": {},
   "source": [
    "#### 'avg_sum_of_delays', 'avg_del_total', 'total_flights','avg_del_if_delayed', 'times_delayed', 'percent_delayed'"
   ]
  },
  {
   "cell_type": "code",
   "execution_count": 29,
   "metadata": {},
   "outputs": [],
   "source": [
    "#find average delay for each group of op_carrier_fl_num AND crs_dep_time_rounded\n",
    "#filter in rows with arr_delay > 0\n",
    "flight_num_sub_if_delayed = pd.read_sql_query(\"SELECT op_carrier_fl_num, round(crs_dep_time, -2) as round, AVG(arr_delay) as avg_del_if_delayed, count(arr_delay) as times_delayed FROM flights WHERE arr_delay > 0 GROUP BY op_carrier_fl_num, round\", conn)\n",
    "\n",
    "#clean round\n",
    "clean_round(flight_num_sub_if_delayed)\n",
    "\n",
    "#reindex the table based on op_carrier_fl_num AND round\n",
    "flight_num_sub_if_delayed = flight_num_sub_if_delayed.set_index(['op_carrier_fl_num', 'round'])\n",
    "\n",
    "#join flight_num_features and flight_num_sub_if_delayed\n",
    "flight_num_features = pd.merge(flight_num_features, flight_num_sub_if_delayed, how='left', left_index=True, right_index=True)\n",
    "\n",
    "#drop duplicate rows\n",
    "flight_num_features = flight_num_features.drop_duplicates()\n",
    "\n",
    "#fill in NA's with 0\n",
    "flight_num_features = flight_num_features.fillna(0)\n",
    "\n",
    "#change times_delayed to int\n",
    "flight_num_features['times_delayed'] = flight_num_features['times_delayed'].astype(int)\n",
    "\n",
    "#create new column with the percentage of flights that were delayed\n",
    "flight_num_features['percent_delayed'] = (flight_num_features['times_delayed'] / flight_num_features['total_flights'] * 100).round(2)\n",
    "\n",
    "#export to csv\n",
    "flight_num_features.to_csv('flight_num_features.csv')"
   ]
  },
  {
   "cell_type": "markdown",
   "metadata": {},
   "source": [
    "### Carrier features ###"
   ]
  },
  {
   "cell_type": "markdown",
   "metadata": {},
   "source": [
    "#### 'avg_delay', 'avg_carrier_delay', 'avg_delay_if_del', 'avg_carrier_delay_if_del', 'total_flights', 'delayed_flights', 'percent_delayed'"
   ]
  },
  {
   "cell_type": "code",
   "execution_count": 32,
   "metadata": {},
   "outputs": [],
   "source": [
    "#create a table of unique op_unique_carrier from flights\n",
    "carrier_features = pd.read_sql_query(\"SELECT op_unique_carrier, AVG(arr_delay) as avg_delay, AVG(carrier_delay) as avg_carrier_delay, count(*) as total_flights FROM flights GROUP BY op_unique_carrier\", conn)\n",
    "\n",
    "#reindex the table based on op_unique_carrier\n",
    "carrier_features = carrier_features.set_index('op_unique_carrier')\n",
    "\n",
    "#create a table for delayed flights\n",
    "carrier_features_del = pd.read_sql_query(\"SELECT op_unique_carrier, AVG(arr_delay) as avg_delay_if_del, AVG(carrier_delay) as avg_carrier_delay_if_del, count(*) as delayed_flights FROM flights WHERE arr_delay > 0 GROUP BY op_unique_carrier\", conn)\n",
    "\n",
    "#reindex the table based on op_unique_carrier\n",
    "carrier_features_del = carrier_features_del.set_index('op_unique_carrier')\n",
    "\n",
    "#join carrier_features and carrier_features_del\n",
    "carrier_features = pd.merge(carrier_features, carrier_features_del, how='left', left_index=True, right_index=True)\n",
    "\n",
    "#create new column for percent of flights that were delayed\n",
    "carrier_features['percent_delayed'] = (carrier_features['delayed_flights'] / carrier_features['total_flights'] * 100).round(2)\n",
    "\n",
    "carrier_features.to_csv('carrier_features.csv')"
   ]
  }
 ],
 "metadata": {
  "interpreter": {
   "hash": "61eb752513cdfbfc593d5dafedaabac1a903992c1c7426e159453f596aa70de6"
  },
  "kernelspec": {
   "display_name": "Python 3.8.11 64-bit ('base': conda)",
   "language": "python",
   "name": "python3"
  },
  "language_info": {
   "codemirror_mode": {
    "name": "ipython",
    "version": 3
   },
   "file_extension": ".py",
   "mimetype": "text/x-python",
   "name": "python",
   "nbconvert_exporter": "python",
   "pygments_lexer": "ipython3",
   "version": "3.8.11"
  },
  "orig_nbformat": 4
 },
 "nbformat": 4,
 "nbformat_minor": 2
}
