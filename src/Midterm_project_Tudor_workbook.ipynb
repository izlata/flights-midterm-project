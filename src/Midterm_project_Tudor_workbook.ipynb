{
 "cells": [
  {
   "cell_type": "markdown",
   "metadata": {},
   "source": [
    "# Notebook for midterm project - Tudor"
   ]
  },
  {
   "cell_type": "markdown",
   "metadata": {},
   "source": [
    "### Importing the libraries and connection to database"
   ]
  },
  {
   "cell_type": "code",
   "execution_count": 4,
   "metadata": {},
   "outputs": [],
   "source": [
    "#import libraries\n",
    "import requests\n",
    "import json\n",
    "import pandas as pd\n",
    "import matplotlib.pyplot as plt\n",
    "import numpy as np\n",
    "import seaborn as sns\n",
    "import sqlite3\n",
    "\n",
    "#import test_train_split\n",
    "from sklearn.model_selection import train_test_split\n",
    "\n",
    "#import StandardScaler()\n",
    "from sklearn.preprocessing import StandardScaler\n",
    "\n",
    "#import scikit learn RandomizedSearchCV\n",
    "from sklearn.model_selection import RandomizedSearchCV\n",
    "\n",
    "#import RandomForestRegressor\n",
    "from sklearn.ensemble import RandomForestRegressor\n",
    "\n",
    "#import MinMaxScaler\n",
    "from sklearn.preprocessing import MinMaxScaler\n",
    "\n",
    "#import XGBoost\n",
    "from xgboost import XGBRegressor\n",
    "\n",
    "#import GridSearchCV\n",
    "from sklearn.model_selection import GridSearchCV\n",
    "\n",
    "#import log scaler\n",
    "from sklearn.preprocessing import RobustScaler\n",
    "\n",
    "from sklearn.metrics import mean_absolute_error\n",
    "from sklearn.metrics import mean_squared_error\n",
    "\n",
    "#import SVRegressor\n",
    "from sklearn.svm import SVR\n",
    "\n",
    "#import pickle\n",
    "import pickle\n",
    "\n",
    "#import GradientBoostingRegressor\n",
    "from sklearn.ensemble import GradientBoostingRegressor\n",
    "\n",
    "\n",
    "pd.set_option('display.max_columns', None)\n"
   ]
  },
  {
   "cell_type": "markdown",
   "metadata": {},
   "source": [
    "## Data Exploration"
   ]
  },
  {
   "cell_type": "markdown",
   "metadata": {},
   "source": [
    "### Table information"
   ]
  },
  {
   "cell_type": "code",
   "execution_count": 5,
   "metadata": {},
   "outputs": [],
   "source": [
    "#pull the list of tables from the database\n",
    "tables = pd.read_sql_query('SELECT * FROM information_schema.tables WHERE table_schema = \\'public\\'', conn)"
   ]
  },
  {
   "cell_type": "code",
   "execution_count": 6,
   "metadata": {},
   "outputs": [
    {
     "data": {
      "text/html": [
       "<div>\n",
       "<style scoped>\n",
       "    .dataframe tbody tr th:only-of-type {\n",
       "        vertical-align: middle;\n",
       "    }\n",
       "\n",
       "    .dataframe tbody tr th {\n",
       "        vertical-align: top;\n",
       "    }\n",
       "\n",
       "    .dataframe thead th {\n",
       "        text-align: right;\n",
       "    }\n",
       "</style>\n",
       "<table border=\"1\" class=\"dataframe\">\n",
       "  <thead>\n",
       "    <tr style=\"text-align: right;\">\n",
       "      <th></th>\n",
       "      <th>table_catalog</th>\n",
       "      <th>table_schema</th>\n",
       "      <th>table_name</th>\n",
       "      <th>table_type</th>\n",
       "      <th>self_referencing_column_name</th>\n",
       "      <th>reference_generation</th>\n",
       "      <th>user_defined_type_catalog</th>\n",
       "      <th>user_defined_type_schema</th>\n",
       "      <th>user_defined_type_name</th>\n",
       "      <th>is_insertable_into</th>\n",
       "      <th>is_typed</th>\n",
       "      <th>commit_action</th>\n",
       "    </tr>\n",
       "  </thead>\n",
       "  <tbody>\n",
       "    <tr>\n",
       "      <th>0</th>\n",
       "      <td>mid_term_project</td>\n",
       "      <td>public</td>\n",
       "      <td>flights_test</td>\n",
       "      <td>BASE TABLE</td>\n",
       "      <td>None</td>\n",
       "      <td>None</td>\n",
       "      <td>None</td>\n",
       "      <td>None</td>\n",
       "      <td>None</td>\n",
       "      <td>YES</td>\n",
       "      <td>NO</td>\n",
       "      <td>None</td>\n",
       "    </tr>\n",
       "    <tr>\n",
       "      <th>1</th>\n",
       "      <td>mid_term_project</td>\n",
       "      <td>public</td>\n",
       "      <td>flights</td>\n",
       "      <td>BASE TABLE</td>\n",
       "      <td>None</td>\n",
       "      <td>None</td>\n",
       "      <td>None</td>\n",
       "      <td>None</td>\n",
       "      <td>None</td>\n",
       "      <td>YES</td>\n",
       "      <td>NO</td>\n",
       "      <td>None</td>\n",
       "    </tr>\n",
       "    <tr>\n",
       "      <th>2</th>\n",
       "      <td>mid_term_project</td>\n",
       "      <td>public</td>\n",
       "      <td>passengers</td>\n",
       "      <td>BASE TABLE</td>\n",
       "      <td>None</td>\n",
       "      <td>None</td>\n",
       "      <td>None</td>\n",
       "      <td>None</td>\n",
       "      <td>None</td>\n",
       "      <td>YES</td>\n",
       "      <td>NO</td>\n",
       "      <td>None</td>\n",
       "    </tr>\n",
       "    <tr>\n",
       "      <th>3</th>\n",
       "      <td>mid_term_project</td>\n",
       "      <td>public</td>\n",
       "      <td>fuel_comsumption</td>\n",
       "      <td>BASE TABLE</td>\n",
       "      <td>None</td>\n",
       "      <td>None</td>\n",
       "      <td>None</td>\n",
       "      <td>None</td>\n",
       "      <td>None</td>\n",
       "      <td>YES</td>\n",
       "      <td>NO</td>\n",
       "      <td>None</td>\n",
       "    </tr>\n",
       "  </tbody>\n",
       "</table>\n",
       "</div>"
      ],
      "text/plain": [
       "      table_catalog table_schema        table_name  table_type  \\\n",
       "0  mid_term_project       public      flights_test  BASE TABLE   \n",
       "1  mid_term_project       public           flights  BASE TABLE   \n",
       "2  mid_term_project       public        passengers  BASE TABLE   \n",
       "3  mid_term_project       public  fuel_comsumption  BASE TABLE   \n",
       "\n",
       "  self_referencing_column_name reference_generation user_defined_type_catalog  \\\n",
       "0                         None                 None                      None   \n",
       "1                         None                 None                      None   \n",
       "2                         None                 None                      None   \n",
       "3                         None                 None                      None   \n",
       "\n",
       "  user_defined_type_schema user_defined_type_name is_insertable_into is_typed  \\\n",
       "0                     None                   None                YES       NO   \n",
       "1                     None                   None                YES       NO   \n",
       "2                     None                   None                YES       NO   \n",
       "3                     None                   None                YES       NO   \n",
       "\n",
       "  commit_action  \n",
       "0          None  \n",
       "1          None  \n",
       "2          None  \n",
       "3          None  "
      ]
     },
     "execution_count": 6,
     "metadata": {},
     "output_type": "execute_result"
    }
   ],
   "source": [
    "tables"
   ]
  },
  {
   "cell_type": "markdown",
   "metadata": {},
   "source": [
    "### Columns"
   ]
  },
  {
   "cell_type": "code",
   "execution_count": 7,
   "metadata": {},
   "outputs": [],
   "source": [
    "#get column names from the table\n",
    "columns = pd.read_sql_query('SELECT * FROM information_schema.columns WHERE table_schema = \\'public\\'', conn)"
   ]
  },
  {
   "cell_type": "code",
   "execution_count": 8,
   "metadata": {},
   "outputs": [],
   "source": [
    "#coloumns to csv\n",
    "columns.to_csv('columns.csv')"
   ]
  },
  {
   "cell_type": "markdown",
   "metadata": {},
   "source": [
    "### Data selection"
   ]
  },
  {
   "cell_type": "code",
   "execution_count": 9,
   "metadata": {},
   "outputs": [],
   "source": [
    "#select <0.3% random rows from the flights table\n",
    "flights_ran_subset = pd.read_sql_query('SELECT * FROM flights WHERE random() < 0.003', conn)\n",
    "flights_ran_subset.to_csv('flights_ran_subset.csv')"
   ]
  },
  {
   "cell_type": "markdown",
   "metadata": {},
   "source": [
    "### Some checks on the data"
   ]
  },
  {
   "cell_type": "code",
   "execution_count": 10,
   "metadata": {},
   "outputs": [],
   "source": [
    "#how many rows are we working with\n",
    "pd.read_sql_query('SELECT COUNT(*) FROM flights', conn)\n",
    "#15927485 rows\n",
    "\n",
    "#lets see how many rows we have in the flight_test table\n",
    "pd.read_sql_query('SELECT COUNT(*) FROM flights_test', conn)\n",
    "#660556 rows\n",
    "\n",
    "\n",
    "#count the number of rows by origin city\n",
    "pd.read_sql_query('SELECT origin_city_name, COUNT(*) FROM flights GROUP BY origin_city_name', conn).to_csv('origin_city_name.csv')\n",
    "#all flights leave USA, the Ontario,CA had be going for a sec there\n",
    "pd.read_sql_query('SELECT dest_city_name, COUNT(*) FROM flights GROUP BY dest_city_name', conn).to_csv('dest_city_name.csv')\n",
    "#and land in USA"
   ]
  },
  {
   "cell_type": "code",
   "execution_count": 11,
   "metadata": {},
   "outputs": [
    {
     "data": {
      "text/html": [
       "<div>\n",
       "<style scoped>\n",
       "    .dataframe tbody tr th:only-of-type {\n",
       "        vertical-align: middle;\n",
       "    }\n",
       "\n",
       "    .dataframe tbody tr th {\n",
       "        vertical-align: top;\n",
       "    }\n",
       "\n",
       "    .dataframe thead th {\n",
       "        text-align: right;\n",
       "    }\n",
       "</style>\n",
       "<table border=\"1\" class=\"dataframe\">\n",
       "  <thead>\n",
       "    <tr style=\"text-align: right;\">\n",
       "      <th></th>\n",
       "      <th>count</th>\n",
       "    </tr>\n",
       "  </thead>\n",
       "  <tbody>\n",
       "    <tr>\n",
       "      <th>0</th>\n",
       "      <td>669008</td>\n",
       "    </tr>\n",
       "  </tbody>\n",
       "</table>\n",
       "</div>"
      ],
      "text/plain": [
       "    count\n",
       "0  669008"
      ]
     },
     "execution_count": 11,
     "metadata": {},
     "output_type": "execute_result"
    }
   ],
   "source": [
    "#count the number of rows bewtween fl_date 2018-12-01 and 2019-01-01 (inclusive?, need to check)\n",
    "pd.read_sql_query(\"SELECT COUNT(*) FROM flights WHERE fl_date between '2018-12-01' and '2019-01-01'\", conn)"
   ]
  },
  {
   "cell_type": "code",
   "execution_count": 12,
   "metadata": {},
   "outputs": [
    {
     "data": {
      "text/html": [
       "<div>\n",
       "<style scoped>\n",
       "    .dataframe tbody tr th:only-of-type {\n",
       "        vertical-align: middle;\n",
       "    }\n",
       "\n",
       "    .dataframe tbody tr th {\n",
       "        vertical-align: top;\n",
       "    }\n",
       "\n",
       "    .dataframe thead th {\n",
       "        text-align: right;\n",
       "    }\n",
       "</style>\n",
       "<table border=\"1\" class=\"dataframe\">\n",
       "  <thead>\n",
       "    <tr style=\"text-align: right;\">\n",
       "      <th></th>\n",
       "      <th>count</th>\n",
       "    </tr>\n",
       "  </thead>\n",
       "  <tbody>\n",
       "    <tr>\n",
       "      <th>0</th>\n",
       "      <td>679941</td>\n",
       "    </tr>\n",
       "  </tbody>\n",
       "</table>\n",
       "</div>"
      ],
      "text/plain": [
       "    count\n",
       "0  679941"
      ]
     },
     "execution_count": 12,
     "metadata": {},
     "output_type": "execute_result"
    }
   ],
   "source": [
    "#count the number of rows bewtween fl_date 2019-12-01 and 2020-01-01 (inclusive?, need to check)\n",
    "pd.read_sql_query(\"SELECT COUNT(*) FROM flights WHERE fl_date between '2019-12-01' and '2020-01-01'\", conn)"
   ]
  },
  {
   "cell_type": "code",
   "execution_count": 13,
   "metadata": {},
   "outputs": [
    {
     "data": {
      "text/html": [
       "<div>\n",
       "<style scoped>\n",
       "    .dataframe tbody tr th:only-of-type {\n",
       "        vertical-align: middle;\n",
       "    }\n",
       "\n",
       "    .dataframe tbody tr th {\n",
       "        vertical-align: top;\n",
       "    }\n",
       "\n",
       "    .dataframe thead th {\n",
       "        text-align: right;\n",
       "    }\n",
       "</style>\n",
       "<table border=\"1\" class=\"dataframe\">\n",
       "  <thead>\n",
       "    <tr style=\"text-align: right;\">\n",
       "      <th></th>\n",
       "      <th>op_carrier_fl_num</th>\n",
       "    </tr>\n",
       "  </thead>\n",
       "  <tbody>\n",
       "    <tr>\n",
       "      <th>0</th>\n",
       "      <td>1</td>\n",
       "    </tr>\n",
       "    <tr>\n",
       "      <th>1</th>\n",
       "      <td>2</td>\n",
       "    </tr>\n",
       "    <tr>\n",
       "      <th>2</th>\n",
       "      <td>3</td>\n",
       "    </tr>\n",
       "    <tr>\n",
       "      <th>3</th>\n",
       "      <td>4</td>\n",
       "    </tr>\n",
       "    <tr>\n",
       "      <th>4</th>\n",
       "      <td>5</td>\n",
       "    </tr>\n",
       "    <tr>\n",
       "      <th>...</th>\n",
       "      <td>...</td>\n",
       "    </tr>\n",
       "    <tr>\n",
       "      <th>7012</th>\n",
       "      <td>9378</td>\n",
       "    </tr>\n",
       "    <tr>\n",
       "      <th>7013</th>\n",
       "      <td>9379</td>\n",
       "    </tr>\n",
       "    <tr>\n",
       "      <th>7014</th>\n",
       "      <td>9380</td>\n",
       "    </tr>\n",
       "    <tr>\n",
       "      <th>7015</th>\n",
       "      <td>9381</td>\n",
       "    </tr>\n",
       "    <tr>\n",
       "      <th>7016</th>\n",
       "      <td>9382</td>\n",
       "    </tr>\n",
       "  </tbody>\n",
       "</table>\n",
       "<p>7017 rows × 1 columns</p>\n",
       "</div>"
      ],
      "text/plain": [
       "      op_carrier_fl_num\n",
       "0                     1\n",
       "1                     2\n",
       "2                     3\n",
       "3                     4\n",
       "4                     5\n",
       "...                 ...\n",
       "7012               9378\n",
       "7013               9379\n",
       "7014               9380\n",
       "7015               9381\n",
       "7016               9382\n",
       "\n",
       "[7017 rows x 1 columns]"
      ]
     },
     "execution_count": 13,
     "metadata": {},
     "output_type": "execute_result"
    }
   ],
   "source": [
    "#lets see how many different flights are in the flight table\n",
    "pd.read_sql_query(\"SELECT op_carrier_fl_num FROM flights WHERE fl_date between '2018-12-01' and '2018-12-31' GROUP BY op_carrier_fl_num\", conn)"
   ]
  },
  {
   "cell_type": "code",
   "execution_count": 14,
   "metadata": {},
   "outputs": [
    {
     "data": {
      "text/html": [
       "<div>\n",
       "<style scoped>\n",
       "    .dataframe tbody tr th:only-of-type {\n",
       "        vertical-align: middle;\n",
       "    }\n",
       "\n",
       "    .dataframe tbody tr th {\n",
       "        vertical-align: top;\n",
       "    }\n",
       "\n",
       "    .dataframe thead th {\n",
       "        text-align: right;\n",
       "    }\n",
       "</style>\n",
       "<table border=\"1\" class=\"dataframe\">\n",
       "  <thead>\n",
       "    <tr style=\"text-align: right;\">\n",
       "      <th></th>\n",
       "      <th>op_carrier_fl_num</th>\n",
       "    </tr>\n",
       "  </thead>\n",
       "  <tbody>\n",
       "    <tr>\n",
       "      <th>0</th>\n",
       "      <td>1</td>\n",
       "    </tr>\n",
       "    <tr>\n",
       "      <th>1</th>\n",
       "      <td>2</td>\n",
       "    </tr>\n",
       "    <tr>\n",
       "      <th>2</th>\n",
       "      <td>3</td>\n",
       "    </tr>\n",
       "    <tr>\n",
       "      <th>3</th>\n",
       "      <td>4</td>\n",
       "    </tr>\n",
       "    <tr>\n",
       "      <th>4</th>\n",
       "      <td>5</td>\n",
       "    </tr>\n",
       "    <tr>\n",
       "      <th>...</th>\n",
       "      <td>...</td>\n",
       "    </tr>\n",
       "    <tr>\n",
       "      <th>7012</th>\n",
       "      <td>9378</td>\n",
       "    </tr>\n",
       "    <tr>\n",
       "      <th>7013</th>\n",
       "      <td>9379</td>\n",
       "    </tr>\n",
       "    <tr>\n",
       "      <th>7014</th>\n",
       "      <td>9380</td>\n",
       "    </tr>\n",
       "    <tr>\n",
       "      <th>7015</th>\n",
       "      <td>9381</td>\n",
       "    </tr>\n",
       "    <tr>\n",
       "      <th>7016</th>\n",
       "      <td>9382</td>\n",
       "    </tr>\n",
       "  </tbody>\n",
       "</table>\n",
       "<p>7017 rows × 1 columns</p>\n",
       "</div>"
      ],
      "text/plain": [
       "      op_carrier_fl_num\n",
       "0                     1\n",
       "1                     2\n",
       "2                     3\n",
       "3                     4\n",
       "4                     5\n",
       "...                 ...\n",
       "7012               9378\n",
       "7013               9379\n",
       "7014               9380\n",
       "7015               9381\n",
       "7016               9382\n",
       "\n",
       "[7017 rows x 1 columns]"
      ]
     },
     "execution_count": 14,
     "metadata": {},
     "output_type": "execute_result"
    }
   ],
   "source": [
    "#lets see how many different flights we are working with in december 2018\n",
    "pd.read_sql_query(\"SELECT op_carrier_fl_num FROM flights WHERE fl_date between '2018-12-01' and '2018-12-31' GROUP BY op_carrier_fl_num\", conn)"
   ]
  },
  {
   "cell_type": "code",
   "execution_count": 15,
   "metadata": {},
   "outputs": [
    {
     "data": {
      "text/html": [
       "<div>\n",
       "<style scoped>\n",
       "    .dataframe tbody tr th:only-of-type {\n",
       "        vertical-align: middle;\n",
       "    }\n",
       "\n",
       "    .dataframe tbody tr th {\n",
       "        vertical-align: top;\n",
       "    }\n",
       "\n",
       "    .dataframe thead th {\n",
       "        text-align: right;\n",
       "    }\n",
       "</style>\n",
       "<table border=\"1\" class=\"dataframe\">\n",
       "  <thead>\n",
       "    <tr style=\"text-align: right;\">\n",
       "      <th></th>\n",
       "      <th>count</th>\n",
       "    </tr>\n",
       "  </thead>\n",
       "  <tbody>\n",
       "    <tr>\n",
       "      <th>0</th>\n",
       "      <td>5475609</td>\n",
       "    </tr>\n",
       "  </tbody>\n",
       "</table>\n",
       "</div>"
      ],
      "text/plain": [
       "     count\n",
       "0  5475609"
      ]
     },
     "execution_count": 15,
     "metadata": {},
     "output_type": "execute_result"
    }
   ],
   "source": [
    "#check number of rows with arr_delay > 0\n",
    "pd.read_sql_query(\"SELECT COUNT(*) FROM flights WHERE arr_delay > 0\", conn)"
   ]
  },
  {
   "cell_type": "code",
   "execution_count": 16,
   "metadata": {},
   "outputs": [
    {
     "data": {
      "text/plain": [
       "34.378365448154554"
      ]
     },
     "execution_count": 16,
     "metadata": {},
     "output_type": "execute_result"
    }
   ],
   "source": [
    "#percent of rows with arr_delay > 0\n",
    "5475609 / 15927485 * 100"
   ]
  },
  {
   "cell_type": "markdown",
   "metadata": {},
   "source": [
    "## Feature Engineering"
   ]
  },
  {
   "cell_type": "markdown",
   "metadata": {},
   "source": [
    "### airport_id based features"
   ]
  },
  {
   "cell_type": "markdown",
   "metadata": {},
   "source": [
    "#### Rank of Percent of flights delayed"
   ]
  },
  {
   "cell_type": "code",
   "execution_count": 17,
   "metadata": {},
   "outputs": [],
   "source": [
    "#count of flights with arr_delay > 0\n",
    "delay = pd.read_sql_query(\"SELECT origin_airport_id, count(*) FROM flights WHERE dep_delay > 0 GROUP BY origin_airport_id\", conn)\n",
    "\n",
    "#total flights\n",
    "total = pd.read_sql_query(\"SELECT origin_airport_id, count(*) FROM flights GROUP BY origin_airport_id\", conn)\n",
    "\n",
    "#merge df into one, then add a column with the percentage of delay\n",
    "delay_percent = delay.merge(total, on='origin_airport_id')\n",
    "delay_percent['delay_percent'] = delay_percent['count_x'] / delay_percent['count_y'] * 100\n",
    "\n",
    "#create new feature table for origin with delay_percent number\n",
    "airport_features = delay_percent[['origin_airport_id', 'delay_percent']]\n",
    "\n",
    "#sort the table by delay_percent\n",
    "airport_features = airport_features.sort_values(by='delay_percent', ascending=True)\n",
    "\n",
    "#create a new column with the rank of the delay_percent\n",
    "airport_features['Ranking'] = range(1, len(airport_features) + 1)\n",
    "\n",
    "#create CSV file\n",
    "airport_features.to_csv('airport_features.csv')"
   ]
  },
  {
   "cell_type": "markdown",
   "metadata": {},
   "source": [
    "### Tail number features"
   ]
  },
  {
   "cell_type": "markdown",
   "metadata": {},
   "source": [
    "#### Age of aircraft"
   ]
  },
  {
   "cell_type": "code",
   "execution_count": 18,
   "metadata": {},
   "outputs": [],
   "source": [
    "#import csv with date built\n",
    "aircraft = pd.read_csv('aircraftDatabase.csv', low_memory=False)\n",
    "\n",
    "#leave only registration and built year\n",
    "aircraft = aircraft[['registration', 'built']]\n",
    "\n",
    "#rename registration to tail_num\n",
    "aircraft = aircraft.rename(columns={'registration': 'tail_num'})"
   ]
  },
  {
   "cell_type": "code",
   "execution_count": 19,
   "metadata": {},
   "outputs": [
    {
     "name": "stdout",
     "output_type": "stream",
     "text": [
      "(460000, 2)\n",
      "(244135, 2)\n",
      "(244127, 2)\n"
     ]
    }
   ],
   "source": [
    "#clean aircraft table\n",
    "print(aircraft.shape)\n",
    "aircraft = aircraft.dropna()\n",
    "print(aircraft.shape)\n",
    "aircraft = aircraft.drop_duplicates()\n",
    "print(aircraft.shape)"
   ]
  },
  {
   "cell_type": "code",
   "execution_count": 20,
   "metadata": {},
   "outputs": [],
   "source": [
    "#make table of aircraft from flights table\n",
    "tail_num_features = pd.read_sql_query(\"SELECT DISTINCT tail_num, op_unique_carrier FROM flights\", conn)\n",
    "\n",
    "#left join aircraft table to tail_num_features\n",
    "tail_num_features = pd.merge(tail_num_features, aircraft, how='left', on='tail_num')\n",
    "\n",
    "#drop na values based on tail_num_features.tail_num.isna() AKA no tail_num\n",
    "tail_num_features = tail_num_features[~tail_num_features.tail_num.isna()]\n",
    "\n",
    "#change built to first 4 digits to signify year\n",
    "tail_num_features['built'] = tail_num_features['built'].str[:4]"
   ]
  },
  {
   "cell_type": "code",
   "execution_count": 21,
   "metadata": {},
   "outputs": [],
   "source": [
    "#create new df with op_unique_carrier and built\n",
    "carrier_built_avg = tail_num_features[['op_unique_carrier', 'built']]\n",
    "\n",
    "#drop na's\n",
    "carrier_built_avg = carrier_built_avg.dropna()\n",
    "\n",
    "#change built to int\n",
    "carrier_built_avg['built'] = carrier_built_avg['built'].astype(int)\n",
    "\n",
    "#create new df with average built year for each op_unique_carrier\n",
    "carrier_built_avg = carrier_built_avg.groupby('op_unique_carrier').agg({'built': 'mean'})\n",
    "#round built to nearest year\n",
    "carrier_built_avg['built'] = carrier_built_avg['built'].round()\n",
    "\n",
    "#change back to str\n",
    "carrier_built_avg['built'] = carrier_built_avg['built'].astype(str)\n",
    "\n",
    "#take only first 4 digits\n",
    "carrier_built_avg['built'] = carrier_built_avg['built'].str[:4]"
   ]
  },
  {
   "cell_type": "code",
   "execution_count": 22,
   "metadata": {},
   "outputs": [],
   "source": [
    "#fill in na's from tail_num_features['built'] with carrier_built_avg['built']\n",
    "\n",
    "#merge tail_num_features and carrier_built_avg\n",
    "tail_num_features = tail_num_features.merge(carrier_built_avg, on='op_unique_carrier')\n",
    "\n",
    "#create new build column\n",
    "tail_num_features['build'] = tail_num_features['built_x'].where(tail_num_features['built_x'].notnull(), tail_num_features['built_y'])\n",
    "\n",
    "#drop op_unique_carrier, built_x and built_y\n",
    "tail_num_features = tail_num_features.drop(['op_unique_carrier', 'built_x', 'built_y'], axis=1)\n",
    "\n",
    "#drop duplicates\n",
    "tail_num_features = tail_num_features.drop_duplicates()\n",
    "\n",
    "#create new column with age of aircraft\n",
    "tail_num_features['age'] = 2020 - tail_num_features['build'].astype(int)\n",
    "\n",
    "#remove aircraft that have duplicated ages\n",
    "tail_num_features = tail_num_features.drop_duplicates(subset='tail_num', keep='last')\n",
    "\n",
    "#export to csv\n",
    "tail_num_features.to_csv('tail_num_features.csv')"
   ]
  },
  {
   "cell_type": "markdown",
   "metadata": {},
   "source": [
    "### Flight Number features (grouped by op_carrier_fl_num AND rounded crs_dep_time)"
   ]
  },
  {
   "cell_type": "markdown",
   "metadata": {},
   "source": [
    "#### Create a table of unique op_carrier_fl_num and rounded crs_dep_time to serve as a feature table"
   ]
  },
  {
   "cell_type": "code",
   "execution_count": 23,
   "metadata": {},
   "outputs": [],
   "source": [
    "#make a function to clean up the rounded crs_dep_time\n",
    "def clean_round(df):\n",
    "    ### \n",
    "    # change the round column in a dataframe to the first 2 digits signifying the hour\n",
    "    ###\n",
    "    df['round'] = df['round'].astype(str)\n",
    "    df['round'] = df['round'].str.zfill(6)\n",
    "    df['round'] = df['round'].str[:2]\n",
    "    #change 24 to 23\n",
    "    df.loc[df['round'] == '24', 'round'] = '23'\n",
    "    return df\n"
   ]
  },
  {
   "cell_type": "code",
   "execution_count": 24,
   "metadata": {},
   "outputs": [],
   "source": [
    "#create a table for all flights not just delayed\n",
    "flight_num_features = pd.read_sql_query(\"SELECT op_carrier_fl_num, round(crs_dep_time, -2) as round, AVG(carrier_delay + weather_delay + nas_delay + security_delay + late_aircraft_delay) as Avg_sum_of_delays, AVG(arr_delay) as avg_del_total, count(*) as total_flights FROM flights GROUP BY op_carrier_fl_num, round\", conn)\n",
    "\n",
    "#clean round\n",
    "clean_round(flight_num_features)\n",
    "\n",
    "#reindex the table based on op_carrier_fl_num AND round\n",
    "flight_num_features = flight_num_features.set_index(['op_carrier_fl_num', 'round'])"
   ]
  },
  {
   "cell_type": "markdown",
   "metadata": {},
   "source": [
    "#### 'avg_sum_of_delays', 'avg_del_total', 'total_flights','avg_del_if_delayed', 'times_delayed', 'percent_delayed'"
   ]
  },
  {
   "cell_type": "code",
   "execution_count": 167,
   "metadata": {},
   "outputs": [
    {
     "ename": "NameError",
     "evalue": "name 'clean_round' is not defined",
     "output_type": "error",
     "traceback": [
      "\u001b[0;31m---------------------------------------------------------------------------\u001b[0m",
      "\u001b[0;31mNameError\u001b[0m                                 Traceback (most recent call last)",
      "\u001b[0;32m<ipython-input-167-f80e5f66b91f>\u001b[0m in \u001b[0;36m<module>\u001b[0;34m\u001b[0m\n\u001b[1;32m      4\u001b[0m \u001b[0;34m\u001b[0m\u001b[0m\n\u001b[1;32m      5\u001b[0m \u001b[0;31m#clean round\u001b[0m\u001b[0;34m\u001b[0m\u001b[0;34m\u001b[0m\u001b[0;34m\u001b[0m\u001b[0m\n\u001b[0;32m----> 6\u001b[0;31m \u001b[0mclean_round\u001b[0m\u001b[0;34m(\u001b[0m\u001b[0mflight_num_sub_if_delayed\u001b[0m\u001b[0;34m)\u001b[0m\u001b[0;34m\u001b[0m\u001b[0;34m\u001b[0m\u001b[0m\n\u001b[0m\u001b[1;32m      7\u001b[0m \u001b[0;34m\u001b[0m\u001b[0m\n\u001b[1;32m      8\u001b[0m \u001b[0;31m#reindex the table based on op_carrier_fl_num AND round\u001b[0m\u001b[0;34m\u001b[0m\u001b[0;34m\u001b[0m\u001b[0;34m\u001b[0m\u001b[0m\n",
      "\u001b[0;31mNameError\u001b[0m: name 'clean_round' is not defined"
     ]
    }
   ],
   "source": [
    "#find average delay for each group of op_carrier_fl_num AND crs_dep_time_rounded\n",
    "#filter in rows with arr_delay > 0\n",
    "flight_num_sub_if_delayed = pd.read_sql_query(\"SELECT op_carrier_fl_num, round(crs_dep_time, -2) as round, AVG(arr_delay) as avg_del_if_delayed, count(arr_delay) as times_delayed FROM flights WHERE arr_delay > 0 GROUP BY op_carrier_fl_num, round\", conn)\n",
    "\n",
    "#clean round\n",
    "clean_round(flight_num_sub_if_delayed)\n",
    "\n",
    "#reindex the table based on op_carrier_fl_num AND round\n",
    "flight_num_sub_if_delayed = flight_num_sub_if_delayed.set_index(['op_carrier_fl_num', 'round'])\n",
    "\n",
    "#join flight_num_features and flight_num_sub_if_delayed\n",
    "flight_num_features = pd.merge(flight_num_features, flight_num_sub_if_delayed, how='left', left_index=True, right_index=True)\n",
    "\n",
    "#drop duplicate rows\n",
    "flight_num_features = flight_num_features.drop_duplicates()\n",
    "\n",
    "#fill in NA's with 0\n",
    "flight_num_features = flight_num_features.fillna(0)\n",
    "\n",
    "#change times_delayed to int\n",
    "flight_num_features['times_delayed'] = flight_num_features['times_delayed'].astype(int)\n",
    "\n",
    "#create new column with the percentage of flights that were delayed\n",
    "flight_num_features['percent_delayed'] = (flight_num_features['times_delayed'] / flight_num_features['total_flights'] * 100).round(2)\n",
    "\n",
    "#export to csv\n",
    "flight_num_features.to_csv('flight_num_features.csv')"
   ]
  },
  {
   "cell_type": "markdown",
   "metadata": {},
   "source": [
    "### Carrier features ###"
   ]
  },
  {
   "cell_type": "markdown",
   "metadata": {},
   "source": [
    "#### 'avg_delay', 'avg_carrier_delay', 'avg_delay_if_del', 'avg_carrier_delay_if_del', 'total_flights', 'delayed_flights', 'percent_delayed'"
   ]
  },
  {
   "cell_type": "code",
   "execution_count": 26,
   "metadata": {},
   "outputs": [],
   "source": [
    "#create a table of unique op_unique_carrier from flights\n",
    "carrier_features = pd.read_sql_query(\"SELECT op_unique_carrier, AVG(arr_delay) as avg_delay, AVG(carrier_delay) as avg_carrier_delay, count(*) as total_flights FROM flights GROUP BY op_unique_carrier\", conn)\n",
    "\n",
    "#reindex the table based on op_unique_carrier\n",
    "carrier_features = carrier_features.set_index('op_unique_carrier')\n",
    "\n",
    "#create a table for delayed flights\n",
    "carrier_features_del = pd.read_sql_query(\"SELECT op_unique_carrier, AVG(arr_delay) as avg_delay_if_del, AVG(carrier_delay) as avg_carrier_delay_if_del, count(*) as delayed_flights FROM flights WHERE arr_delay > 0 GROUP BY op_unique_carrier\", conn)\n",
    "\n",
    "#reindex the table based on op_unique_carrier\n",
    "carrier_features_del = carrier_features_del.set_index('op_unique_carrier')\n",
    "\n",
    "#join carrier_features and carrier_features_del\n",
    "carrier_features = pd.merge(carrier_features, carrier_features_del, how='left', left_index=True, right_index=True)\n",
    "\n",
    "#create new column for percent of flights that were delayed\n",
    "carrier_features['percent_delayed'] = (carrier_features['delayed_flights'] / carrier_features['total_flights'] * 100).round(2)\n",
    "\n",
    "carrier_features.to_csv('carrier_features.csv')"
   ]
  },
  {
   "cell_type": "markdown",
   "metadata": {},
   "source": [
    "### Weather features ###"
   ]
  },
  {
   "cell_type": "markdown",
   "metadata": {},
   "source": [
    "#### Create new SQL database for weather"
   ]
  },
  {
   "cell_type": "code",
   "execution_count": 61,
   "metadata": {},
   "outputs": [],
   "source": [
    "#make a local SQL database\n",
    "conn2 = sqlite3.connect('weather.sqlite')"
   ]
  },
  {
   "cell_type": "code",
   "execution_count": null,
   "metadata": {},
   "outputs": [],
   "source": [
    "\n",
    "#create a table in SQL database for weather data\n",
    "conn2.execute(\"CREATE TABLE weather (fl_date DATE, round INTEGER, lat INTEGER, lon INTEGER, time_epoch REAL, time REAL, temp_c REAL, temp_f REAL, is_day REAL, condition REAL, wind_mph REAL, wind_kph REAL, wind_degree REAL, wind_dir REAL, pressure_mb REAL, pressure_in REAL, precip_mm REAL, precip_in REAL, humidity REAL, cloud REAL, feelslike_c REAL, feelslike_f REAL, windchill_c REAL, windchill_f REAL, heatindex_c REAL, heatindex_f REAL, dewpoint_c REAL, dewpoint_f REAL, will_it_rain REAL, chance_of_rain REAL, will_it_snow REAL, chance_of_snow REAL, vis_km REAL, vis_miles REAL, gust_mph REAL, gust_kph REAL, PRIMARY KEY (fl_date, round, lat, lon))\")"
   ]
  },
  {
   "cell_type": "markdown",
   "metadata": {},
   "source": [
    "#### Create functions for saving, converting and checking weather values"
   ]
  },
  {
   "cell_type": "code",
   "execution_count": null,
   "metadata": {},
   "outputs": [],
   "source": [
    "#create a function to get historical weather data from API and save to SQL server\n",
    "def get_weather_data(date, hour, lat, lon):\n",
    "    #sends data to SQL server\n",
    "    #set parameters\n",
    "    #apikey = os.environ[\"WEATHER_API_KEY\"]\n",
    "    location = lat, lon\n",
    "    params = {'q': location, 'key': api_key, 'hour': hour, 'dt' : date}\n",
    "    #set response\n",
    "    #response = requests.get('http://api.weatherapi.com/v1/history.json', params=params)\n",
    "    #return response\n",
    "    #data = response.json()\n",
    "    data = json_response\n",
    "    #parse response\n",
    "\n",
    "    #if list index out of range error, move onto next\n",
    "    time_forecast = data['forecast']['forecastday'][0]['hour'][0]\n",
    "    temp = pd.DataFrame([time_forecast], columns=time_forecast.keys())\n",
    "    temp['condition'] = data['forecast']['forecastday'][0]['hour'][0]['condition']['text']\n",
    "\n",
    "    #create new df based on date, hour, city\n",
    "    df_data = [[date, hour, lat, lon]]\n",
    "    df = pd.DataFrame(data = df_data, columns=['fl_date', 'round', 'lat', 'lon'])\n",
    "    \n",
    "    #concatenate new df with response df d\n",
    "    df = pd.concat([df, temp], axis=1)\n",
    "\n",
    "    #send df to SQL database\n",
    "    df.to_sql(name='weather', con=conn2, if_exists='append', index=False)\n"
   ]
  },
  {
   "cell_type": "code",
   "execution_count": 100,
   "metadata": {},
   "outputs": [],
   "source": [
    "#load airports.dat.txt from https://openflights.org/data.html\n",
    "airports_locations = pd.read_csv('airports.dat.txt', sep=',', header=None, names=['id', 'name', 'city', 'country', 'iata', 'icao', 'lat', 'lon', 'alt', 'tz_id', 'dst', 'tz_name', 'type', 'source'])\n",
    "\n",
    "#keep only columnbs IATA code, lat, and lon\n",
    "airports_locations = airports_locations[['iata', 'lat', 'lon']]\n",
    "\n",
    "#remove duplicates\n",
    "airports_locations = airports_locations.drop_duplicates()\n",
    "\n",
    "#remove rows with missing values\n",
    "airports_locations = airports_locations.dropna()\n",
    "\n",
    "#round lat and lon to 3 decimal places\n",
    "airports_locations['lat'] = airports_locations['lat'].round(3)\n",
    "airports_locations['lon'] = airports_locations['lon'].round(3)\n",
    "\n",
    "airports_locations.to_csv('airports_locations.csv', index=False)"
   ]
  },
  {
   "cell_type": "markdown",
   "metadata": {},
   "source": [
    "## Model"
   ]
  },
  {
   "cell_type": "markdown",
   "metadata": {},
   "source": [
    "### built dataframe and import features"
   ]
  },
  {
   "cell_type": "markdown",
   "metadata": {},
   "source": [
    "#### import sampled flights for df_train"
   ]
  },
  {
   "cell_type": "code",
   "execution_count": 210,
   "metadata": {},
   "outputs": [
    {
     "name": "stderr",
     "output_type": "stream",
     "text": [
      "/home/tudor/anaconda3/lib/python3.8/site-packages/IPython/core/interactiveshell.py:3417: DtypeWarning: Columns (25) have mixed types.Specify dtype option on import or set low_memory=False.\n",
      "  exec(code_obj, self.user_global_ns, self.user_ns)\n"
     ]
    }
   ],
   "source": [
    "#bring in flights from subset of flights_sampled_1.csv\n",
    "df_train = pd.read_csv('flights_train.csv')\n",
    "#keep the columns based on flights_test features\n",
    "df_train = df_train[['fl_date', 'mkt_unique_carrier', 'branded_code_share', 'mkt_carrier', 'mkt_carrier_fl_num', 'op_unique_carrier', 'tail_num', 'op_carrier_fl_num', 'origin_airport_id', 'origin', 'origin_city_name', 'dest_airport_id', 'dest', 'dest_city_name', 'crs_dep_time', 'crs_arr_time', 'dup', 'crs_elapsed_time', 'flights', 'distance','arr_delay']]\n",
    "#drop unused columns mkt_unique_carrier, branded_code_share, mkt_carrier, mkt_carrier_fl_num, origin_city_name, dest_city_name, dup, flights, distance\n",
    "df_train = df_train.drop(columns=['mkt_unique_carrier', 'branded_code_share', 'mkt_carrier', 'mkt_carrier_fl_num', 'origin_city_name', 'dest_city_name', 'dup', 'flights', 'distance'])"
   ]
  },
  {
   "cell_type": "markdown",
   "metadata": {},
   "source": [
    "#### import airport_features"
   ]
  },
  {
   "cell_type": "code",
   "execution_count": 1,
   "metadata": {},
   "outputs": [],
   "source": [
    "def get_airport_features(df):\n",
    "    #load airport_features from CSV\n",
    "    airport_features = pd.read_csv('airport_features.csv')\n",
    "    #merge airport_features onto df\n",
    "    df = pd.merge(df, airport_features[['origin_airport_id','Ranking']], how='left', on='origin_airport_id')\n",
    "    #rename Ranking column to Origin_Airport\n",
    "    df = df.rename(columns={'Ranking': 'Origin_Airport'})\n",
    "    #drop origin_airport_id column\n",
    "    df = df.drop(columns=['origin_airport_id'])\n",
    "    #merge airport_features onto df - dest\n",
    "    df = pd.merge(df, airport_features[['origin_airport_id','Ranking']], how='left', left_on='dest_airport_id', right_on='origin_airport_id')\n",
    "    #rename Ranking column to Dest_Airport\n",
    "    df = df.rename(columns={'Ranking': 'Dest_Airport'})\n",
    "    #drop origin_airport_id column\n",
    "    df = df.drop(columns=['origin_airport_id'])\n",
    "    #drop dddest_airport_id column\n",
    "    df = df.drop(columns=['dest_airport_id'])\n",
    "    return df"
   ]
  },
  {
   "cell_type": "markdown",
   "metadata": {},
   "source": [
    "#### import tain_num features"
   ]
  },
  {
   "cell_type": "code",
   "execution_count": 2,
   "metadata": {},
   "outputs": [],
   "source": [
    "def get_tail_num_features(df):\n",
    "    #import tail_num features\n",
    "    tail_num_features = pd.read_csv('tail_num_features.csv')\n",
    "    #merge tail_num_features into df\n",
    "    df = pd.merge(df, tail_num_features[['tail_num','age']], how='left', on='tail_num')\n",
    "    #rename age to age of aircraft\n",
    "    df = df.rename(columns={'age': 'Age_of_Aircraft'})\n",
    "    #fill in nan with mean of column\n",
    "    df['Age_of_Aircraft'] = df['Age_of_Aircraft'].fillna(df['Age_of_Aircraft'].mean())\n",
    "    #change age_of_aircraft to int\n",
    "    df['Age_of_Aircraft'] = df['Age_of_Aircraft'].astype(int)\n",
    "    return df"
   ]
  },
  {
   "cell_type": "markdown",
   "metadata": {},
   "source": [
    "#### import carrier features"
   ]
  },
  {
   "cell_type": "code",
   "execution_count": 3,
   "metadata": {},
   "outputs": [],
   "source": [
    "def get_carrier_features(df):\n",
    "    #import carrier features\n",
    "    carrier_features = pd.read_csv('carrier_features.csv')\n",
    "    #merge carrier_features into df\n",
    "    df = pd.merge(df, carrier_features, how='left', on='op_unique_carrier')\n",
    "    #rename avg_delay to carrier_avg_delay\n",
    "    df = df.rename(columns={'avg_delay': 'Carrier_Avg_Delay'})\n",
    "    #rename avg_carrier_delay to carrier_avg_carrier_delay\n",
    "    df = df.rename(columns={'avg_carrier_delay': 'Carrier_Avg_Carrier_Delay'})\n",
    "    #rename total_flights to carrier_total_flights\n",
    "    df = df.rename(columns={'total_flights': 'Carrier_Total_Flights'})\n",
    "    #rename avg_delay_if_del to carrier_avg_delay_if_del\n",
    "    df = df.rename(columns={'avg_delay_if_del': 'Carrier_Avg_Delay_If_Delayed'})\n",
    "    #rename avg_carrier_delay_if_del to carrier_avg_carrier_delay_if_del\n",
    "    df = df.rename(columns={'avg_carrier_delay_if_del': 'Carrier_Avg_Carrier_Delay_If_Delayed'})\n",
    "    #rename delayed_flights to carrier_delayed_flights\n",
    "    df = df.rename(columns={'delayed_flights': 'Carrier_Delayed_Flights'})\n",
    "    #rename percent_delayed to carrier_percent_delayed\n",
    "    df = df.rename(columns={'percent_delayed': 'Carrier_Percent_Delayed'})\n",
    "    return df"
   ]
  },
  {
   "cell_type": "markdown",
   "metadata": {},
   "source": [
    "#### import weather data"
   ]
  },
  {
   "cell_type": "code",
   "execution_count": 32,
   "metadata": {},
   "outputs": [],
   "source": [
    "#given a dataframe and column name, add two columns to the dataframe with lat and long based on the column value\n",
    "def add_lat_long(df, col):\n",
    "    #load airport_locations dataframe\n",
    "    airport_locations = pd.read_csv('airports_locations.csv')\n",
    "    #merge the lat and long columns from airports_locations onto df based on the column value\n",
    "    df = pd.merge(df, airport_locations, how='left', left_on=col, right_on='iata')\n",
    "    #drop the iata column\n",
    "    df = df.drop(columns=['iata'])\n",
    "    return df\n"
   ]
  },
  {
   "cell_type": "code",
   "execution_count": 5,
   "metadata": {},
   "outputs": [],
   "source": [
    "#create new column in df called 'round' based on the rounded value of crs_dep_time\n",
    "def add_round(df):\n",
    "    #round crs_dep_time to the nearest hundred\n",
    "    df['round'] = df['crs_dep_time'].astype(int).round(-2)\n",
    "    #change back to string format\n",
    "    df['round'] = df['round'].astype(str)\n",
    "    #add leading zeros to the beginning of the string\n",
    "    df['round'] = df['round'].str.zfill(4)\n",
    "    #keep left most 2 characters\n",
    "    df['round'] = df['round'].str[:2]\n",
    "    #change 24 to 24\n",
    "    df.loc[df['round'] == '24', 'round'] = '23'  \n",
    "    return df"
   ]
  },
  {
   "cell_type": "code",
   "execution_count": 25,
   "metadata": {},
   "outputs": [],
   "source": [
    "#filter flights missing weather data in SQL database\n",
    "def missing_weather_data(df):\n",
    "\n",
    "    #create a df with just fl_date, round, lat, and lon values in df\n",
    "    df = df[['fl_date', 'round', 'lat', 'lon']]\n",
    "    #drop duplicates\n",
    "    df = df.drop_duplicates()\n",
    "\n",
    "    #open conn2\n",
    "    conn2 = sqlite3.connect('weather.sqlite')\n",
    "    #pull all keys from weather table\n",
    "    SQL_weather_records = pd.read_sql_query(\"SELECT DISTINCT fl_date, round, lat, lon FROM weather\", conn2)\n",
    "    SQL_weather_records['marker'] = 1\n",
    "    #sent df['round'] to int\n",
    "    df['round'] = df['round'].astype(int)\n",
    "    \n",
    "    #merge SQL_weather_records onto df\n",
    "    df = pd.merge(df, SQL_weather_records, how='left', left_on=['fl_date', 'round', 'lat', 'lon'], right_on=['fl_date', 'round', 'lat', 'lon'])\n",
    "\n",
    "    #drop the rows with marker = 1\n",
    "    df = df[df.marker != 1]\n",
    "\n",
    "    df = df.drop_duplicates()\n",
    "    #if df has no rows, return None\n",
    "    if len(df) == 0:\n",
    "        return None\n",
    "    return df"
   ]
  },
  {
   "cell_type": "code",
   "execution_count": 26,
   "metadata": {},
   "outputs": [],
   "source": [
    "#now lets bring them all together\n",
    "#given a df request weather data if not already in SQL database\\\n",
    "def confirm_weather_data(df):\n",
    "    #check if df has round column, if not, add_round(df)\n",
    "    if 'round' not in df.columns:\n",
    "        df = add_round(df)\n",
    "        print('added round')\n",
    "    #check if df has lat and lon columns, if not, add_lat_long(df, 'origin')\n",
    "    if 'lat' not in df.columns:\n",
    "        df = add_lat_long(df, 'origin')\n",
    "    #check what records are missing in SQL database\n",
    "    if missing_weather_data(df) is None:\n",
    "        print('no missing weather data')\n",
    "        return None\n",
    "    else:\n",
    "        df = missing_weather_data(df)\n",
    "    #remove duplicates from df\n",
    "    df = df.drop_duplicates()\n",
    "    #for each record in df, get weather data from API and save to SQL database\n",
    "    for index, row in df.iterrows():\n",
    "        get_weather_data(row['fl_date'], row['round'], row['lat'], row['lon'])\n",
    "    "
   ]
  },
  {
   "cell_type": "code",
   "execution_count": 92,
   "metadata": {},
   "outputs": [],
   "source": [
    "#create a new function to get weather data for a given date, hour, lat, and lon from SQL database to a modified df\n",
    "def get_weather_features(df):\n",
    "    #open conn2\n",
    "    conn2 = sqlite3.connect('weather.sqlite')\n",
    "    #pull all keys from weather table\n",
    "    SQL_weather_records = pd.read_sql_query(\"SELECT DISTINCT * FROM weather\", conn2)\n",
    "    if 'round' not in df.columns:\n",
    "        df = add_round(df)\n",
    "        print('added round')\n",
    "    #check if df has lat and lon columns, if not, add_lat_long(df, 'origin')\n",
    "    if 'lat' not in df.columns:\n",
    "        df = add_lat_long(df, 'origin')\n",
    "    #sent df['round'] to int\n",
    "    df['round'] = df['round'].astype(int)\n",
    "    #merge SQL_weather_records onto df\n",
    "    df = pd.merge(df, SQL_weather_records, how='left', left_on=['fl_date', 'round', 'lat', 'lon'], right_on=['fl_date', 'round', 'lat', 'lon'])\n",
    "    df = df.drop(columns=['time_epoch', 'time', 'temp_f', 'wind_mph', 'wind_degree', 'wind_dir', 'pressure_in', 'precip_in', 'feelslike_f', 'windchill_f', 'heatindex_f', 'dewpoint_f', 'vis_miles', 'gust_mph','condition','will_it_rain','chance_of_rain','will_it_snow','chance_of_snow','is_day', 'feelslike_c'])\n",
    "    return df\n",
    "    "
   ]
  },
  {
   "cell_type": "markdown",
   "metadata": {},
   "source": [
    "#### import flight number features"
   ]
  },
  {
   "cell_type": "code",
   "execution_count": 9,
   "metadata": {},
   "outputs": [],
   "source": [
    "def get_flight_num_features(df):\n",
    "    #import from csv no index\n",
    "    flight_num_features = pd.read_csv('flight_num_features.csv')\n",
    "    #sort by total_flights\n",
    "    flight_num_features = flight_num_features.sort_values(by=['total_flights'], ascending=False)\n",
    "    #change round to int\n",
    "    flight_num_features['round'] = flight_num_features['round'].astype(str)\n",
    "    #remove duplicates\n",
    "    flight_num_features = flight_num_features.drop_duplicates(subset=['op_carrier_fl_num','round'], keep='first')\n",
    "    #create round column\n",
    "    df  = add_round(df)\n",
    "    #change df round to str\n",
    "    df['round'] = df['round'].astype(int)\n",
    "    df['round'] = df['round'].astype(str)\n",
    "    #merge flight_number_features into df\n",
    "    df = pd.merge(df, flight_num_features, how='left', on=['op_carrier_fl_num','round'])\n",
    "    return df"
   ]
  },
  {
   "cell_type": "markdown",
   "metadata": {},
   "source": [
    "#### import date of the week"
   ]
  },
  {
   "cell_type": "code",
   "execution_count": 10,
   "metadata": {},
   "outputs": [],
   "source": [
    "def get_days_of_week_features(df):\n",
    "    #create new called dt\n",
    "    df['dt'] = pd.to_datetime(df['fl_date'])\n",
    "    # New column - Day of week (0 - Monday)\n",
    "    df['dayofweek'] = df['dt'].dt.dayofweek\n",
    "    #hot encoding\n",
    "    df = pd.get_dummies(df, columns=['dayofweek'])\n",
    "    #drop dt column\n",
    "    df = df.drop(columns=['dt'])\n",
    "    return df"
   ]
  },
  {
   "cell_type": "markdown",
   "metadata": {},
   "source": [
    "#### get_all_features"
   ]
  },
  {
   "cell_type": "code",
   "execution_count": 40,
   "metadata": {},
   "outputs": [],
   "source": [
    "def get_all_features(df):\n",
    "    #get airport features\n",
    "    df = get_airport_features(df)\n",
    "    #get tail_num_features\n",
    "    df = get_tail_num_features(df)\n",
    "    #get carrier features\n",
    "    df = get_carrier_features(df)\n",
    "    #get weather features\n",
    "    df = get_weather_features(df)\n",
    "    #get flight_num_features\n",
    "    df = get_flight_num_features(df)\n",
    "    #get days_of_week_features\n",
    "    df = get_days_of_week_features(df)\n",
    "    return df"
   ]
  },
  {
   "cell_type": "markdown",
   "metadata": {},
   "source": [
    "#### Cleanup after features insertion"
   ]
  },
  {
   "cell_type": "code",
   "execution_count": 157,
   "metadata": {},
   "outputs": [],
   "source": [
    "#create function for df cleaning\n",
    "def df_clean(df):\n",
    "    #remove Na's\n",
    "    df = df.dropna()\n",
    "    #remove rows with age of aircraft greater than 100\n",
    "    df = df[df['Age_of_Aircraft'] <= 100]\n",
    "    #remove rows with avg_del_total greater than 200\n",
    "    df = df[df['avg_del_total'] <= 200]\n",
    "    #remove rows with percent_delayed 0.95\n",
    "    df = df[df['percent_delayed'] <= 95]\n",
    "    #remove rows with arr_delay greater than 200\n",
    "    df = df[df['arr_delay'] <= 200]\n",
    "    #drop unused columns, op_unique_carrier, tail_num, op_carrier_fl_num, round, origin, dest\n",
    "    df = df.drop(columns=['fl_date', 'op_unique_carrier','Carrier_Avg_Carrier_Delay_If_Delayed','tail_num', 'op_carrier_fl_num', 'origin', 'dest', 'round', 'lat', 'lon'])\n",
    "    return df\n"
   ]
  },
  {
   "cell_type": "markdown",
   "metadata": {},
   "source": [
    "#### Scaling ## removed for now"
   ]
  },
  {
   "cell_type": "markdown",
   "metadata": {},
   "source": [
    "### Running model"
   ]
  },
  {
   "cell_type": "code",
   "execution_count": 143,
   "metadata": {},
   "outputs": [],
   "source": [
    "def flight_data_from_csv_by_date(date1, date2):\n",
    "    #load df from csv\n",
    "    df = pd.read_csv('flights_train.csv')\n",
    "    #keep the columns based on flights_test features\n",
    "    df = df[['fl_date', 'mkt_unique_carrier', 'branded_code_share', 'mkt_carrier', 'mkt_carrier_fl_num', 'op_unique_carrier', 'tail_num', 'op_carrier_fl_num', 'origin_airport_id', 'origin', 'origin_city_name', 'dest_airport_id', 'dest', 'dest_city_name', 'crs_dep_time', 'crs_arr_time', 'dup', 'crs_elapsed_time', 'flights', 'distance','arr_delay']]\n",
    "    #drop unused columns mkt_unique_carrier, branded_code_share, mkt_carrier, mkt_carrier_fl_num, origin_city_name, dest_city_name, dup, flights, distance\n",
    "    df = df.drop(columns=['mkt_unique_carrier', 'branded_code_share', 'mkt_carrier', 'mkt_carrier_fl_num', 'origin_city_name', 'dest_city_name', 'dup', 'flights', 'distance'])\n",
    "    #filter by date1 and date2\n",
    "    df = df[(df['fl_date'] >= date1) & (df['fl_date'] <= date2)]\n",
    "    return df"
   ]
  },
  {
   "cell_type": "code",
   "execution_count": 233,
   "metadata": {},
   "outputs": [],
   "source": [
    "#function to scale the data\n",
    "def scale_df(df_train, df_test):\n",
    "    SSscaler = StandardScaler()\n",
    "    to_scale = ['Age_of_Aircraft','Carrier_Avg_Delay', 'Carrier_Avg_Carrier_Delay', 'Carrier_Avg_Delay_If_Delayed','Carrier_Delayed_Flights', 'temp_c', 'pressure_mb', 'humidity', 'windchill_c', 'heatindex_c', 'dewpoint_c', 'avg_sum_of_delays', 'avg_del_total','avg_del_if_delayed', 'percent_delayed']\n",
    "    df_train[to_scale] = SSscaler.fit_transform(df_train[to_scale])\n",
    "    df_test[to_scale] = SSscaler.transform(df_test[to_scale])\n",
    "    MMscaler = MinMaxScaler(feature_range=(-5,5))\n",
    "    to_scale = ['crs_dep_time','crs_arr_time','Origin_Airport','Dest_Airport','Carrier_Total_Flights','Carrier_Percent_Delayed','cloud','vis_km']\n",
    "    df_train[to_scale] = MMscaler.fit_transform(df_train[to_scale])\n",
    "    df_test[to_scale] = MMscaler.transform(df_test[to_scale])\n",
    "    #log transform\n",
    "    to_scale = ['crs_elapsed_time','wind_kph','precip_mm','gust_kph','total_flights','times_delayed']\n",
    "    df_train[to_scale] = np.log1p(df_train[to_scale])\n",
    "    df_test[to_scale] = np.log1p(df_test[to_scale])\n",
    "    return df_train, df_test\n"
   ]
  },
  {
   "cell_type": "code",
   "execution_count": null,
   "metadata": {},
   "outputs": [],
   "source": [
    "def rename_columns(df):\n",
    "    #rename columns\n",
    "    df = df.rename(columns={'crs_dep_time':'Est Departure Time','crs_arr_time':'Est Arrival Time','crs_elapsed_time':'Est Elapsed Time','Carrier_Avg_Delay':'Carrier_Avg_Arr_Delay','Carrier_Avg_Delay_If_Delayed':'Carrier_Avg_Arr_Delay_of_Delayed_Flights','Carrier_Delayed_Flights':'Carrier_Total_Delayed_Flights','Carrier_Percent_Delayed':'Carrier_Percent_Flights_Delayed','temp_c':'WE_Celcius','wind_kph':'WE_Wind','pressure_mb':'WE_Preasure','precip_mm':'WE_Precipitation','humidity':'WE_Humidity','cloud':'WE_Cloud','windchill_c':'WE_Windchill','heatindex_c':'WE_Heat_Index','dewpoint_c':'WE_Dew_Point','vis_km':'WE_Visability','gust_kph':'WE_Gust','avg_sum_of_delays':'FN_Avg_Sum_of_Delays','avg_del_total':'FN_Avg_Arr_Delay','total_flights':'FN_Total_Flights','avg_del_if_delayed':'FN_Avg_Arr_Delay_of_Delays','times_delayed':'FN_Times_delayed','percent_delayed':'FN_percent_delayed','dayofweek_0':'Monday','dayofweek_1':'Tuesday','dayofweek_2':'Wednesday','dayofweek_3':'Thursday','dayofweek_4':'Friday','dayofweek_5':'Saturday','dayofweek_6':'Sunday'})\n",
    "    return df"
   ]
  },
  {
   "cell_type": "code",
   "execution_count": null,
   "metadata": {},
   "outputs": [
    {
     "name": "stdout",
     "output_type": "stream",
     "text": [
      "added round\n"
     ]
    }
   ],
   "source": [
    "df_train = get_all_features(df_train)\n",
    "df_train = df_clean(df_train)"
   ]
  },
  {
   "cell_type": "code",
   "execution_count": 198,
   "metadata": {},
   "outputs": [
    {
     "name": "stderr",
     "output_type": "stream",
     "text": [
      "<ipython-input-198-190b71872580>:2: DtypeWarning: Columns (25) have mixed types.Specify dtype option on import or set low_memory=False.\n",
      "  df_train = flight_data_from_csv_by_date('2018-01-01', '2019-12-31')\n"
     ]
    },
    {
     "name": "stdout",
     "output_type": "stream",
     "text": [
      "(117000, 12)\n",
      "added round\n"
     ]
    }
   ],
   "source": [
    "#create df for all data\n",
    "df_train = flight_data_from_csv_by_date('2018-01-01', '2018-12-31')\n",
    "print(df_train.shape)\n",
    "df_train = get_all_features(df_train)\n",
    "df_train = df_clean(df_train)"
   ]
  },
  {
   "cell_type": "code",
   "execution_count": 221,
   "metadata": {},
   "outputs": [
    {
     "name": "stderr",
     "output_type": "stream",
     "text": [
      "<ipython-input-221-bcf3eed74a22>:2: DtypeWarning: Columns (25) have mixed types.Specify dtype option on import or set low_memory=False.\n",
      "  df_jan2018 = flight_data_from_csv_by_date('2018-01-01', '2018-01-31')\n"
     ]
    },
    {
     "name": "stdout",
     "output_type": "stream",
     "text": [
      "(17000, 12)\n",
      "added round\n"
     ]
    }
   ],
   "source": [
    "#create df jan 2018\n",
    "df_jan2018 = flight_data_from_csv_by_date('2018-01-01', '2018-01-31')\n",
    "print(df_jan2018.shape)\n",
    "df_jan2018 = get_all_features(df_jan2018)\n",
    "df_jan2018 = df_clean(df_jan2018)"
   ]
  },
  {
   "cell_type": "code",
   "execution_count": 234,
   "metadata": {},
   "outputs": [
    {
     "name": "stderr",
     "output_type": "stream",
     "text": [
      "<ipython-input-234-c9bef4f8cc54>:2: DtypeWarning: Columns (25) have mixed types.Specify dtype option on import or set low_memory=False.\n",
      "  df_dec2018 = flight_data_from_csv_by_date('2018-01-01', '2018-12-31')\n"
     ]
    },
    {
     "name": "stdout",
     "output_type": "stream",
     "text": [
      "(58138, 12)\n",
      "added round\n"
     ]
    }
   ],
   "source": [
    "#create df for training data\n",
    "df_dec2018 = flight_data_from_csv_by_date('2018-01-01', '2018-12-31')\n",
    "print(df_dec2018.shape)\n",
    "df_dec2018 = get_all_features(df_dec2018)\n",
    "df_dec2018 = df_clean(df_dec2018)"
   ]
  },
  {
   "cell_type": "code",
   "execution_count": 222,
   "metadata": {},
   "outputs": [
    {
     "name": "stderr",
     "output_type": "stream",
     "text": [
      "<ipython-input-222-dfd9a89ba3c9>:2: DtypeWarning: Columns (25) have mixed types.Specify dtype option on import or set low_memory=False.\n",
      "  df_jan2019 = flight_data_from_csv_by_date('2019-01-01', '2019-01-31')\n"
     ]
    },
    {
     "name": "stdout",
     "output_type": "stream",
     "text": [
      "(16730, 12)\n",
      "added round\n"
     ]
    }
   ],
   "source": [
    "#create df for training 2019 jan model\n",
    "df_jan2019 = flight_data_from_csv_by_date('2019-01-01', '2019-01-31')\n",
    "print(df_jan2019.shape)\n",
    "df_jan2019 = get_all_features(df_jan2019)\n",
    "df_jan2019 = df_clean(df_jan2019)"
   ]
  },
  {
   "cell_type": "code",
   "execution_count": 240,
   "metadata": {},
   "outputs": [
    {
     "name": "stderr",
     "output_type": "stream",
     "text": [
      "<ipython-input-240-a2718091d975>:2: DtypeWarning: Columns (25) have mixed types.Specify dtype option on import or set low_memory=False.\n",
      "  df_dec2019 = flight_data_from_csv_by_date('2019-12-01', '2019-12-31')\n"
     ]
    },
    {
     "name": "stdout",
     "output_type": "stream",
     "text": [
      "(42132, 12)\n",
      "added round\n"
     ]
    }
   ],
   "source": [
    "#create df for training 2019 jan model\n",
    "df_dec2019 = flight_data_from_csv_by_date('2019-12-01', '2019-12-31')\n",
    "print(df_dec2019.shape)\n",
    "df_dec2019 = get_all_features(df_dec2019)\n",
    "df_dec2019 = df_clean(df_dec2019)"
   ]
  },
  {
   "cell_type": "code",
   "execution_count": 191,
   "metadata": {},
   "outputs": [],
   "source": [
    "df_train = rename_columns(df_train)"
   ]
  },
  {
   "cell_type": "code",
   "execution_count": 199,
   "metadata": {},
   "outputs": [],
   "source": [
    "#create X and y for training\n",
    "y = df_train['arr_delay']\n",
    "X = df_train.drop(columns=['arr_delay'])"
   ]
  },
  {
   "cell_type": "code",
   "execution_count": 235,
   "metadata": {},
   "outputs": [],
   "source": [
    "#create X_dec2018 and y_dec2018 for training\n",
    "y_dec2018 = df_dec2018['arr_delay']\n",
    "X_dec2018 = df_dec2018.drop(columns=['arr_delay'])"
   ]
  },
  {
   "cell_type": "code",
   "execution_count": 241,
   "metadata": {},
   "outputs": [],
   "source": [
    "#create X_dec2019 and y_dec2019 for training\n",
    "y_dec2019 = df_dec2019['arr_delay']\n",
    "X_dec2019 = df_dec2019.drop(columns=['arr_delay'])"
   ]
  },
  {
   "cell_type": "code",
   "execution_count": 236,
   "metadata": {},
   "outputs": [],
   "source": [
    "#create X_jan2018 and y_jan2018 for training\n",
    "y_jan2018 = df_jan2018['arr_delay']\n",
    "X_jan2018 = df_jan2018.drop(columns=['arr_delay'])"
   ]
  },
  {
   "cell_type": "code",
   "execution_count": 237,
   "metadata": {},
   "outputs": [],
   "source": [
    "#create X_jan2019 and y_jan2019 for testing\n",
    "y_jan2019 = df_jan2019['arr_delay']\n",
    "X_jan2019 = df_jan2019.drop(columns=['arr_delay'])"
   ]
  },
  {
   "cell_type": "code",
   "execution_count": 200,
   "metadata": {},
   "outputs": [],
   "source": [
    "#train test split\n",
    "X_train, X_test, y_train, y_test = train_test_split(X, y, test_size=0.2)"
   ]
  },
  {
   "cell_type": "code",
   "execution_count": null,
   "metadata": {},
   "outputs": [],
   "source": [
    "param_dist = {\n",
    "    'n_estimators': [100, 200, 300, 400, 500, 600, 700, 800, 900, 1000],\n",
    "    'max_features': ['auto', 'sqrt', 'log2'],\n",
    "    'max_depth': [2, 3, 4, 5, 6, 7, 8, 9, 10, 11, 12, 13, 14, 15, 16, 17, 18, 19, 20],\n",
    "    'min_samples_split': [2, 3, 4, 5, 6, 7, 8, 9, 10, 11, 12, 13, 14, 15, 16, 17, 18, 19, 20],\n",
    "    'min_samples_leaf': [1, 2, 3, 4, 5, 6, 7, 8, 9, 10, 11, 12, 13, 14, 15, 16, 17, 18, 19, 20],\n",
    "    'bootstrap': [True, False]\n",
    "}"
   ]
  },
  {
   "cell_type": "code",
   "execution_count": 85,
   "metadata": {},
   "outputs": [
    {
     "name": "stdout",
     "output_type": "stream",
     "text": [
      "Fitting 3 folds for each of 2 candidates, totalling 6 fits\n"
     ]
    },
    {
     "name": "stderr",
     "output_type": "stream",
     "text": [
      "/home/tudor/anaconda3/lib/python3.8/site-packages/sklearn/model_selection/_search.py:292: UserWarning: The total space of parameters 2 is smaller than n_iter=10. Running 2 iterations. For exhaustive searches, use GridSearchCV.\n",
      "  warnings.warn(\n"
     ]
    },
    {
     "ename": "KeyboardInterrupt",
     "evalue": "",
     "output_type": "error",
     "traceback": [
      "\u001b[0;31m---------------------------------------------------------------------------\u001b[0m",
      "\u001b[0;31mKeyboardInterrupt\u001b[0m                         Traceback (most recent call last)",
      "\u001b[0;32m<ipython-input-85-dc3dde30651f>\u001b[0m in \u001b[0;36m<module>\u001b[0;34m\u001b[0m\n\u001b[1;32m     14\u001b[0m \u001b[0;34m\u001b[0m\u001b[0m\n\u001b[1;32m     15\u001b[0m \u001b[0;31m#fit the random search object to the training data\u001b[0m\u001b[0;34m\u001b[0m\u001b[0;34m\u001b[0m\u001b[0;34m\u001b[0m\u001b[0m\n\u001b[0;32m---> 16\u001b[0;31m \u001b[0mrandom_search\u001b[0m\u001b[0;34m.\u001b[0m\u001b[0mfit\u001b[0m\u001b[0;34m(\u001b[0m\u001b[0mX\u001b[0m\u001b[0;34m,\u001b[0m \u001b[0my\u001b[0m\u001b[0;34m)\u001b[0m\u001b[0;34m\u001b[0m\u001b[0;34m\u001b[0m\u001b[0m\n\u001b[0m\u001b[1;32m     17\u001b[0m \u001b[0;34m\u001b[0m\u001b[0m\n\u001b[1;32m     18\u001b[0m \u001b[0;31m#print the best parameters\u001b[0m\u001b[0;34m\u001b[0m\u001b[0;34m\u001b[0m\u001b[0;34m\u001b[0m\u001b[0m\n",
      "\u001b[0;32m~/anaconda3/lib/python3.8/site-packages/sklearn/model_selection/_search.py\u001b[0m in \u001b[0;36mfit\u001b[0;34m(self, X, y, groups, **fit_params)\u001b[0m\n\u001b[1;32m    889\u001b[0m                 \u001b[0;32mreturn\u001b[0m \u001b[0mresults\u001b[0m\u001b[0;34m\u001b[0m\u001b[0;34m\u001b[0m\u001b[0m\n\u001b[1;32m    890\u001b[0m \u001b[0;34m\u001b[0m\u001b[0m\n\u001b[0;32m--> 891\u001b[0;31m             \u001b[0mself\u001b[0m\u001b[0;34m.\u001b[0m\u001b[0m_run_search\u001b[0m\u001b[0;34m(\u001b[0m\u001b[0mevaluate_candidates\u001b[0m\u001b[0;34m)\u001b[0m\u001b[0;34m\u001b[0m\u001b[0;34m\u001b[0m\u001b[0m\n\u001b[0m\u001b[1;32m    892\u001b[0m \u001b[0;34m\u001b[0m\u001b[0m\n\u001b[1;32m    893\u001b[0m             \u001b[0;31m# multimetric is determined here because in the case of a callable\u001b[0m\u001b[0;34m\u001b[0m\u001b[0;34m\u001b[0m\u001b[0;34m\u001b[0m\u001b[0m\n",
      "\u001b[0;32m~/anaconda3/lib/python3.8/site-packages/sklearn/model_selection/_search.py\u001b[0m in \u001b[0;36m_run_search\u001b[0;34m(self, evaluate_candidates)\u001b[0m\n\u001b[1;32m   1764\u001b[0m     \u001b[0;32mdef\u001b[0m \u001b[0m_run_search\u001b[0m\u001b[0;34m(\u001b[0m\u001b[0mself\u001b[0m\u001b[0;34m,\u001b[0m \u001b[0mevaluate_candidates\u001b[0m\u001b[0;34m)\u001b[0m\u001b[0;34m:\u001b[0m\u001b[0;34m\u001b[0m\u001b[0;34m\u001b[0m\u001b[0m\n\u001b[1;32m   1765\u001b[0m         \u001b[0;34m\"\"\"Search n_iter candidates from param_distributions\"\"\"\u001b[0m\u001b[0;34m\u001b[0m\u001b[0;34m\u001b[0m\u001b[0m\n\u001b[0;32m-> 1766\u001b[0;31m         evaluate_candidates(\n\u001b[0m\u001b[1;32m   1767\u001b[0m             ParameterSampler(\n\u001b[1;32m   1768\u001b[0m                 \u001b[0mself\u001b[0m\u001b[0;34m.\u001b[0m\u001b[0mparam_distributions\u001b[0m\u001b[0;34m,\u001b[0m \u001b[0mself\u001b[0m\u001b[0;34m.\u001b[0m\u001b[0mn_iter\u001b[0m\u001b[0;34m,\u001b[0m \u001b[0mrandom_state\u001b[0m\u001b[0;34m=\u001b[0m\u001b[0mself\u001b[0m\u001b[0;34m.\u001b[0m\u001b[0mrandom_state\u001b[0m\u001b[0;34m\u001b[0m\u001b[0;34m\u001b[0m\u001b[0m\n",
      "\u001b[0;32m~/anaconda3/lib/python3.8/site-packages/sklearn/model_selection/_search.py\u001b[0m in \u001b[0;36mevaluate_candidates\u001b[0;34m(candidate_params, cv, more_results)\u001b[0m\n\u001b[1;32m    836\u001b[0m                     )\n\u001b[1;32m    837\u001b[0m \u001b[0;34m\u001b[0m\u001b[0m\n\u001b[0;32m--> 838\u001b[0;31m                 out = parallel(\n\u001b[0m\u001b[1;32m    839\u001b[0m                     delayed(_fit_and_score)(\n\u001b[1;32m    840\u001b[0m                         \u001b[0mclone\u001b[0m\u001b[0;34m(\u001b[0m\u001b[0mbase_estimator\u001b[0m\u001b[0;34m)\u001b[0m\u001b[0;34m,\u001b[0m\u001b[0;34m\u001b[0m\u001b[0;34m\u001b[0m\u001b[0m\n",
      "\u001b[0;32m~/anaconda3/lib/python3.8/site-packages/joblib/parallel.py\u001b[0m in \u001b[0;36m__call__\u001b[0;34m(self, iterable)\u001b[0m\n\u001b[1;32m   1054\u001b[0m \u001b[0;34m\u001b[0m\u001b[0m\n\u001b[1;32m   1055\u001b[0m             \u001b[0;32mwith\u001b[0m \u001b[0mself\u001b[0m\u001b[0;34m.\u001b[0m\u001b[0m_backend\u001b[0m\u001b[0;34m.\u001b[0m\u001b[0mretrieval_context\u001b[0m\u001b[0;34m(\u001b[0m\u001b[0;34m)\u001b[0m\u001b[0;34m:\u001b[0m\u001b[0;34m\u001b[0m\u001b[0;34m\u001b[0m\u001b[0m\n\u001b[0;32m-> 1056\u001b[0;31m                 \u001b[0mself\u001b[0m\u001b[0;34m.\u001b[0m\u001b[0mretrieve\u001b[0m\u001b[0;34m(\u001b[0m\u001b[0;34m)\u001b[0m\u001b[0;34m\u001b[0m\u001b[0;34m\u001b[0m\u001b[0m\n\u001b[0m\u001b[1;32m   1057\u001b[0m             \u001b[0;31m# Make sure that we get a last message telling us we are done\u001b[0m\u001b[0;34m\u001b[0m\u001b[0;34m\u001b[0m\u001b[0;34m\u001b[0m\u001b[0m\n\u001b[1;32m   1058\u001b[0m             \u001b[0melapsed_time\u001b[0m \u001b[0;34m=\u001b[0m \u001b[0mtime\u001b[0m\u001b[0;34m.\u001b[0m\u001b[0mtime\u001b[0m\u001b[0;34m(\u001b[0m\u001b[0;34m)\u001b[0m \u001b[0;34m-\u001b[0m \u001b[0mself\u001b[0m\u001b[0;34m.\u001b[0m\u001b[0m_start_time\u001b[0m\u001b[0;34m\u001b[0m\u001b[0;34m\u001b[0m\u001b[0m\n",
      "\u001b[0;32m~/anaconda3/lib/python3.8/site-packages/joblib/parallel.py\u001b[0m in \u001b[0;36mretrieve\u001b[0;34m(self)\u001b[0m\n\u001b[1;32m    933\u001b[0m             \u001b[0;32mtry\u001b[0m\u001b[0;34m:\u001b[0m\u001b[0;34m\u001b[0m\u001b[0;34m\u001b[0m\u001b[0m\n\u001b[1;32m    934\u001b[0m                 \u001b[0;32mif\u001b[0m \u001b[0mgetattr\u001b[0m\u001b[0;34m(\u001b[0m\u001b[0mself\u001b[0m\u001b[0;34m.\u001b[0m\u001b[0m_backend\u001b[0m\u001b[0;34m,\u001b[0m \u001b[0;34m'supports_timeout'\u001b[0m\u001b[0;34m,\u001b[0m \u001b[0;32mFalse\u001b[0m\u001b[0;34m)\u001b[0m\u001b[0;34m:\u001b[0m\u001b[0;34m\u001b[0m\u001b[0;34m\u001b[0m\u001b[0m\n\u001b[0;32m--> 935\u001b[0;31m                     \u001b[0mself\u001b[0m\u001b[0;34m.\u001b[0m\u001b[0m_output\u001b[0m\u001b[0;34m.\u001b[0m\u001b[0mextend\u001b[0m\u001b[0;34m(\u001b[0m\u001b[0mjob\u001b[0m\u001b[0;34m.\u001b[0m\u001b[0mget\u001b[0m\u001b[0;34m(\u001b[0m\u001b[0mtimeout\u001b[0m\u001b[0;34m=\u001b[0m\u001b[0mself\u001b[0m\u001b[0;34m.\u001b[0m\u001b[0mtimeout\u001b[0m\u001b[0;34m)\u001b[0m\u001b[0;34m)\u001b[0m\u001b[0;34m\u001b[0m\u001b[0;34m\u001b[0m\u001b[0m\n\u001b[0m\u001b[1;32m    936\u001b[0m                 \u001b[0;32melse\u001b[0m\u001b[0;34m:\u001b[0m\u001b[0;34m\u001b[0m\u001b[0;34m\u001b[0m\u001b[0m\n\u001b[1;32m    937\u001b[0m                     \u001b[0mself\u001b[0m\u001b[0;34m.\u001b[0m\u001b[0m_output\u001b[0m\u001b[0;34m.\u001b[0m\u001b[0mextend\u001b[0m\u001b[0;34m(\u001b[0m\u001b[0mjob\u001b[0m\u001b[0;34m.\u001b[0m\u001b[0mget\u001b[0m\u001b[0;34m(\u001b[0m\u001b[0;34m)\u001b[0m\u001b[0;34m)\u001b[0m\u001b[0;34m\u001b[0m\u001b[0;34m\u001b[0m\u001b[0m\n",
      "\u001b[0;32m~/anaconda3/lib/python3.8/site-packages/joblib/_parallel_backends.py\u001b[0m in \u001b[0;36mwrap_future_result\u001b[0;34m(future, timeout)\u001b[0m\n\u001b[1;32m    540\u001b[0m         AsyncResults.get from multiprocessing.\"\"\"\n\u001b[1;32m    541\u001b[0m         \u001b[0;32mtry\u001b[0m\u001b[0;34m:\u001b[0m\u001b[0;34m\u001b[0m\u001b[0;34m\u001b[0m\u001b[0m\n\u001b[0;32m--> 542\u001b[0;31m             \u001b[0;32mreturn\u001b[0m \u001b[0mfuture\u001b[0m\u001b[0;34m.\u001b[0m\u001b[0mresult\u001b[0m\u001b[0;34m(\u001b[0m\u001b[0mtimeout\u001b[0m\u001b[0;34m=\u001b[0m\u001b[0mtimeout\u001b[0m\u001b[0;34m)\u001b[0m\u001b[0;34m\u001b[0m\u001b[0;34m\u001b[0m\u001b[0m\n\u001b[0m\u001b[1;32m    543\u001b[0m         \u001b[0;32mexcept\u001b[0m \u001b[0mCfTimeoutError\u001b[0m \u001b[0;32mas\u001b[0m \u001b[0me\u001b[0m\u001b[0;34m:\u001b[0m\u001b[0;34m\u001b[0m\u001b[0;34m\u001b[0m\u001b[0m\n\u001b[1;32m    544\u001b[0m             \u001b[0;32mraise\u001b[0m \u001b[0mTimeoutError\u001b[0m \u001b[0;32mfrom\u001b[0m \u001b[0me\u001b[0m\u001b[0;34m\u001b[0m\u001b[0;34m\u001b[0m\u001b[0m\n",
      "\u001b[0;32m~/anaconda3/lib/python3.8/concurrent/futures/_base.py\u001b[0m in \u001b[0;36mresult\u001b[0;34m(self, timeout)\u001b[0m\n\u001b[1;32m    437\u001b[0m                     \u001b[0;32mreturn\u001b[0m \u001b[0mself\u001b[0m\u001b[0;34m.\u001b[0m\u001b[0m__get_result\u001b[0m\u001b[0;34m(\u001b[0m\u001b[0;34m)\u001b[0m\u001b[0;34m\u001b[0m\u001b[0;34m\u001b[0m\u001b[0m\n\u001b[1;32m    438\u001b[0m \u001b[0;34m\u001b[0m\u001b[0m\n\u001b[0;32m--> 439\u001b[0;31m                 \u001b[0mself\u001b[0m\u001b[0;34m.\u001b[0m\u001b[0m_condition\u001b[0m\u001b[0;34m.\u001b[0m\u001b[0mwait\u001b[0m\u001b[0;34m(\u001b[0m\u001b[0mtimeout\u001b[0m\u001b[0;34m)\u001b[0m\u001b[0;34m\u001b[0m\u001b[0;34m\u001b[0m\u001b[0m\n\u001b[0m\u001b[1;32m    440\u001b[0m \u001b[0;34m\u001b[0m\u001b[0m\n\u001b[1;32m    441\u001b[0m                 \u001b[0;32mif\u001b[0m \u001b[0mself\u001b[0m\u001b[0;34m.\u001b[0m\u001b[0m_state\u001b[0m \u001b[0;32min\u001b[0m \u001b[0;34m[\u001b[0m\u001b[0mCANCELLED\u001b[0m\u001b[0;34m,\u001b[0m \u001b[0mCANCELLED_AND_NOTIFIED\u001b[0m\u001b[0;34m]\u001b[0m\u001b[0;34m:\u001b[0m\u001b[0;34m\u001b[0m\u001b[0;34m\u001b[0m\u001b[0m\n",
      "\u001b[0;32m~/anaconda3/lib/python3.8/threading.py\u001b[0m in \u001b[0;36mwait\u001b[0;34m(self, timeout)\u001b[0m\n\u001b[1;32m    300\u001b[0m         \u001b[0;32mtry\u001b[0m\u001b[0;34m:\u001b[0m    \u001b[0;31m# restore state no matter what (e.g., KeyboardInterrupt)\u001b[0m\u001b[0;34m\u001b[0m\u001b[0;34m\u001b[0m\u001b[0m\n\u001b[1;32m    301\u001b[0m             \u001b[0;32mif\u001b[0m \u001b[0mtimeout\u001b[0m \u001b[0;32mis\u001b[0m \u001b[0;32mNone\u001b[0m\u001b[0;34m:\u001b[0m\u001b[0;34m\u001b[0m\u001b[0;34m\u001b[0m\u001b[0m\n\u001b[0;32m--> 302\u001b[0;31m                 \u001b[0mwaiter\u001b[0m\u001b[0;34m.\u001b[0m\u001b[0macquire\u001b[0m\u001b[0;34m(\u001b[0m\u001b[0;34m)\u001b[0m\u001b[0;34m\u001b[0m\u001b[0;34m\u001b[0m\u001b[0m\n\u001b[0m\u001b[1;32m    303\u001b[0m                 \u001b[0mgotit\u001b[0m \u001b[0;34m=\u001b[0m \u001b[0;32mTrue\u001b[0m\u001b[0;34m\u001b[0m\u001b[0;34m\u001b[0m\u001b[0m\n\u001b[1;32m    304\u001b[0m             \u001b[0;32melse\u001b[0m\u001b[0;34m:\u001b[0m\u001b[0;34m\u001b[0m\u001b[0;34m\u001b[0m\u001b[0m\n",
      "\u001b[0;31mKeyboardInterrupt\u001b[0m: "
     ]
    }
   ],
   "source": [
    "#hyperparameter tuning\n",
    "#create a dictionary of parameters to tune\n",
    "param_dist = {\n",
    "    'n_estimators': [50],\n",
    "    'max_features': ['auto', 'sqrt', 'log2'],\n",
    "    'max_depth': [10, 11, 12, 13, 14, 15, 16, 17, 18, 19, 20],\n",
    "    'min_samples_split': [2, 3, 4, 5, 6, 7, 8, 9, 10, 11, 12, 13, 14, 15, 16, 17, 18, 19, 20],\n",
    "    'min_samples_leaf': [1, 2, 3, 4, 5, 6, 7, 8, 9, 10, 11, 12, 13, 14, 15, 16, 17, 18, 19, 20],\n",
    "    'bootstrap': [True]\n",
    "}\n",
    "\n",
    "#create a random search object\n",
    "random_search = RandomizedSearchCV(estimator=RandomForestRegressor(), param_distributions=param_dist, n_iter=10, cv=3, verbose=2, random_state=42, n_jobs=-1)\n",
    "\n",
    "#fit the random search object to the training data\n",
    "random_search.fit(X, y)\n",
    "\n",
    "#print the best parameters\n",
    "print(random_search.best_params_)\n",
    "\n",
    "#print the best score\n",
    "print(random_search.best_score_)\n",
    "\n",
    "#print the best estimator\n",
    "print(random_search.best_estimator_)"
   ]
  },
  {
   "cell_type": "code",
   "execution_count": 219,
   "metadata": {},
   "outputs": [
    {
     "name": "stdout",
     "output_type": "stream",
     "text": [
      "20.79810998733328\n",
      "896.9301064308235\n",
      "-0.019996187396683407\n",
      "[0.02440385 0.03251095 0.04531757 0.03112621 0.03083142 0.01641039\n",
      " 0.03183454 0.01626563 0.00994303 0.01452691 0.00795179 0.11780447\n",
      " 0.00838628 0.0727574  0.03274078 0.00423305 0.02447144 0.03126314\n",
      " 0.04316863 0.01162874 0.02425413 0.0126738  0.0388585  0.01357671\n",
      " 0.16609045 0.01746093 0.01341847 0.02088418 0.02124639 0.03345072\n",
      " 0.00490518 0.00461606 0.00097825 0.00183937 0.0042752  0.00889791\n",
      " 0.0049975 ]\n"
     ]
    }
   ],
   "source": [
    "#create random forest model with best parameters\n",
    "rf_best = RandomForestRegressor(bootstrap=True, criterion='squared_error', max_depth=10, max_features='auto', min_samples_leaf=20, min_samples_split=10, n_estimators=50)\n",
    "#fit the model\n",
    "rf_best.fit(X_jan2018, y_jan2018)\n",
    "#predict on test data\n",
    "y_pred = rf_best.predict(X_jan2019)\n",
    "#print the mean absolute error\n",
    "print(mean_absolute_error(y_jan2019, y_pred))\n",
    "print(mean_squared_error(y_jan2019, y_pred))\n",
    "#print the score\n",
    "print(rf_best.score(X_jan2019, y_jan2019))\n",
    "\n",
    "#create df of feature importances\n",
    "feature_importances = pd.DataFrame(rf_best.feature_importances_, index=X_jan2018.columns, columns=['importance'])\n",
    "#sort the df\n",
    "feature_importances.sort_values('importance', ascending=False, inplace=True)\n",
    "#plot the feature importances\n",
    "feature_importances.plot.barh(figsize=(10, 10), title='Feature Importances of Random Forest')\n",
    "#select the top 15 features\n",
    "top_15_features = rf_best.feature_importances_[:15]\n",
    "#create a list of the top 15 features\n",
    "top_15_features_list = X.columns[:15]\n",
    "#create a dataframe of the top 15 features\n",
    "top_15_features_df = pd.DataFrame({'feature': top_15_features_list, 'importance': top_15_features})\n",
    "#sort the dataframe by importance\n",
    "top_15_features_df = top_15_features_df.sort_values(by='importance', ascending=False)\n",
    "#plot the top 15 features\n",
    "top_15_features_df.plot.barh(x='feature', y='importance', figsize=(10, 10), title='Top 15 Features of the Random Forest Model')"
   ]
  },
  {
   "cell_type": "code",
   "execution_count": 239,
   "metadata": {},
   "outputs": [
    {
     "name": "stdout",
     "output_type": "stream",
     "text": [
      "20.032321328717572\n",
      "0.3295838549015664\n",
      "0.0058250488786102395\n"
     ]
    },
    {
     "data": {
      "text/plain": [
       "<AxesSubplot:ylabel='feature'>"
      ]
     },
     "execution_count": 239,
     "metadata": {},
     "output_type": "execute_result"
    },
    {
     "data": {
      "image/png": "[encoded data removed]",
      "text/plain": [
       "<Figure size 720x720 with 1 Axes>"
      ]
     },
     "metadata": {
      "needs_background": "light"
     },
     "output_type": "display_data"
    }
   ],
   "source": [
    "#create random forest model with best parameters for dec2018\n",
    "rf_dec2018 = RandomForestRegressor(bootstrap=True, criterion='squared_error', max_depth=20, max_features='auto', min_samples_leaf=20, min_samples_split=10, n_estimators=250)\n",
    "#fit the model\n",
    "rf_dec2018.fit(X_dec2018, y_dec2018)\n",
    "#predict on test data\n",
    "y_pred_jan2019 = rf_dec2018.predict(X_jan2019)\n",
    "#print the mean absolute error\n",
    "print(mean_absolute_error(y_jan2019, y_pred_jan2019))\n",
    "#print the score\n",
    "print(rf_dec2018.score(X_dec2018, y_dec2018))\n",
    "print(rf_dec2018.score(X_jan2019, y_jan2019))\n",
    "#select the top 20 features\n",
    "top_20_features = rf_dec2018.feature_importances_[:20]\n",
    "#create a list of the top 20 features\n",
    "top_20_features_list = list(X_dec2018.columns[:20])\n",
    "#create a dataframe of the top 20 features\n",
    "top_20_features_df = pd.DataFrame({'feature': top_20_features_list, 'importance': top_20_features})\n",
    "#sort the dataframe by importance\n",
    "top_20_features_df = top_20_features_df.sort_values(by='importance', ascending=False)\n",
    "#plot the top 20 features\n",
    "top_20_features_df.plot.barh(x='feature', y='importance', figsize=(10,10))"
   ]
  },
  {
   "cell_type": "code",
   "execution_count": 7,
   "metadata": {},
   "outputs": [],
   "source": [
    "#load flight_test data from SQL\n",
    "flight_test = pd.read_sql('SELECT * FROM flights_test', con=conn)"
   ]
  },
  {
   "cell_type": "code",
   "execution_count": 248,
   "metadata": {},
   "outputs": [],
   "source": [
    "flight_test = get_all_features(flight_test)\n",
    "flight_test = df_clean(flight_test)"
   ]
  },
  {
   "cell_type": "code",
   "execution_count": 2,
   "metadata": {},
   "outputs": [
    {
     "ename": "NameError",
     "evalue": "name 'flight_test' is not defined",
     "output_type": "error",
     "traceback": [
      "\u001b[0;31m---------------------------------------------------------------------------\u001b[0m",
      "\u001b[0;31mNameError\u001b[0m                                 Traceback (most recent call last)",
      "\u001b[0;32m<ipython-input-2-a338efb2143a>\u001b[0m in \u001b[0;36m<module>\u001b[0;34m\u001b[0m\n\u001b[0;32m----> 1\u001b[0;31m \u001b[0mflight_test\u001b[0m\u001b[0;34m\u001b[0m\u001b[0;34m\u001b[0m\u001b[0m\n\u001b[0m",
      "\u001b[0;31mNameError\u001b[0m: name 'flight_test' is not defined"
     ]
    }
   ],
   "source": [
    "flight_test"
   ]
  },
  {
   "cell_type": "code",
   "execution_count": null,
   "metadata": {},
   "outputs": [
    {
     "name": "stdout",
     "output_type": "stream",
     "text": [
      "20.032321328717572\n",
      "0.3295838549015664\n",
      "0.0058250488786102395\n"
     ]
    },
    {
     "data": {
      "text/plain": [
       "<AxesSubplot:ylabel='feature'>"
      ]
     },
     "metadata": {},
     "output_type": "display_data"
    },
    {
     "data": {
      "image/png": "[encoded data removed]",
      "text/plain": [
       "<Figure size 720x720 with 1 Axes>"
      ]
     },
     "metadata": {},
     "output_type": "display_data"
    }
   ],
   "source": [
    "#create random forest model with best parameters for dec2019\n",
    "rf_dec2019 = RandomForestRegressor(bootstrap=True, criterion='squared_error', max_depth=20, max_features='auto', min_samples_leaf=20, min_samples_split=10, n_estimators=250)\n",
    "#fit the model\n",
    "rf_dec2019.fit(X_dec2019, y_dec2019)\n",
    "#predict on flight_test data"
   ]
  },
  {
   "cell_type": "code",
   "execution_count": 227,
   "metadata": {},
   "outputs": [],
   "source": [
    "X_jan2018, X_jan2019 = scale_df(X_jan2018, X_jan2019)"
   ]
  },
  {
   "cell_type": "code",
   "execution_count": 229,
   "metadata": {},
   "outputs": [],
   "source": [
    "#rename the columns\n",
    "X_jan2018 = rename_columns(X_jan2018)\n",
    "X_jan2019 = rename_columns(X_jan2019)"
   ]
  },
  {
   "cell_type": "code",
   "execution_count": null,
   "metadata": {},
   "outputs": [],
   "source": [
    "#SVM model\n",
    "svm_model = SVR(kernel='rbf', C=1e3, gamma=0.1)\n",
    "svm_model.fit(X_jan2018, y_jan2018)\n",
    "y_pred_jan2019 = svm_model.predict(X_jan2019)\n",
    "print(mean_absolute_error(y_jan2018, y_pred_jan2019))\n",
    "print(svm_model.score(X_jan2018, y_jan2018))\n",
    "print(svm_model.score(X_jan2019, y_jan2019))\n"
   ]
  },
  {
   "cell_type": "code",
   "execution_count": 232,
   "metadata": {},
   "outputs": [
    {
     "name": "stdout",
     "output_type": "stream",
     "text": [
      "[14:16:35] WARNING: ../src/learner.cc:576: \n",
      "Parameters: { \"silent\" } might not be used.\n",
      "\n",
      "  This could be a false alarm, with some parameters getting used by language bindings but\n",
      "  then being mistakenly passed down to XGBoost core, or some parameter actually being used\n",
      "  but getting flagged wrongly here. Please open an issue if you find any such cases.\n",
      "\n",
      "\n",
      "21.99724434393829\n",
      "-0.11084171718676838\n"
     ]
    },
    {
     "data": {
      "text/plain": [
       "<AxesSubplot:title={'center':'Feature Importances of the XGBoost Model'}, ylabel='feature'>"
      ]
     },
     "execution_count": 232,
     "metadata": {},
     "output_type": "execute_result"
    },
    {
     "data": {
      "image/png": "[encoded data removed]",
      "text/plain": [
       "<Figure size 720x720 with 1 Axes>"
      ]
     },
     "metadata": {
      "needs_background": "light"
     },
     "output_type": "display_data"
    }
   ],
   "source": [
    "#create a XGBoost model\n",
    "xgb_model = XGBRegressor(colsample_bytree=0.2, gamma=0.0, learning_rate=0.01, max_depth=5, min_child_weight=1.5, n_estimators=7200, reg_alpha=0.9, reg_lambda=0.6, subsample=0.2, silent=1, nthread=1)\n",
    "\n",
    "#fit the model\n",
    "xgb_model.fit(X_jan2018, y_jan2018)\n",
    "#predict on test data\n",
    "y_pred = xgb_model.predict(X_jan2019)\n",
    "#print the mean absolute error\n",
    "print(mean_absolute_error(y_jan2019, y_pred))\n",
    "#print the score\n",
    "print(xgb_model.score(X_jan2019, y_jan2019))\n",
    "#create a dataframe of the feature importances\n",
    "xgb_feature_importances = pd.DataFrame({'feature': X_jan2018.columns, 'importance': xgb_model.feature_importances_})\n",
    "#sort the dataframe by importance\n",
    "xgb_feature_importances = xgb_feature_importances.sort_values(by='importance', ascending=False)\n",
    "#plot the feature importances\n",
    "xgb_feature_importances.plot.barh(x='feature', y='importance', figsize=(10,10), title='Feature Importances of the XGBoost Model')\n"
   ]
  },
  {
   "cell_type": "code",
   "execution_count": 209,
   "metadata": {},
   "outputs": [
    {
     "data": {
      "text/plain": [
       "<AxesSubplot:title={'center':'Top 15 Features of the XGBoost Model'}, ylabel='feature'>"
      ]
     },
     "execution_count": 209,
     "metadata": {},
     "output_type": "execute_result"
    },
    {
     "data": {
      "image/png": "[encoded data removed]",
      "text/plain": [
       "<Figure size 720x720 with 1 Axes>"
      ]
     },
     "metadata": {
      "needs_background": "light"
     },
     "output_type": "display_data"
    }
   ],
   "source": [
    "#look at the top 15 features\n",
    "top_15_features = xgb_model.feature_importances_[:15]\n",
    "#create a list of the top 15 features\n",
    "top_15_features_list = X_train.columns[:15]\n",
    "#create a dataframe of the top 15 features\n",
    "top_15_features_df = pd.DataFrame({'feature': top_15_features_list, 'importance': top_15_features})\n",
    "#sort the dataframe by importance\n",
    "top_15_features_df = top_15_features_df.sort_values(by='importance', ascending=False)\n",
    "#plot the top 15 features\n",
    "top_15_features_df.plot.barh(x='feature', y='importance', figsize=(10,10), title='Top 15 Features of the XGBoost Model')"
   ]
  },
  {
   "cell_type": "code",
   "execution_count": 137,
   "metadata": {},
   "outputs": [],
   "source": [
    "#scale 2018 and 2019 data\n",
    "SSscaler = StandardScaler()\n",
    "to_scale = ['Age_of_Aircraft','Carrier_Avg_Delay', 'Carrier_Avg_Carrier_Delay', 'Carrier_Avg_Delay_If_Delayed', 'Carrier_Delayed_Flights', 'temp_c', 'pressure_mb', 'humidity', 'windchill_c', 'heatindex_c', 'dewpoint_c', 'avg_sum_of_delays', 'avg_del_total', 'avg_sum_of_delays_if_del','avg_del_if_delayed', 'percent_delayed']\n",
    "X_dec2018[to_scale] = SSscaler.fit_transform(X_dec2018[to_scale])\n",
    "X_jan2019[to_scale] = SSscaler.transform(X_jan2019[to_scale])\n"
   ]
  },
  {
   "cell_type": "code",
   "execution_count": 138,
   "metadata": {},
   "outputs": [],
   "source": [
    "#min max scaler the 2018 and 2019 data\n",
    "MMscaler = MinMaxScaler(feature_range=(-5,5))\n",
    "to_scale = ['crs_dep_time','crs_arr_time','Origin_Airport','Dest_Airport','Carrier_Total_Flights','Carrier_Percent_Delayed','cloud','vis_km']\n",
    "X_dec2018[to_scale] = MMscaler.fit_transform(X_dec2018[to_scale])\n",
    "X_jan2019[to_scale] = MMscaler.transform(X_jan2019[to_scale])"
   ]
  },
  {
   "cell_type": "code",
   "execution_count": 139,
   "metadata": {},
   "outputs": [],
   "source": [
    "#log transform the 2018 and 2019 data\n",
    "to_scale = ['crs_elapsed_time','wind_kph','precip_mm','gust_kph','total_flights','times_delayed']\n",
    "X_dec2018[to_scale] = np.log1p(X_dec2018[to_scale])\n",
    "X_jan2019[to_scale] = np.log1p(X_jan2019[to_scale])"
   ]
  },
  {
   "cell_type": "code",
   "execution_count": 140,
   "metadata": {},
   "outputs": [
    {
     "name": "stdout",
     "output_type": "stream",
     "text": [
      "21.12930956654516\n",
      "-0.07965822104014086\n"
     ]
    }
   ],
   "source": [
    "#create a XGBoost model\n",
    "xgb_model = XGBRegressor()\n",
    "#fit the model\n",
    "xgb_model.fit(X_dec2018, y_dec2018)\n",
    "#predict on test data\n",
    "y_pred_jan2019 = xgb_model.predict(X_jan2019)\n",
    "#print the mean absolute error\n",
    "print(mean_absolute_error(y_jan2019, y_pred_jan2019))\n",
    "#print the score\n",
    "print(xgb_model.score(X_jan2019, y_jan2019))"
   ]
  },
  {
   "cell_type": "code",
   "execution_count": 105,
   "metadata": {},
   "outputs": [
    {
     "name": "stdout",
     "output_type": "stream",
     "text": [
      "17.439410569188567\n",
      "0.2869180512419657\n",
      "-0.019706138830735576\n"
     ]
    },
    {
     "data": {
      "text/plain": [
       "<AxesSubplot:ylabel='feature'>"
      ]
     },
     "execution_count": 105,
     "metadata": {},
     "output_type": "execute_result"
    },
    {
     "data": {
      "image/png": "[encoded data removed]",
      "text/plain": [
       "<Figure size 720x720 with 1 Axes>"
      ]
     },
     "metadata": {
      "needs_background": "light"
     },
     "output_type": "display_data"
    }
   ],
   "source": [
    "#create random forest model with best parameters for dec2018\n",
    "rf_best_dec2018 = RandomForestRegressor(bootstrap=True, criterion='squared_error', max_depth=10, max_features='auto', min_samples_leaf=10, min_samples_split=10, n_estimators=100)\n",
    "#fit the model\n",
    "rf_best_dec2018.fit(X_dec2018, y_dec2018)\n",
    "#predict on test data\n",
    "y_pred_dec2018 = rf_best_dec2018.predict(X_dec2018)\n",
    "#print the mean absolute error\n",
    "print(mean_absolute_error(y_dec2018, y_pred_dec2018))\n",
    "#print the score\n",
    "print(rf_best_dec2018.score(X_dec2018, y_dec2018))\n",
    "print(rf_best_dec2018.score(X_jan2019, y_jan2019))\n",
    "#select the top 20 features\n",
    "top_20_features = rf_best_dec2018.feature_importances_[:20]\n",
    "#create a list of the top 20 features\n",
    "top_20_features_list = list(X_dec2018.columns[:20])\n",
    "#create a dataframe of the top 20 features\n",
    "top_20_features_df = pd.DataFrame({'feature': top_20_features_list, 'importance': top_20_features})\n",
    "#sort the dataframe by importance\n",
    "top_20_features_df = top_20_features_df.sort_values(by='importance', ascending=False)\n",
    "#plot the top 20 features\n",
    "top_20_features_df.plot.barh(x='feature', y='importance', figsize=(10,10))\n"
   ]
  },
  {
   "cell_type": "code",
   "execution_count": 98,
   "metadata": {},
   "outputs": [
    {
     "data": {
      "text/plain": [
       "<AxesSubplot:ylabel='feature'>"
      ]
     },
     "execution_count": 98,
     "metadata": {},
     "output_type": "execute_result"
    },
    {
     "data": {
      "image/png": "[encoded data removed]",
      "text/plain": [
       "<Figure size 720x720 with 1 Axes>"
      ]
     },
     "metadata": {
      "needs_background": "light"
     },
     "output_type": "display_data"
    }
   ],
   "source": [
    "#select the top 20 features\n",
    "top_20_features = rf_best.feature_importances_[:20]\n",
    "#create a list of the top 20 features\n",
    "top_20_features_list = list(X_train.columns[:20])\n",
    "#create a dataframe of the top 20 features\n",
    "top_20_features_df = pd.DataFrame({'feature': top_20_features_list, 'importance': top_20_features})\n",
    "#sort the dataframe by importance\n",
    "top_20_features_df = top_20_features_df.sort_values(by='importance', ascending=False)\n",
    "#plot the top 20 features\n",
    "top_20_features_df.plot.barh(x='feature', y='importance', figsize=(10,10))"
   ]
  },
  {
   "cell_type": "code",
   "execution_count": 195,
   "metadata": {},
   "outputs": [
    {
     "data": {
      "image/png": "[encoded data removed]",
      "text/plain": [
       "<Figure size 576x432 with 1 Axes>"
      ]
     },
     "metadata": {
      "needs_background": "light"
     },
     "output_type": "display_data"
    }
   ],
   "source": [
    "#select features\n",
    "features = X.columns\n",
    "#create feature importances\n",
    "importances = model.feature_importances_\n",
    "#create dataframe of features and importances\n",
    "feature_importances = pd.DataFrame({'feature': features, 'importance': importances})\n",
    "#sort by importance\n",
    "feature_importances = feature_importances.sort_values(by=['importance'], ascending=False)\n",
    "#plot\n",
    "plt.figure(figsize=(8,6))\n",
    "plt.barh(range(len(feature_importances)), feature_importances.importance, color='b', align='center')\n",
    "plt.yticks(range(len(feature_importances)), feature_importances.feature)\n",
    "plt.xlabel('Importance')\n",
    "plt.ylabel('Feature')\n",
    "plt.show()"
   ]
  },
  {
   "cell_type": "code",
   "execution_count": 236,
   "metadata": {},
   "outputs": [],
   "source": [
    "#create grid search for hyperparameters\n",
    "param_grid = {'n_estimators': [100, 200, 300, 400, 500], 'max_depth': [10, 20, 30, 40, 50]}\n",
    "#create grid search object\n",
    "grid_search = GridSearchCV(model, param_grid, cv=5, scoring='neg_mean_squared_error')\n",
    "#fit grid search\n",
    "grid_search.fit(X_train, y_train)\n",
    "#print best parameters\n",
    "print(grid_search.best_params_)\n",
    "#print best score\n",
    "print(grid_search.best_score_)\n",
    "#print best estimator\n",
    "print(grid_search.best_estimator_)"
   ]
  },
  {
   "cell_type": "code",
   "execution_count": 1,
   "metadata": {},
   "outputs": [
    {
     "ename": "NameError",
     "evalue": "name 'pickle' is not defined",
     "output_type": "error",
     "traceback": [
      "\u001b[0;31m---------------------------------------------------------------------------\u001b[0m",
      "\u001b[0;31mNameError\u001b[0m                                 Traceback (most recent call last)",
      "\u001b[0;32m<ipython-input-1-105777541d7c>\u001b[0m in \u001b[0;36m<module>\u001b[0;34m\u001b[0m\n\u001b[1;32m      1\u001b[0m \u001b[0;31m#save model with pickle\u001b[0m\u001b[0;34m\u001b[0m\u001b[0;34m\u001b[0m\u001b[0;34m\u001b[0m\u001b[0m\n\u001b[1;32m      2\u001b[0m \u001b[0;32mwith\u001b[0m \u001b[0mopen\u001b[0m\u001b[0;34m(\u001b[0m\u001b[0;34m'model.pkl'\u001b[0m\u001b[0;34m,\u001b[0m \u001b[0;34m'wb'\u001b[0m\u001b[0;34m)\u001b[0m \u001b[0;32mas\u001b[0m \u001b[0mf\u001b[0m\u001b[0;34m:\u001b[0m\u001b[0;34m\u001b[0m\u001b[0;34m\u001b[0m\u001b[0m\n\u001b[0;32m----> 3\u001b[0;31m     \u001b[0mpickle\u001b[0m\u001b[0;34m.\u001b[0m\u001b[0mdump\u001b[0m\u001b[0;34m(\u001b[0m\u001b[0mgrid_search\u001b[0m\u001b[0;34m,\u001b[0m \u001b[0mf\u001b[0m\u001b[0;34m)\u001b[0m\u001b[0;34m\u001b[0m\u001b[0;34m\u001b[0m\u001b[0m\n\u001b[0m\u001b[1;32m      4\u001b[0m \u001b[0;34m\u001b[0m\u001b[0m\n\u001b[1;32m      5\u001b[0m \u001b[0;34m\u001b[0m\u001b[0m\n",
      "\u001b[0;31mNameError\u001b[0m: name 'pickle' is not defined"
     ]
    }
   ],
   "source": [
    "#save model with pickle\n",
    "with open('model.pkl', 'wb') as f:\n",
    "    pickle.dump(grid_search, f)\n",
    "\n",
    "    "
   ]
  },
  {
   "cell_type": "code",
   "execution_count": 3,
   "metadata": {},
   "outputs": [
    {
     "ename": "NameError",
     "evalue": "name 'grid_search' is not defined",
     "output_type": "error",
     "traceback": [
      "\u001b[0;31m---------------------------------------------------------------------------\u001b[0m",
      "\u001b[0;31mNameError\u001b[0m                                 Traceback (most recent call last)",
      "\u001b[0;32m<ipython-input-3-9ec790dce7da>\u001b[0m in \u001b[0;36m<module>\u001b[0;34m\u001b[0m\n\u001b[0;32m----> 1\u001b[0;31m \u001b[0mprint\u001b[0m\u001b[0;34m(\u001b[0m\u001b[0mgrid_search\u001b[0m\u001b[0;34m.\u001b[0m\u001b[0mbest_estimator_\u001b[0m\u001b[0;34m)\u001b[0m\u001b[0;34m\u001b[0m\u001b[0;34m\u001b[0m\u001b[0m\n\u001b[0m",
      "\u001b[0;31mNameError\u001b[0m: name 'grid_search' is not defined"
     ]
    }
   ],
   "source": [
    "print(grid_search.best_estimator_)"
   ]
  },
  {
   "cell_type": "code",
   "execution_count": 220,
   "metadata": {},
   "outputs": [],
   "source": [
    "from sklearn.metrics import mean_squared_error\n",
    "\n",
    "def compute_rmse(model, X, y):\n",
    "    y_pred = model.predict(X)\n",
    "    mse = mean_squared_error(y, y_pred)\n",
    "    rmse = np.sqrt(mse)\n",
    "    return rmse"
   ]
  },
  {
   "cell_type": "code",
   "execution_count": 221,
   "metadata": {},
   "outputs": [
    {
     "data": {
      "text/plain": [
       "30.301397787921513"
      ]
     },
     "execution_count": 221,
     "metadata": {},
     "output_type": "execute_result"
    }
   ],
   "source": [
    "compute_rmse(model, X_test, y_test)"
   ]
  },
  {
   "cell_type": "code",
   "execution_count": null,
   "metadata": {},
   "outputs": [],
   "source": []
  }
 ],
 "metadata": {
  "interpreter": {
   "hash": "61eb752513cdfbfc593d5dafedaabac1a903992c1c7426e159453f596aa70de6"
  },
  "kernelspec": {
   "display_name": "Python 3.8.11 64-bit ('base': conda)",
   "language": "python",
   "name": "python3"
  },
  "language_info": {
   "codemirror_mode": {
    "name": "ipython",
    "version": 3
   },
   "file_extension": ".py",
   "mimetype": "text/x-python",
   "name": "python",
   "nbconvert_exporter": "python",
   "pygments_lexer": "ipython3",
   "version": "3.8.11"
  },
  "orig_nbformat": 4
 },
 "nbformat": 4,
 "nbformat_minor": 2
}
