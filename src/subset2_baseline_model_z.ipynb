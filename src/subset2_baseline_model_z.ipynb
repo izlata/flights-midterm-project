{
 "cells": [
  {
   "cell_type": "markdown",
   "metadata": {},
   "source": [
    "# Baseline Model"
   ]
  },
  {
   "cell_type": "code",
   "execution_count": 1,
   "metadata": {},
   "outputs": [],
   "source": [
    "import numpy as np\n",
    "import pandas as pd\n",
    "\n",
    "import matplotlib.pyplot as plt"
   ]
  },
  {
   "cell_type": "markdown",
   "metadata": {},
   "source": [
    "## Training set: 15 Dec 2018 - 31 Dec 2018"
   ]
  },
  {
   "cell_type": "code",
   "execution_count": 5,
   "metadata": {},
   "outputs": [
    {
     "data": {
      "text/html": [
       "<div>\n",
       "<style scoped>\n",
       "    .dataframe tbody tr th:only-of-type {\n",
       "        vertical-align: middle;\n",
       "    }\n",
       "\n",
       "    .dataframe tbody tr th {\n",
       "        vertical-align: top;\n",
       "    }\n",
       "\n",
       "    .dataframe thead th {\n",
       "        text-align: right;\n",
       "    }\n",
       "</style>\n",
       "<table border=\"1\" class=\"dataframe\">\n",
       "  <thead>\n",
       "    <tr style=\"text-align: right;\">\n",
       "      <th></th>\n",
       "      <th>fl_date</th>\n",
       "      <th>mkt_unique_carrier</th>\n",
       "      <th>branded_code_share</th>\n",
       "      <th>mkt_carrier</th>\n",
       "      <th>mkt_carrier_fl_num</th>\n",
       "      <th>op_unique_carrier</th>\n",
       "      <th>tail_num</th>\n",
       "      <th>op_carrier_fl_num</th>\n",
       "      <th>origin_airport_id</th>\n",
       "      <th>origin</th>\n",
       "      <th>...</th>\n",
       "      <th>carrier_delay</th>\n",
       "      <th>weather_delay</th>\n",
       "      <th>nas_delay</th>\n",
       "      <th>security_delay</th>\n",
       "      <th>late_aircraft_delay</th>\n",
       "      <th>first_dep_time</th>\n",
       "      <th>total_add_gtime</th>\n",
       "      <th>longest_add_gtime</th>\n",
       "      <th>no_name</th>\n",
       "      <th>fl_datetime</th>\n",
       "    </tr>\n",
       "  </thead>\n",
       "  <tbody>\n",
       "    <tr>\n",
       "      <th>0</th>\n",
       "      <td>2018-12-22</td>\n",
       "      <td>UA</td>\n",
       "      <td>UA_CODESHARE</td>\n",
       "      <td>UA</td>\n",
       "      <td>3807</td>\n",
       "      <td>ZW</td>\n",
       "      <td>N467AW</td>\n",
       "      <td>3807</td>\n",
       "      <td>11721</td>\n",
       "      <td>FNT</td>\n",
       "      <td>...</td>\n",
       "      <td>NaN</td>\n",
       "      <td>NaN</td>\n",
       "      <td>NaN</td>\n",
       "      <td>NaN</td>\n",
       "      <td>NaN</td>\n",
       "      <td>NaN</td>\n",
       "      <td>NaN</td>\n",
       "      <td>NaN</td>\n",
       "      <td>NaN</td>\n",
       "      <td>2018-12-22</td>\n",
       "    </tr>\n",
       "    <tr>\n",
       "      <th>1</th>\n",
       "      <td>2018-12-19</td>\n",
       "      <td>DL</td>\n",
       "      <td>DL</td>\n",
       "      <td>DL</td>\n",
       "      <td>2402</td>\n",
       "      <td>DL</td>\n",
       "      <td>N338DN</td>\n",
       "      <td>2402</td>\n",
       "      <td>10423</td>\n",
       "      <td>AUS</td>\n",
       "      <td>...</td>\n",
       "      <td>NaN</td>\n",
       "      <td>NaN</td>\n",
       "      <td>NaN</td>\n",
       "      <td>NaN</td>\n",
       "      <td>NaN</td>\n",
       "      <td>NaN</td>\n",
       "      <td>NaN</td>\n",
       "      <td>NaN</td>\n",
       "      <td>NaN</td>\n",
       "      <td>2018-12-19</td>\n",
       "    </tr>\n",
       "    <tr>\n",
       "      <th>2</th>\n",
       "      <td>2018-12-23</td>\n",
       "      <td>UA</td>\n",
       "      <td>UA_CODESHARE</td>\n",
       "      <td>UA</td>\n",
       "      <td>4357</td>\n",
       "      <td>EV</td>\n",
       "      <td>N11544</td>\n",
       "      <td>4357</td>\n",
       "      <td>11267</td>\n",
       "      <td>DAY</td>\n",
       "      <td>...</td>\n",
       "      <td>NaN</td>\n",
       "      <td>NaN</td>\n",
       "      <td>NaN</td>\n",
       "      <td>NaN</td>\n",
       "      <td>NaN</td>\n",
       "      <td>NaN</td>\n",
       "      <td>NaN</td>\n",
       "      <td>NaN</td>\n",
       "      <td>NaN</td>\n",
       "      <td>2018-12-23</td>\n",
       "    </tr>\n",
       "    <tr>\n",
       "      <th>3</th>\n",
       "      <td>2018-12-16</td>\n",
       "      <td>WN</td>\n",
       "      <td>WN</td>\n",
       "      <td>WN</td>\n",
       "      <td>4483</td>\n",
       "      <td>WN</td>\n",
       "      <td>N275WN</td>\n",
       "      <td>4483</td>\n",
       "      <td>14771</td>\n",
       "      <td>SFO</td>\n",
       "      <td>...</td>\n",
       "      <td>NaN</td>\n",
       "      <td>NaN</td>\n",
       "      <td>NaN</td>\n",
       "      <td>NaN</td>\n",
       "      <td>NaN</td>\n",
       "      <td>NaN</td>\n",
       "      <td>NaN</td>\n",
       "      <td>NaN</td>\n",
       "      <td>NaN</td>\n",
       "      <td>2018-12-16</td>\n",
       "    </tr>\n",
       "    <tr>\n",
       "      <th>4</th>\n",
       "      <td>2018-12-18</td>\n",
       "      <td>AA</td>\n",
       "      <td>AA</td>\n",
       "      <td>AA</td>\n",
       "      <td>2539</td>\n",
       "      <td>AA</td>\n",
       "      <td>N812NN</td>\n",
       "      <td>2539</td>\n",
       "      <td>14122</td>\n",
       "      <td>PIT</td>\n",
       "      <td>...</td>\n",
       "      <td>NaN</td>\n",
       "      <td>NaN</td>\n",
       "      <td>NaN</td>\n",
       "      <td>NaN</td>\n",
       "      <td>NaN</td>\n",
       "      <td>NaN</td>\n",
       "      <td>NaN</td>\n",
       "      <td>NaN</td>\n",
       "      <td>NaN</td>\n",
       "      <td>2018-12-18</td>\n",
       "    </tr>\n",
       "  </tbody>\n",
       "</table>\n",
       "<p>5 rows × 43 columns</p>\n",
       "</div>"
      ],
      "text/plain": [
       "      fl_date mkt_unique_carrier branded_code_share mkt_carrier  \\\n",
       "0  2018-12-22                 UA       UA_CODESHARE          UA   \n",
       "1  2018-12-19                 DL                 DL          DL   \n",
       "2  2018-12-23                 UA       UA_CODESHARE          UA   \n",
       "3  2018-12-16                 WN                 WN          WN   \n",
       "4  2018-12-18                 AA                 AA          AA   \n",
       "\n",
       "   mkt_carrier_fl_num op_unique_carrier tail_num  op_carrier_fl_num  \\\n",
       "0                3807                ZW   N467AW               3807   \n",
       "1                2402                DL   N338DN               2402   \n",
       "2                4357                EV   N11544               4357   \n",
       "3                4483                WN   N275WN               4483   \n",
       "4                2539                AA   N812NN               2539   \n",
       "\n",
       "   origin_airport_id origin  ... carrier_delay  weather_delay nas_delay  \\\n",
       "0              11721    FNT  ...           NaN            NaN       NaN   \n",
       "1              10423    AUS  ...           NaN            NaN       NaN   \n",
       "2              11267    DAY  ...           NaN            NaN       NaN   \n",
       "3              14771    SFO  ...           NaN            NaN       NaN   \n",
       "4              14122    PIT  ...           NaN            NaN       NaN   \n",
       "\n",
       "  security_delay  late_aircraft_delay  first_dep_time  total_add_gtime  \\\n",
       "0            NaN                  NaN             NaN              NaN   \n",
       "1            NaN                  NaN             NaN              NaN   \n",
       "2            NaN                  NaN             NaN              NaN   \n",
       "3            NaN                  NaN             NaN              NaN   \n",
       "4            NaN                  NaN             NaN              NaN   \n",
       "\n",
       "   longest_add_gtime  no_name  fl_datetime  \n",
       "0                NaN      NaN   2018-12-22  \n",
       "1                NaN      NaN   2018-12-19  \n",
       "2                NaN      NaN   2018-12-23  \n",
       "3                NaN      NaN   2018-12-16  \n",
       "4                NaN      NaN   2018-12-18  \n",
       "\n",
       "[5 rows x 43 columns]"
      ]
     },
     "execution_count": 5,
     "metadata": {},
     "output_type": "execute_result"
    }
   ],
   "source": [
    "train_set = pd.read_csv('../data/train_dec2018.csv')\n",
    "train_set.head()"
   ]
  },
  {
   "cell_type": "code",
   "execution_count": 3,
   "metadata": {},
   "outputs": [
    {
     "data": {
      "text/plain": [
       "count    40605.000000\n",
       "mean         5.161556\n",
       "std         45.456257\n",
       "min       -102.000000\n",
       "25%        -15.000000\n",
       "50%         -5.000000\n",
       "75%         10.000000\n",
       "max       1214.000000\n",
       "Name: arr_delay, dtype: float64"
      ]
     },
     "execution_count": 3,
     "metadata": {},
     "output_type": "execute_result"
    }
   ],
   "source": [
    "# Summary statistics for arr_delay\n",
    "\n",
    "train_set['arr_delay'].describe()"
   ]
  },
  {
   "cell_type": "code",
   "execution_count": 6,
   "metadata": {},
   "outputs": [
    {
     "data": {
      "text/plain": [
       "(40277, 43)"
      ]
     },
     "execution_count": 6,
     "metadata": {},
     "output_type": "execute_result"
    }
   ],
   "source": [
    "# train_set['arr_delay'].quantile(q=0.99) -> 184\n",
    "\n",
    "# for training we will remove arr_delay > 200\n",
    "\n",
    "train_set = train_set.drop(train_set.index[train_set['arr_delay'] > 200])\n",
    "train_set.shape"
   ]
  },
  {
   "cell_type": "code",
   "execution_count": 7,
   "metadata": {},
   "outputs": [
    {
     "data": {
      "text/plain": [
       "count    40277.000000\n",
       "mean         2.545721\n",
       "std         32.001592\n",
       "min       -102.000000\n",
       "25%        -15.000000\n",
       "50%         -5.000000\n",
       "75%          9.000000\n",
       "max        200.000000\n",
       "Name: arr_delay, dtype: float64"
      ]
     },
     "execution_count": 7,
     "metadata": {},
     "output_type": "execute_result"
    }
   ],
   "source": [
    "train_set['arr_delay'].describe()"
   ]
  },
  {
   "cell_type": "code",
   "execution_count": 8,
   "metadata": {},
   "outputs": [],
   "source": [
    "from modules.data_prep import hhmm_to_min\n",
    "\n",
    "# Add new columns (convert hhmm time into minutes)\n",
    "train_set['crs_dep_time_min'] = train_set['crs_dep_time'].map(lambda x: hhmm_to_min(x))\n",
    "train_set['crs_arr_time_min'] = train_set['crs_arr_time'].map(lambda x: hhmm_to_min(x))"
   ]
  },
  {
   "cell_type": "markdown",
   "metadata": {},
   "source": [
    "## Summary statictics and correlations for numeric variables"
   ]
  },
  {
   "cell_type": "code",
   "execution_count": 10,
   "metadata": {},
   "outputs": [
    {
     "data": {
      "text/html": [
       "<div>\n",
       "<style scoped>\n",
       "    .dataframe tbody tr th:only-of-type {\n",
       "        vertical-align: middle;\n",
       "    }\n",
       "\n",
       "    .dataframe tbody tr th {\n",
       "        vertical-align: top;\n",
       "    }\n",
       "\n",
       "    .dataframe thead th {\n",
       "        text-align: right;\n",
       "    }\n",
       "</style>\n",
       "<table border=\"1\" class=\"dataframe\">\n",
       "  <thead>\n",
       "    <tr style=\"text-align: right;\">\n",
       "      <th></th>\n",
       "      <th>crs_dep_time_min</th>\n",
       "      <th>crs_arr_time_min</th>\n",
       "      <th>crs_elapsed_time</th>\n",
       "      <th>distance</th>\n",
       "      <th>arr_delay</th>\n",
       "    </tr>\n",
       "  </thead>\n",
       "  <tbody>\n",
       "    <tr>\n",
       "      <th>crs_dep_time_min</th>\n",
       "      <td>1.000000</td>\n",
       "      <td>0.685923</td>\n",
       "      <td>-0.026031</td>\n",
       "      <td>-0.005578</td>\n",
       "      <td>0.121755</td>\n",
       "    </tr>\n",
       "    <tr>\n",
       "      <th>crs_arr_time_min</th>\n",
       "      <td>0.685923</td>\n",
       "      <td>1.000000</td>\n",
       "      <td>0.015592</td>\n",
       "      <td>0.019140</td>\n",
       "      <td>0.088270</td>\n",
       "    </tr>\n",
       "    <tr>\n",
       "      <th>crs_elapsed_time</th>\n",
       "      <td>-0.026031</td>\n",
       "      <td>0.015592</td>\n",
       "      <td>1.000000</td>\n",
       "      <td>0.975198</td>\n",
       "      <td>-0.064682</td>\n",
       "    </tr>\n",
       "    <tr>\n",
       "      <th>distance</th>\n",
       "      <td>-0.005578</td>\n",
       "      <td>0.019140</td>\n",
       "      <td>0.975198</td>\n",
       "      <td>1.000000</td>\n",
       "      <td>-0.040284</td>\n",
       "    </tr>\n",
       "    <tr>\n",
       "      <th>arr_delay</th>\n",
       "      <td>0.121755</td>\n",
       "      <td>0.088270</td>\n",
       "      <td>-0.064682</td>\n",
       "      <td>-0.040284</td>\n",
       "      <td>1.000000</td>\n",
       "    </tr>\n",
       "  </tbody>\n",
       "</table>\n",
       "</div>"
      ],
      "text/plain": [
       "                  crs_dep_time_min  crs_arr_time_min  crs_elapsed_time  \\\n",
       "crs_dep_time_min          1.000000          0.685923         -0.026031   \n",
       "crs_arr_time_min          0.685923          1.000000          0.015592   \n",
       "crs_elapsed_time         -0.026031          0.015592          1.000000   \n",
       "distance                 -0.005578          0.019140          0.975198   \n",
       "arr_delay                 0.121755          0.088270         -0.064682   \n",
       "\n",
       "                  distance  arr_delay  \n",
       "crs_dep_time_min -0.005578   0.121755  \n",
       "crs_arr_time_min  0.019140   0.088270  \n",
       "crs_elapsed_time  0.975198  -0.064682  \n",
       "distance          1.000000  -0.040284  \n",
       "arr_delay        -0.040284   1.000000  "
      ]
     },
     "execution_count": 10,
     "metadata": {},
     "output_type": "execute_result"
    }
   ],
   "source": [
    "train_set[['crs_dep_time_min', 'crs_arr_time_min', 'crs_elapsed_time', 'distance', 'arr_delay']].corr()\n",
    "\n",
    "# Correlation between:\n",
    "# distance and crs_elapsed_time (0.98)\n",
    "# crs_dep_time_min and crs_arr_time_min (0.67)\n",
    "# Better to choose one feature from each pair"
   ]
  },
  {
   "cell_type": "code",
   "execution_count": 11,
   "metadata": {},
   "outputs": [
    {
     "data": {
      "text/html": [
       "<div>\n",
       "<style scoped>\n",
       "    .dataframe tbody tr th:only-of-type {\n",
       "        vertical-align: middle;\n",
       "    }\n",
       "\n",
       "    .dataframe tbody tr th {\n",
       "        vertical-align: top;\n",
       "    }\n",
       "\n",
       "    .dataframe thead th {\n",
       "        text-align: right;\n",
       "    }\n",
       "</style>\n",
       "<table border=\"1\" class=\"dataframe\">\n",
       "  <thead>\n",
       "    <tr style=\"text-align: right;\">\n",
       "      <th></th>\n",
       "      <th>crs_dep_time_min</th>\n",
       "      <th>crs_arr_time_min</th>\n",
       "      <th>crs_elapsed_time</th>\n",
       "      <th>distance</th>\n",
       "      <th>arr_delay</th>\n",
       "    </tr>\n",
       "  </thead>\n",
       "  <tbody>\n",
       "    <tr>\n",
       "      <th>count</th>\n",
       "      <td>40277.000000</td>\n",
       "      <td>40277.000000</td>\n",
       "      <td>40277.000000</td>\n",
       "      <td>40277.000000</td>\n",
       "      <td>40277.000000</td>\n",
       "    </tr>\n",
       "    <tr>\n",
       "      <th>mean</th>\n",
       "      <td>806.903816</td>\n",
       "      <td>903.985426</td>\n",
       "      <td>142.957271</td>\n",
       "      <td>796.610125</td>\n",
       "      <td>2.545721</td>\n",
       "    </tr>\n",
       "    <tr>\n",
       "      <th>std</th>\n",
       "      <td>294.615951</td>\n",
       "      <td>309.670731</td>\n",
       "      <td>74.006183</td>\n",
       "      <td>599.034777</td>\n",
       "      <td>32.001592</td>\n",
       "    </tr>\n",
       "    <tr>\n",
       "      <th>min</th>\n",
       "      <td>3.000000</td>\n",
       "      <td>1.000000</td>\n",
       "      <td>24.000000</td>\n",
       "      <td>31.000000</td>\n",
       "      <td>-102.000000</td>\n",
       "    </tr>\n",
       "    <tr>\n",
       "      <th>25%</th>\n",
       "      <td>558.000000</td>\n",
       "      <td>664.000000</td>\n",
       "      <td>90.000000</td>\n",
       "      <td>354.000000</td>\n",
       "      <td>-15.000000</td>\n",
       "    </tr>\n",
       "    <tr>\n",
       "      <th>50%</th>\n",
       "      <td>800.000000</td>\n",
       "      <td>915.000000</td>\n",
       "      <td>125.000000</td>\n",
       "      <td>632.000000</td>\n",
       "      <td>-5.000000</td>\n",
       "    </tr>\n",
       "    <tr>\n",
       "      <th>75%</th>\n",
       "      <td>1050.000000</td>\n",
       "      <td>1155.000000</td>\n",
       "      <td>173.000000</td>\n",
       "      <td>1034.000000</td>\n",
       "      <td>9.000000</td>\n",
       "    </tr>\n",
       "    <tr>\n",
       "      <th>max</th>\n",
       "      <td>1439.000000</td>\n",
       "      <td>1439.000000</td>\n",
       "      <td>703.000000</td>\n",
       "      <td>4983.000000</td>\n",
       "      <td>200.000000</td>\n",
       "    </tr>\n",
       "  </tbody>\n",
       "</table>\n",
       "</div>"
      ],
      "text/plain": [
       "       crs_dep_time_min  crs_arr_time_min  crs_elapsed_time      distance  \\\n",
       "count      40277.000000      40277.000000      40277.000000  40277.000000   \n",
       "mean         806.903816        903.985426        142.957271    796.610125   \n",
       "std          294.615951        309.670731         74.006183    599.034777   \n",
       "min            3.000000          1.000000         24.000000     31.000000   \n",
       "25%          558.000000        664.000000         90.000000    354.000000   \n",
       "50%          800.000000        915.000000        125.000000    632.000000   \n",
       "75%         1050.000000       1155.000000        173.000000   1034.000000   \n",
       "max         1439.000000       1439.000000        703.000000   4983.000000   \n",
       "\n",
       "          arr_delay  \n",
       "count  40277.000000  \n",
       "mean       2.545721  \n",
       "std       32.001592  \n",
       "min     -102.000000  \n",
       "25%      -15.000000  \n",
       "50%       -5.000000  \n",
       "75%        9.000000  \n",
       "max      200.000000  "
      ]
     },
     "execution_count": 11,
     "metadata": {},
     "output_type": "execute_result"
    }
   ],
   "source": [
    "train_set[['crs_dep_time_min', 'crs_arr_time_min', 'crs_elapsed_time', 'distance', 'arr_delay']].describe()"
   ]
  },
  {
   "cell_type": "code",
   "execution_count": 9,
   "metadata": {},
   "outputs": [],
   "source": [
    "# New columns - Log transformations\n",
    "\n",
    "train_set['crs_elapsed_time_log'] = train_set['crs_elapsed_time'].apply(np.log1p)\n",
    "train_set['distance_log'] = train_set['distance'].apply(np.log1p)\n",
    "train_set['crs_dep_time_min_log'] = train_set['crs_dep_time_min'].apply(np.log1p)\n",
    "train_set['crs_arr_time_min_log'] = train_set['crs_arr_time_min'].apply(np.log1p)"
   ]
  },
  {
   "cell_type": "code",
   "execution_count": 13,
   "metadata": {},
   "outputs": [
    {
     "data": {
      "text/html": [
       "<div>\n",
       "<style scoped>\n",
       "    .dataframe tbody tr th:only-of-type {\n",
       "        vertical-align: middle;\n",
       "    }\n",
       "\n",
       "    .dataframe tbody tr th {\n",
       "        vertical-align: top;\n",
       "    }\n",
       "\n",
       "    .dataframe thead th {\n",
       "        text-align: right;\n",
       "    }\n",
       "</style>\n",
       "<table border=\"1\" class=\"dataframe\">\n",
       "  <thead>\n",
       "    <tr style=\"text-align: right;\">\n",
       "      <th></th>\n",
       "      <th>crs_dep_time_min_log</th>\n",
       "      <th>crs_arr_time_min_log</th>\n",
       "      <th>crs_elapsed_time_log</th>\n",
       "      <th>distance_log</th>\n",
       "      <th>arr_delay</th>\n",
       "    </tr>\n",
       "  </thead>\n",
       "  <tbody>\n",
       "    <tr>\n",
       "      <th>count</th>\n",
       "      <td>40277.000000</td>\n",
       "      <td>40277.000000</td>\n",
       "      <td>40277.000000</td>\n",
       "      <td>40277.000000</td>\n",
       "      <td>40277.000000</td>\n",
       "    </tr>\n",
       "    <tr>\n",
       "      <th>mean</th>\n",
       "      <td>6.615627</td>\n",
       "      <td>6.706771</td>\n",
       "      <td>4.854561</td>\n",
       "      <td>6.406800</td>\n",
       "      <td>2.545721</td>\n",
       "    </tr>\n",
       "    <tr>\n",
       "      <th>std</th>\n",
       "      <td>0.428507</td>\n",
       "      <td>0.592718</td>\n",
       "      <td>0.472758</td>\n",
       "      <td>0.772249</td>\n",
       "      <td>32.001592</td>\n",
       "    </tr>\n",
       "    <tr>\n",
       "      <th>min</th>\n",
       "      <td>1.386294</td>\n",
       "      <td>0.693147</td>\n",
       "      <td>3.218876</td>\n",
       "      <td>3.465736</td>\n",
       "      <td>-102.000000</td>\n",
       "    </tr>\n",
       "    <tr>\n",
       "      <th>25%</th>\n",
       "      <td>6.326149</td>\n",
       "      <td>6.499787</td>\n",
       "      <td>4.510860</td>\n",
       "      <td>5.872118</td>\n",
       "      <td>-15.000000</td>\n",
       "    </tr>\n",
       "    <tr>\n",
       "      <th>50%</th>\n",
       "      <td>6.685861</td>\n",
       "      <td>6.820016</td>\n",
       "      <td>4.836282</td>\n",
       "      <td>6.450470</td>\n",
       "      <td>-5.000000</td>\n",
       "    </tr>\n",
       "    <tr>\n",
       "      <th>75%</th>\n",
       "      <td>6.957497</td>\n",
       "      <td>7.052721</td>\n",
       "      <td>5.159055</td>\n",
       "      <td>6.942157</td>\n",
       "      <td>9.000000</td>\n",
       "    </tr>\n",
       "    <tr>\n",
       "      <th>max</th>\n",
       "      <td>7.272398</td>\n",
       "      <td>7.272398</td>\n",
       "      <td>6.556778</td>\n",
       "      <td>8.513988</td>\n",
       "      <td>200.000000</td>\n",
       "    </tr>\n",
       "  </tbody>\n",
       "</table>\n",
       "</div>"
      ],
      "text/plain": [
       "       crs_dep_time_min_log  crs_arr_time_min_log  crs_elapsed_time_log  \\\n",
       "count          40277.000000          40277.000000          40277.000000   \n",
       "mean               6.615627              6.706771              4.854561   \n",
       "std                0.428507              0.592718              0.472758   \n",
       "min                1.386294              0.693147              3.218876   \n",
       "25%                6.326149              6.499787              4.510860   \n",
       "50%                6.685861              6.820016              4.836282   \n",
       "75%                6.957497              7.052721              5.159055   \n",
       "max                7.272398              7.272398              6.556778   \n",
       "\n",
       "       distance_log     arr_delay  \n",
       "count  40277.000000  40277.000000  \n",
       "mean       6.406800      2.545721  \n",
       "std        0.772249     32.001592  \n",
       "min        3.465736   -102.000000  \n",
       "25%        5.872118    -15.000000  \n",
       "50%        6.450470     -5.000000  \n",
       "75%        6.942157      9.000000  \n",
       "max        8.513988    200.000000  "
      ]
     },
     "execution_count": 13,
     "metadata": {},
     "output_type": "execute_result"
    }
   ],
   "source": [
    "train_set[['crs_dep_time_min_log', 'crs_arr_time_min_log', 'crs_elapsed_time_log', 'distance_log', 'arr_delay']].describe()"
   ]
  },
  {
   "cell_type": "code",
   "execution_count": 14,
   "metadata": {},
   "outputs": [
    {
     "data": {
      "text/html": [
       "<div>\n",
       "<style scoped>\n",
       "    .dataframe tbody tr th:only-of-type {\n",
       "        vertical-align: middle;\n",
       "    }\n",
       "\n",
       "    .dataframe tbody tr th {\n",
       "        vertical-align: top;\n",
       "    }\n",
       "\n",
       "    .dataframe thead th {\n",
       "        text-align: right;\n",
       "    }\n",
       "</style>\n",
       "<table border=\"1\" class=\"dataframe\">\n",
       "  <thead>\n",
       "    <tr style=\"text-align: right;\">\n",
       "      <th></th>\n",
       "      <th>crs_dep_time_min_log</th>\n",
       "      <th>crs_arr_time_min_log</th>\n",
       "      <th>crs_elapsed_time_log</th>\n",
       "      <th>distance_log</th>\n",
       "      <th>arr_delay</th>\n",
       "    </tr>\n",
       "  </thead>\n",
       "  <tbody>\n",
       "    <tr>\n",
       "      <th>crs_dep_time_min_log</th>\n",
       "      <td>1.000000</td>\n",
       "      <td>0.329327</td>\n",
       "      <td>-0.058220</td>\n",
       "      <td>-0.038253</td>\n",
       "      <td>0.113972</td>\n",
       "    </tr>\n",
       "    <tr>\n",
       "      <th>crs_arr_time_min_log</th>\n",
       "      <td>0.329327</td>\n",
       "      <td>1.000000</td>\n",
       "      <td>-0.015351</td>\n",
       "      <td>-0.012353</td>\n",
       "      <td>0.029983</td>\n",
       "    </tr>\n",
       "    <tr>\n",
       "      <th>crs_elapsed_time_log</th>\n",
       "      <td>-0.058220</td>\n",
       "      <td>-0.015351</td>\n",
       "      <td>1.000000</td>\n",
       "      <td>0.959542</td>\n",
       "      <td>-0.055537</td>\n",
       "    </tr>\n",
       "    <tr>\n",
       "      <th>distance_log</th>\n",
       "      <td>-0.038253</td>\n",
       "      <td>-0.012353</td>\n",
       "      <td>0.959542</td>\n",
       "      <td>1.000000</td>\n",
       "      <td>-0.026478</td>\n",
       "    </tr>\n",
       "    <tr>\n",
       "      <th>arr_delay</th>\n",
       "      <td>0.113972</td>\n",
       "      <td>0.029983</td>\n",
       "      <td>-0.055537</td>\n",
       "      <td>-0.026478</td>\n",
       "      <td>1.000000</td>\n",
       "    </tr>\n",
       "  </tbody>\n",
       "</table>\n",
       "</div>"
      ],
      "text/plain": [
       "                      crs_dep_time_min_log  crs_arr_time_min_log  \\\n",
       "crs_dep_time_min_log              1.000000              0.329327   \n",
       "crs_arr_time_min_log              0.329327              1.000000   \n",
       "crs_elapsed_time_log             -0.058220             -0.015351   \n",
       "distance_log                     -0.038253             -0.012353   \n",
       "arr_delay                         0.113972              0.029983   \n",
       "\n",
       "                      crs_elapsed_time_log  distance_log  arr_delay  \n",
       "crs_dep_time_min_log             -0.058220     -0.038253   0.113972  \n",
       "crs_arr_time_min_log             -0.015351     -0.012353   0.029983  \n",
       "crs_elapsed_time_log              1.000000      0.959542  -0.055537  \n",
       "distance_log                      0.959542      1.000000  -0.026478  \n",
       "arr_delay                        -0.055537     -0.026478   1.000000  "
      ]
     },
     "execution_count": 14,
     "metadata": {},
     "output_type": "execute_result"
    }
   ],
   "source": [
    "train_set[['crs_dep_time_min_log', 'crs_arr_time_min_log', 'crs_elapsed_time_log', 'distance_log', 'arr_delay']].corr()"
   ]
  },
  {
   "cell_type": "code",
   "execution_count": 33,
   "metadata": {},
   "outputs": [
    {
     "data": {
      "image/png": "[encoded data removed]",
      "text/plain": [
       "<Figure size 360x360 with 1 Axes>"
      ]
     },
     "metadata": {
      "needs_background": "light"
     },
     "output_type": "display_data"
    },
    {
     "data": {
      "image/png": "[encoded data removed]",
      "text/plain": [
       "<Figure size 360x360 with 1 Axes>"
      ]
     },
     "metadata": {
      "needs_background": "light"
     },
     "output_type": "display_data"
    },
    {
     "data": {
      "image/png": "[encoded data removed]",
      "text/plain": [
       "<Figure size 360x360 with 1 Axes>"
      ]
     },
     "metadata": {
      "needs_background": "light"
     },
     "output_type": "display_data"
    },
    {
     "data": {
      "image/png": "[encoded data removed]",
      "text/plain": [
       "<Figure size 360x360 with 1 Axes>"
      ]
     },
     "metadata": {
      "needs_background": "light"
     },
     "output_type": "display_data"
    },
    {
     "data": {
      "image/png": "[encoded data removed]",
      "text/plain": [
       "<Figure size 360x360 with 1 Axes>"
      ]
     },
     "metadata": {
      "needs_background": "light"
     },
     "output_type": "display_data"
    }
   ],
   "source": [
    "for col in ['crs_dep_time_min_log', 'crs_arr_time_min_log', 'crs_elapsed_time_log', 'distance_log', 'arr_delay']:\n",
    "    plt.figure(figsize=(5,5))\n",
    "    plt.hist(train_set[col], bins=80)\n",
    "    plt.title(col)\n",
    "    plt.show()"
   ]
  },
  {
   "cell_type": "markdown",
   "metadata": {},
   "source": [
    "### Training set: features and target"
   ]
  },
  {
   "cell_type": "code",
   "execution_count": 17,
   "metadata": {},
   "outputs": [
    {
     "data": {
      "text/plain": [
       "array([-1., -3.,  5., -9., -3.])"
      ]
     },
     "execution_count": 17,
     "metadata": {},
     "output_type": "execute_result"
    }
   ],
   "source": [
    "y_train = train_set['arr_delay'].values\n",
    "y_train[:5]"
   ]
  },
  {
   "cell_type": "code",
   "execution_count": 18,
   "metadata": {},
   "outputs": [
    {
     "data": {
      "text/plain": [
       "array([[6.91373735, 4.40671925],\n",
       "       [6.60800063, 4.82028157],\n",
       "       [6.54534966, 4.73619845],\n",
       "       [6.43133108, 4.51085951],\n",
       "       [7.03878354, 5.27299956]])"
      ]
     },
     "execution_count": 18,
     "metadata": {},
     "output_type": "execute_result"
    }
   ],
   "source": [
    "X_train = train_set[['crs_dep_time_min_log', 'crs_elapsed_time_log']].values\n",
    "X_train[:5]"
   ]
  },
  {
   "cell_type": "markdown",
   "metadata": {},
   "source": [
    "### Functions for model evaluation"
   ]
  },
  {
   "cell_type": "code",
   "execution_count": 34,
   "metadata": {},
   "outputs": [],
   "source": [
    "# Function to evaluate the model and compute the RMSE\n",
    "\n",
    "from sklearn.metrics import mean_squared_error\n",
    "\n",
    "def compute_rmse(model, X, y):\n",
    "    y_pred = model.predict(X)\n",
    "    mse = mean_squared_error(y, y_pred)\n",
    "    rmse = np.sqrt(mse)\n",
    "    return rmse\n",
    "\n",
    "\n",
    "\n",
    "# Function to display the scores\n",
    "\n",
    "def display_scores(scores):\n",
    "    print(\"Scores:\", scores)\n",
    "    print(\"Mean:\", scores.mean())\n",
    "    print(\"Standard deviation:\", scores.std())"
   ]
  },
  {
   "cell_type": "markdown",
   "metadata": {},
   "source": [
    "## Linear Regression\n",
    "\n",
    "### Features: 'crs_dep_time_min_log', 'crs_elapsed_time_log'"
   ]
  },
  {
   "cell_type": "code",
   "execution_count": 20,
   "metadata": {},
   "outputs": [
    {
     "name": "stdout",
     "output_type": "stream",
     "text": [
      "RMSE (training): 31.754005697198767\n",
      "R-squared (training): 0.015389055385729766\n"
     ]
    }
   ],
   "source": [
    "# Train a Linear Regression model\n",
    "\n",
    "from sklearn.linear_model import LinearRegression\n",
    "\n",
    "lin_reg = LinearRegression()\n",
    "lin_reg.fit(X_train, y_train)\n",
    "\n",
    "# Training error (RMSE) for the Linear Regression model\n",
    "lin_rmse = compute_rmse(lin_reg, X_train, y_train)\n",
    "print(\"RMSE (training):\", lin_rmse)\n",
    "\n",
    "# R-squared\n",
    "lin_r2 = lin_reg.score(X_train, y_train)\n",
    "print(\"R-squared (training):\", lin_r2)"
   ]
  },
  {
   "cell_type": "code",
   "execution_count": 35,
   "metadata": {},
   "outputs": [
    {
     "name": "stdout",
     "output_type": "stream",
     "text": [
      "Scores: [31.61504961 31.66999409 31.15314363 31.87064349 32.46423679]\n",
      "Mean: 31.754613521750496\n",
      "Standard deviation: 0.42554264250577445\n"
     ]
    }
   ],
   "source": [
    "# Evaluation using cross-validation - RMSE\n",
    "\n",
    "from sklearn.model_selection import cross_val_score\n",
    "\n",
    "lin_scores = cross_val_score(lin_reg, X_train, y_train, scoring=\"neg_mean_squared_error\", cv=5)\n",
    "\n",
    "lin_rmse_scores = np.sqrt(-lin_scores)\n",
    "display_scores(lin_rmse_scores)"
   ]
  },
  {
   "cell_type": "markdown",
   "metadata": {},
   "source": [
    "## Test set: 1 Jan 2019 - 7 Jan 2019"
   ]
  },
  {
   "cell_type": "code",
   "execution_count": 25,
   "metadata": {},
   "outputs": [
    {
     "data": {
      "text/plain": [
       "(16570, 43)"
      ]
     },
     "execution_count": 25,
     "metadata": {},
     "output_type": "execute_result"
    }
   ],
   "source": [
    "test_set = pd.read_csv('../data/test_jan2019.csv')\n",
    "test_set.shape"
   ]
  },
  {
   "cell_type": "code",
   "execution_count": 26,
   "metadata": {},
   "outputs": [],
   "source": [
    "# Add new columns (convert hhmm time into minutes)\n",
    "test_set['crs_dep_time_min'] = test_set['crs_dep_time'].map(lambda x: hhmm_to_min(x))\n",
    "test_set['crs_arr_time_min'] = test_set['crs_arr_time'].map(lambda x: hhmm_to_min(x))"
   ]
  },
  {
   "cell_type": "code",
   "execution_count": 27,
   "metadata": {},
   "outputs": [],
   "source": [
    "# New columns - Log transformations\n",
    "\n",
    "test_set['crs_elapsed_time_log'] = test_set['crs_elapsed_time'].apply(np.log1p)\n",
    "test_set['distance_log'] = test_set['distance'].apply(np.log1p)\n",
    "test_set['crs_dep_time_min_log'] = test_set['crs_dep_time_min'].apply(np.log1p)\n",
    "test_set['crs_arr_time_min_log'] = test_set['crs_arr_time_min'].apply(np.log1p)"
   ]
  },
  {
   "cell_type": "markdown",
   "metadata": {},
   "source": [
    "### Test set: features and target"
   ]
  },
  {
   "cell_type": "code",
   "execution_count": 28,
   "metadata": {},
   "outputs": [
    {
     "data": {
      "text/plain": [
       "(16570,)"
      ]
     },
     "execution_count": 28,
     "metadata": {},
     "output_type": "execute_result"
    }
   ],
   "source": [
    "y_test = test_set['arr_delay'].values\n",
    "y_test.shape"
   ]
  },
  {
   "cell_type": "code",
   "execution_count": 29,
   "metadata": {},
   "outputs": [
    {
     "data": {
      "text/plain": [
       "(16570, 2)"
      ]
     },
     "execution_count": 29,
     "metadata": {},
     "output_type": "execute_result"
    }
   ],
   "source": [
    "X_test = test_set[['crs_dep_time_min_log', 'crs_elapsed_time_log']].values\n",
    "X_test.shape"
   ]
  },
  {
   "cell_type": "markdown",
   "metadata": {},
   "source": [
    "### Predictions for the test set"
   ]
  },
  {
   "cell_type": "code",
   "execution_count": 31,
   "metadata": {},
   "outputs": [
    {
     "name": "stdout",
     "output_type": "stream",
     "text": [
      "RMSE (test): 47.83442275635432\n",
      "R-squared (test): 0.004573328505496521\n"
     ]
    }
   ],
   "source": [
    "# Test error (RMSE) for the Linear Regression model\n",
    "lin_rmse_test = compute_rmse(lin_reg, X_test, y_test)\n",
    "print(\"RMSE (test):\", lin_rmse_test)\n",
    "\n",
    "# R-squared\n",
    "lin_r2_test = lin_reg.score(X_test, y_test)\n",
    "print(\"R-squared (test):\", lin_r2_test)"
   ]
  },
  {
   "cell_type": "code",
   "execution_count": null,
   "metadata": {},
   "outputs": [],
   "source": []
  }
 ],
 "metadata": {
  "interpreter": {
   "hash": "fb2f0f5a64de8da264fb90190c730c921c7e3e6be26ecfd32fdcb19b5edd208e"
  },
  "kernelspec": {
   "display_name": "Python 3.8.11 64-bit ('base': conda)",
   "language": "python",
   "name": "python3"
  },
  "language_info": {
   "codemirror_mode": {
    "name": "ipython",
    "version": 3
   },
   "file_extension": ".py",
   "mimetype": "text/x-python",
   "name": "python",
   "nbconvert_exporter": "python",
   "pygments_lexer": "ipython3",
   "version": "3.8.11"
  },
  "orig_nbformat": 4
 },
 "nbformat": 4,
 "nbformat_minor": 2
}
